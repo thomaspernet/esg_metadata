{
 "cells": [
  {
   "cell_type": "markdown",
   "metadata": {
    "kernel": "SoS"
   },
   "source": [
    "# US Name\n",
    "Estimate sign_of_effect as a function of  publication_year and others variables\n",
    "\n",
    "\n",
    "# Description\n",
    "\n",
    "Estimate multi-probit\n",
    "\n",
    "## Variables\n",
    "### Target\n",
    "\n",
    "sign_of_effect\n",
    "\n",
    "### Features\n",
    "\n",
    "- publication_year\n",
    "- publication_type\n",
    "- cnrs_ranking\n",
    "- study_focused_on_social_environmental_behaviour\n",
    "- type_of_data\n",
    "- number_of_observations\n",
    "- evaluation_method_of_the_link_between_csr_and_cfp\n",
    "- developed_new\n",
    "- econometric_method\n",
    "\n",
    "## Complementary information\n",
    "\n",
    "\n",
    "\n",
    "# Metadata\n",
    "\n",
    "- Key: 176_esg_metadata\n",
    "- Epic: Models\n",
    "- US: Replicate previous results\n",
    "- Task tag: #data-analysis, #meta-analysis, #mutlinomial-probit\n",
    "- Analytics reports: \n",
    "\n",
    "# Input Cloud Storage\n",
    "\n",
    "## Table/file\n",
    "\n",
    "**Name**\n",
    "\n",
    "- https://github.com/thomaspernet/esg_metadata/blob/master/01_data_preprocessing/00_download_data/ESG/esg_metaanalysis.py\n",
    "\n",
    "**Github**\n",
    "\n",
    "- papers_meta_analysis\n",
    "\n"
   ]
  },
  {
   "cell_type": "markdown",
   "metadata": {
    "kernel": "SoS"
   },
   "source": [
    "# Connexion server"
   ]
  },
  {
   "cell_type": "code",
   "execution_count": 1,
   "metadata": {
    "kernel": "SoS"
   },
   "outputs": [],
   "source": [
    "from awsPy.aws_authorization import aws_connector\n",
    "from awsPy.aws_s3 import service_s3\n",
    "from awsPy.aws_glue import service_glue\n",
    "from pathlib import Path\n",
    "import pandas as pd\n",
    "import numpy as np\n",
    "#import seaborn as sns\n",
    "import os, shutil, json\n",
    "import sys\n",
    "\n",
    "path = os.getcwd()\n",
    "parent_path = str(Path(path).parent.parent.parent)\n",
    "\n",
    "\n",
    "name_credential = 'financial_dep_SO2_accessKeys.csv'\n",
    "region = 'eu-west-3'\n",
    "bucket = 'datalake-datascience'\n",
    "path_cred = \"{0}/creds/{1}\".format(parent_path, name_credential)"
   ]
  },
  {
   "cell_type": "code",
   "execution_count": 2,
   "metadata": {
    "kernel": "SoS"
   },
   "outputs": [],
   "source": [
    "con = aws_connector.aws_instantiate(credential = path_cred,\n",
    "                                       region = region)\n",
    "client= con.client_boto()\n",
    "s3 = service_s3.connect_S3(client = client,\n",
    "                      bucket = bucket, verbose = False)\n",
    "glue = service_glue.connect_glue(client = client) "
   ]
  },
  {
   "cell_type": "code",
   "execution_count": 3,
   "metadata": {
    "kernel": "SoS"
   },
   "outputs": [],
   "source": [
    "pandas_setting = True\n",
    "if pandas_setting:\n",
    "    #cm = sns.light_palette(\"green\", as_cmap=True)\n",
    "    pd.set_option('display.max_columns', None)\n",
    "    pd.set_option('display.max_colwidth', None)"
   ]
  },
  {
   "cell_type": "code",
   "execution_count": 4,
   "metadata": {
    "kernel": "SoS",
    "nteract": {
     "transient": {
      "deleting": false
     }
    }
   },
   "outputs": [],
   "source": [
    "os.environ['KMP_DUPLICATE_LIB_OK']='True'\n"
   ]
  },
  {
   "cell_type": "markdown",
   "metadata": {
    "kernel": "SoS"
   },
   "source": [
    "# Load tables\n",
    "\n",
    "Since we load the data as a Pandas DataFrame, we want to pass the `dtypes`. We load the schema from Glue to guess the types"
   ]
  },
  {
   "cell_type": "code",
   "execution_count": 5,
   "metadata": {
    "kernel": "SoS"
   },
   "outputs": [],
   "source": [
    "db = 'esg'\n",
    "table = 'papers_meta_analysis'"
   ]
  },
  {
   "cell_type": "code",
   "execution_count": 6,
   "metadata": {
    "kernel": "SoS"
   },
   "outputs": [],
   "source": [
    "dtypes = {}\n",
    "schema = (glue.get_table_information(database = db,\n",
    "                           table = table)\n",
    "          ['Table']['StorageDescriptor']['Columns']\n",
    "         )\n",
    "for key, value in enumerate(schema):\n",
    "    if value['Type'] in ['varchar(12)',\n",
    "                         'varchar(3)',\n",
    "                        'varchar(14)', 'varchar(11)']:\n",
    "        format_ = 'string'\n",
    "    elif value['Type'] in ['decimal(21,5)', 'double', 'bigint', 'int', 'float']:\n",
    "        format_ = 'float'\n",
    "    else:\n",
    "        format_ = value['Type'] \n",
    "    dtypes.update(\n",
    "        {value['Name']:format_}\n",
    "    )"
   ]
  },
  {
   "cell_type": "code",
   "execution_count": 7,
   "metadata": {
    "kernel": "SoS"
   },
   "outputs": [],
   "source": [
    "download_data = True\n",
    "filename = 'df_{}'.format(table)\n",
    "full_path_filename = 'SQL_OUTPUT_ATHENA/CSV/{}.csv'.format(filename)\n",
    "path_local = os.path.join(str(Path(path).parent.parent.parent), \n",
    "                              \"00_data_catalog/temporary_local_data\")\n",
    "df_path = os.path.join(path_local, filename + '.csv')\n",
    "if download_data:\n",
    "    \n",
    "    s3 = service_s3.connect_S3(client = client,\n",
    "                          bucket = bucket, verbose = False)\n",
    "    query = \"\"\"\n",
    "    SELECT * \n",
    "    FROM {}.{}\n",
    "    \"\"\".format(db, table)\n",
    "    try:\n",
    "        df = (s3.run_query(\n",
    "            query=query,\n",
    "            database=db,\n",
    "            s3_output='SQL_OUTPUT_ATHENA',\n",
    "            filename=filename,  # Add filename to print dataframe\n",
    "            destination_key='SQL_OUTPUT_ATHENA/CSV',  #Use it temporarily\n",
    "            dtype = dtypes\n",
    "        )\n",
    "                )\n",
    "    except:\n",
    "        pass\n",
    "    s3.download_file(\n",
    "        key = full_path_filename\n",
    "    )\n",
    "    shutil.move(\n",
    "        filename + '.csv',\n",
    "        os.path.join(path_local, filename + '.csv')\n",
    "    )\n",
    "    s3.remove_file(full_path_filename)\n",
    "    df.head()"
   ]
  },
  {
   "cell_type": "code",
   "execution_count": 8,
   "metadata": {
    "kernel": "SoS",
    "nteract": {
     "transient": {
      "deleting": false
     }
    }
   },
   "outputs": [
    {
     "data": {
      "text/html": [
       "<div>\n",
       "<style scoped>\n",
       "    .dataframe tbody tr th:only-of-type {\n",
       "        vertical-align: middle;\n",
       "    }\n",
       "\n",
       "    .dataframe tbody tr th {\n",
       "        vertical-align: top;\n",
       "    }\n",
       "\n",
       "    .dataframe thead th {\n",
       "        text-align: right;\n",
       "    }\n",
       "</style>\n",
       "<table border=\"1\" class=\"dataframe\">\n",
       "  <thead>\n",
       "    <tr style=\"text-align: right;\">\n",
       "      <th></th>\n",
       "      <th>Name</th>\n",
       "      <th>Type</th>\n",
       "      <th>Comment</th>\n",
       "    </tr>\n",
       "  </thead>\n",
       "  <tbody>\n",
       "    <tr>\n",
       "      <th>0</th>\n",
       "      <td>nr</td>\n",
       "      <td>bigint</td>\n",
       "      <td>NaN</td>\n",
       "    </tr>\n",
       "    <tr>\n",
       "      <th>1</th>\n",
       "      <td>title</td>\n",
       "      <td>string</td>\n",
       "      <td>NaN</td>\n",
       "    </tr>\n",
       "    <tr>\n",
       "      <th>2</th>\n",
       "      <td>first_author</td>\n",
       "      <td>string</td>\n",
       "      <td>NaN</td>\n",
       "    </tr>\n",
       "    <tr>\n",
       "      <th>3</th>\n",
       "      <td>second_author</td>\n",
       "      <td>string</td>\n",
       "      <td>NaN</td>\n",
       "    </tr>\n",
       "    <tr>\n",
       "      <th>4</th>\n",
       "      <td>third_author</td>\n",
       "      <td>string</td>\n",
       "      <td>NaN</td>\n",
       "    </tr>\n",
       "    <tr>\n",
       "      <th>5</th>\n",
       "      <td>publication_year</td>\n",
       "      <td>bigint</td>\n",
       "      <td>NaN</td>\n",
       "    </tr>\n",
       "    <tr>\n",
       "      <th>6</th>\n",
       "      <td>publication_type</td>\n",
       "      <td>string</td>\n",
       "      <td>NaN</td>\n",
       "    </tr>\n",
       "    <tr>\n",
       "      <th>7</th>\n",
       "      <td>publication_name</td>\n",
       "      <td>string</td>\n",
       "      <td>NaN</td>\n",
       "    </tr>\n",
       "    <tr>\n",
       "      <th>8</th>\n",
       "      <td>cnrs_ranking</td>\n",
       "      <td>string</td>\n",
       "      <td>NaN</td>\n",
       "    </tr>\n",
       "    <tr>\n",
       "      <th>9</th>\n",
       "      <td>ranking</td>\n",
       "      <td>int</td>\n",
       "      <td></td>\n",
       "    </tr>\n",
       "    <tr>\n",
       "      <th>10</th>\n",
       "      <td>peer_reviewed</td>\n",
       "      <td>string</td>\n",
       "      <td>NaN</td>\n",
       "    </tr>\n",
       "    <tr>\n",
       "      <th>11</th>\n",
       "      <td>study_focused_on_social_environmental_behaviour</td>\n",
       "      <td>string</td>\n",
       "      <td>NaN</td>\n",
       "    </tr>\n",
       "    <tr>\n",
       "      <th>12</th>\n",
       "      <td>comments_on_sample</td>\n",
       "      <td>string</td>\n",
       "      <td>NaN</td>\n",
       "    </tr>\n",
       "    <tr>\n",
       "      <th>13</th>\n",
       "      <td>type_of_data</td>\n",
       "      <td>string</td>\n",
       "      <td>NaN</td>\n",
       "    </tr>\n",
       "    <tr>\n",
       "      <th>14</th>\n",
       "      <td>sample_size_number_of_companies</td>\n",
       "      <td>string</td>\n",
       "      <td>NaN</td>\n",
       "    </tr>\n",
       "    <tr>\n",
       "      <th>15</th>\n",
       "      <td>first_date_of_observations</td>\n",
       "      <td>bigint</td>\n",
       "      <td>NaN</td>\n",
       "    </tr>\n",
       "    <tr>\n",
       "      <th>16</th>\n",
       "      <td>last_date_of_observations</td>\n",
       "      <td>bigint</td>\n",
       "      <td>NaN</td>\n",
       "    </tr>\n",
       "    <tr>\n",
       "      <th>17</th>\n",
       "      <td>number_of_observations</td>\n",
       "      <td>bigint</td>\n",
       "      <td>NaN</td>\n",
       "    </tr>\n",
       "    <tr>\n",
       "      <th>18</th>\n",
       "      <td>regions_of_selected_firms</td>\n",
       "      <td>string</td>\n",
       "      <td>NaN</td>\n",
       "    </tr>\n",
       "    <tr>\n",
       "      <th>19</th>\n",
       "      <td>study_focusing_on_developing_or_developed_countries</td>\n",
       "      <td>string</td>\n",
       "      <td>NaN</td>\n",
       "    </tr>\n",
       "    <tr>\n",
       "      <th>20</th>\n",
       "      <td>measure_of_corporate_social_responsibility_crp</td>\n",
       "      <td>string</td>\n",
       "      <td>NaN</td>\n",
       "    </tr>\n",
       "    <tr>\n",
       "      <th>21</th>\n",
       "      <td>csr_7_categories</td>\n",
       "      <td>string</td>\n",
       "      <td>NaN</td>\n",
       "    </tr>\n",
       "    <tr>\n",
       "      <th>22</th>\n",
       "      <td>csr_20_categories</td>\n",
       "      <td>string</td>\n",
       "      <td>NaN</td>\n",
       "    </tr>\n",
       "    <tr>\n",
       "      <th>23</th>\n",
       "      <td>unit_for_measure_of_environmental_behaviour</td>\n",
       "      <td>string</td>\n",
       "      <td>NaN</td>\n",
       "    </tr>\n",
       "    <tr>\n",
       "      <th>24</th>\n",
       "      <td>measure_of_financial_performance</td>\n",
       "      <td>string</td>\n",
       "      <td>NaN</td>\n",
       "    </tr>\n",
       "    <tr>\n",
       "      <th>25</th>\n",
       "      <td>cfp_26_categories</td>\n",
       "      <td>string</td>\n",
       "      <td>NaN</td>\n",
       "    </tr>\n",
       "    <tr>\n",
       "      <th>26</th>\n",
       "      <td>unit_for_measure_of_financial_performance</td>\n",
       "      <td>string</td>\n",
       "      <td>NaN</td>\n",
       "    </tr>\n",
       "    <tr>\n",
       "      <th>27</th>\n",
       "      <td>cfp_4_categories</td>\n",
       "      <td>string</td>\n",
       "      <td>NaN</td>\n",
       "    </tr>\n",
       "    <tr>\n",
       "      <th>28</th>\n",
       "      <td>lagged_csr_explanatory_variable</td>\n",
       "      <td>string</td>\n",
       "      <td>NaN</td>\n",
       "    </tr>\n",
       "    <tr>\n",
       "      <th>29</th>\n",
       "      <td>evaluation_method_of_the_link_between_csr_and_cfp</td>\n",
       "      <td>string</td>\n",
       "      <td>NaN</td>\n",
       "    </tr>\n",
       "    <tr>\n",
       "      <th>30</th>\n",
       "      <td>developed_new</td>\n",
       "      <td>string</td>\n",
       "      <td></td>\n",
       "    </tr>\n",
       "    <tr>\n",
       "      <th>31</th>\n",
       "      <td>definition_of_cfp_as_dependent_variable</td>\n",
       "      <td>string</td>\n",
       "      <td>NaN</td>\n",
       "    </tr>\n",
       "    <tr>\n",
       "      <th>32</th>\n",
       "      <td>comments</td>\n",
       "      <td>string</td>\n",
       "      <td>NaN</td>\n",
       "    </tr>\n",
       "    <tr>\n",
       "      <th>33</th>\n",
       "      <td>cfp_regrouping</td>\n",
       "      <td>string</td>\n",
       "      <td>NaN</td>\n",
       "    </tr>\n",
       "    <tr>\n",
       "      <th>34</th>\n",
       "      <td>level_of_significancy</td>\n",
       "      <td>double</td>\n",
       "      <td>NaN</td>\n",
       "    </tr>\n",
       "    <tr>\n",
       "      <th>35</th>\n",
       "      <td>sign_of_effect</td>\n",
       "      <td>string</td>\n",
       "      <td>NaN</td>\n",
       "    </tr>\n",
       "    <tr>\n",
       "      <th>36</th>\n",
       "      <td>standard_error</td>\n",
       "      <td>string</td>\n",
       "      <td>NaN</td>\n",
       "    </tr>\n",
       "    <tr>\n",
       "      <th>37</th>\n",
       "      <td>tstatistic_calculated_with_formula</td>\n",
       "      <td>float</td>\n",
       "      <td></td>\n",
       "    </tr>\n",
       "    <tr>\n",
       "      <th>38</th>\n",
       "      <td>pvalue_calculated_with_formula</td>\n",
       "      <td>float</td>\n",
       "      <td></td>\n",
       "    </tr>\n",
       "    <tr>\n",
       "      <th>39</th>\n",
       "      <td>effect_coeffient_estimator_beta</td>\n",
       "      <td>string</td>\n",
       "      <td>NaN</td>\n",
       "    </tr>\n",
       "    <tr>\n",
       "      <th>40</th>\n",
       "      <td>adjusted_coefficient_of_determination</td>\n",
       "      <td>double</td>\n",
       "      <td>NaN</td>\n",
       "    </tr>\n",
       "    <tr>\n",
       "      <th>41</th>\n",
       "      <td>econometric_method</td>\n",
       "      <td>string</td>\n",
       "      <td>NaN</td>\n",
       "    </tr>\n",
       "  </tbody>\n",
       "</table>\n",
       "</div>"
      ],
      "text/plain": [
       "                                                   Name    Type Comment\n",
       "0                                                    nr  bigint     NaN\n",
       "1                                                 title  string     NaN\n",
       "2                                          first_author  string     NaN\n",
       "3                                         second_author  string     NaN\n",
       "4                                          third_author  string     NaN\n",
       "5                                      publication_year  bigint     NaN\n",
       "6                                      publication_type  string     NaN\n",
       "7                                      publication_name  string     NaN\n",
       "8                                          cnrs_ranking  string     NaN\n",
       "9                                               ranking     int        \n",
       "10                                        peer_reviewed  string     NaN\n",
       "11      study_focused_on_social_environmental_behaviour  string     NaN\n",
       "12                                   comments_on_sample  string     NaN\n",
       "13                                         type_of_data  string     NaN\n",
       "14                      sample_size_number_of_companies  string     NaN\n",
       "15                           first_date_of_observations  bigint     NaN\n",
       "16                            last_date_of_observations  bigint     NaN\n",
       "17                               number_of_observations  bigint     NaN\n",
       "18                            regions_of_selected_firms  string     NaN\n",
       "19  study_focusing_on_developing_or_developed_countries  string     NaN\n",
       "20       measure_of_corporate_social_responsibility_crp  string     NaN\n",
       "21                                     csr_7_categories  string     NaN\n",
       "22                                    csr_20_categories  string     NaN\n",
       "23          unit_for_measure_of_environmental_behaviour  string     NaN\n",
       "24                     measure_of_financial_performance  string     NaN\n",
       "25                                    cfp_26_categories  string     NaN\n",
       "26            unit_for_measure_of_financial_performance  string     NaN\n",
       "27                                     cfp_4_categories  string     NaN\n",
       "28                      lagged_csr_explanatory_variable  string     NaN\n",
       "29    evaluation_method_of_the_link_between_csr_and_cfp  string     NaN\n",
       "30                                        developed_new  string        \n",
       "31              definition_of_cfp_as_dependent_variable  string     NaN\n",
       "32                                             comments  string     NaN\n",
       "33                                       cfp_regrouping  string     NaN\n",
       "34                                level_of_significancy  double     NaN\n",
       "35                                       sign_of_effect  string     NaN\n",
       "36                                       standard_error  string     NaN\n",
       "37                   tstatistic_calculated_with_formula   float        \n",
       "38                       pvalue_calculated_with_formula   float        \n",
       "39                      effect_coeffient_estimator_beta  string     NaN\n",
       "40                adjusted_coefficient_of_determination  double     NaN\n",
       "41                                   econometric_method  string     NaN"
      ]
     },
     "execution_count": 8,
     "metadata": {},
     "output_type": "execute_result"
    }
   ],
   "source": [
    "pd.DataFrame(schema)"
   ]
  },
  {
   "cell_type": "markdown",
   "metadata": {
    "kernel": "SoS",
    "nteract": {
     "transient": {
      "deleting": false
     }
    }
   },
   "source": [
    "## Schema Latex table\n",
    "\n",
    "To rename a variable, please use the following template:\n",
    "\n",
    "```\n",
    "{\n",
    "    'old':'XX',\n",
    "    'new':'XX_1'\n",
    "    }\n",
    "```\n",
    "\n",
    "if you need to pass a latex format with `\\`, you need to duplicate it for instance, `\\text` becomes `\\\\text:\n",
    "\n",
    "```\n",
    "{\n",
    "    'old':'working\\_capital\\_i',\n",
    "    'new':'\\\\text{working capital}_i'\n",
    "    }\n",
    "```\n",
    "\n",
    "Then add it to the key `to_rename`"
   ]
  },
  {
   "cell_type": "code",
   "execution_count": 9,
   "metadata": {
    "kernel": "SoS",
    "nteract": {
     "transient": {
      "deleting": false
     }
    }
   },
   "outputs": [],
   "source": [
    "add_to_dic = True\n",
    "if add_to_dic:\n",
    "    if os.path.exists(\"schema_table.json\"):\n",
    "        os.remove(\"schema_table.json\")\n",
    "    data = {'to_rename':[], 'to_remove':[]}\n",
    "    dic_rename = [\n",
    "        {\n",
    "        'old':'working\\_capital\\_i',\n",
    "        'new':'\\\\text{working capital}_i'\n",
    "        },\n",
    "        {\n",
    "        'old':'periodTRUE',\n",
    "        'new':'\\\\text{period}'\n",
    "        },\n",
    "        {\n",
    "        'old':'tso2\\_mandate\\_c',\n",
    "        'new':'\\\\text{policy mandate}_'\n",
    "        },\n",
    "    ]\n",
    "\n",
    "    data['to_rename'].extend(dic_rename)\n",
    "    with open('schema_table.json', 'w') as outfile:\n",
    "        json.dump(data, outfile)"
   ]
  },
  {
   "cell_type": "code",
   "execution_count": 10,
   "metadata": {
    "kernel": "SoS"
   },
   "outputs": [],
   "source": [
    "sys.path.append(os.path.join(parent_path, 'utils'))\n",
    "import latex.latex_beautify as lb\n",
    "#%load_ext autoreload\n",
    "#%autoreload 2"
   ]
  },
  {
   "cell_type": "code",
   "execution_count": 11,
   "metadata": {
    "kernel": "R"
   },
   "outputs": [
    {
     "name": "stderr",
     "output_type": "stream",
     "text": [
      "Registered S3 methods overwritten by 'ggplot2':\n",
      "  method         from \n",
      "  [.quosures     rlang\n",
      "  c.quosures     rlang\n",
      "  print.quosures rlang\n",
      "Registered S3 method overwritten by 'rvest':\n",
      "  method            from\n",
      "  read_xml.response xml2\n",
      "── Attaching packages ─────────────────────────────────────── tidyverse 1.2.1 ──\n",
      "✔ ggplot2 3.1.1       ✔ purrr   0.3.2  \n",
      "✔ tibble  2.1.1       ✔ dplyr   0.8.0.1\n",
      "✔ tidyr   0.8.3       ✔ stringr 1.4.0  \n",
      "✔ readr   1.3.1       ✔ forcats 0.4.0  \n",
      "── Conflicts ────────────────────────────────────────── tidyverse_conflicts() ──\n",
      "✖ dplyr::filter() masks stats::filter()\n",
      "✖ dplyr::lag()    masks stats::lag()\n",
      "\n",
      "Please cite as: \n",
      "\n",
      " Hlavac, Marek (2018). stargazer: Well-Formatted Regression and Summary Statistics Tables.\n",
      " R package version 5.2.2. https://CRAN.R-project.org/package=stargazer \n",
      "\n"
     ]
    }
   ],
   "source": [
    "options(warn=-1)\n",
    "library(tidyverse)\n",
    "#library(lfe)\n",
    "#library(lazyeval)\n",
    "library(nnet)\n",
    "library('progress')\n",
    "path = \"../../../utils/latex/table_golatex.R\"\n",
    "source(path)"
   ]
  },
  {
   "cell_type": "code",
   "execution_count": 134,
   "metadata": {
    "kernel": "R"
   },
   "outputs": [],
   "source": [
    "#library(mlogit)"
   ]
  },
  {
   "cell_type": "code",
   "execution_count": 72,
   "metadata": {
    "kernel": "R"
   },
   "outputs": [
    {
     "name": "stderr",
     "output_type": "stream",
     "text": [
      "Parsed with column specification:\n",
      "cols(\n",
      "  .default = col_character(),\n",
      "  nr = col_double(),\n",
      "  publication_year = col_double(),\n",
      "  ranking = col_double(),\n",
      "  first_date_of_observations = col_double(),\n",
      "  last_date_of_observations = col_double(),\n",
      "  number_of_observations = col_double(),\n",
      "  level_of_significancy = col_double(),\n",
      "  standard_error = col_double(),\n",
      "  tstatistic_calculated_with_formula = col_double(),\n",
      "  pvalue_calculated_with_formula = col_double(),\n",
      "  effect_coeffient_estimator_beta = col_double(),\n",
      "  adjusted_coefficient_of_determination = col_double()\n",
      ")\n",
      "See spec(...) for full column specifications.\n"
     ]
    }
   ],
   "source": [
    "%get df_path\n",
    "df_final <- read_csv(df_path) %>%\n",
    "mutate_if(is.character, as.factor) %>%\n",
    "mutate(sign_of_effect = relevel(sign_of_effect, ref='Positive'),\n",
    "      nr = as.factor(nr))\n",
    "   # mutate_at(vars(starts_with(\"fe\")), as.factor) %>%\n",
    "#mutate(VAR_TO_RELEVEL = relevel(XX, ref='XX'))"
   ]
  },
  {
   "cell_type": "markdown",
   "metadata": {
    "kernel": "SoS"
   },
   "source": [
    "## Table 1:Multinomial logit\n",
    "\n",
    "$$\n",
    "\\begin{aligned}\n",
    "\\text{Write your equation}\n",
    "\\end{aligned}\n",
    "$$\n",
    "\n",
    "**Candidates**\n",
    "\n",
    "- publication_year\n",
    "- ~publication_type~\n",
    "- ~cnrs_ranking~\n",
    "- study_focused_on_social_environmental_behaviour\n",
    "- ~type_of_data~\n",
    "- ~number_of_observations~\n",
    "- evaluation_method_of_the_link_between_csr_and_cfp\n",
    "- developed_new\n",
    "- ~econometric_method~\n",
    "\n",
    "More about multinomial logit:\n",
    "\n",
    "- https://dynalist.io/d/BP0wtNmNu-p8iF_bzH0OKX6i\n",
    "- https://www.princeton.edu/~otorres/LogitR101.pdf"
   ]
  },
  {
   "cell_type": "code",
   "execution_count": 16,
   "metadata": {
    "kernel": "R"
   },
   "outputs": [
    {
     "data": {
      "text/html": [
       "<table>\n",
       "<thead><tr><th scope=col>nr</th><th scope=col>title</th><th scope=col>first_author</th><th scope=col>second_author</th><th scope=col>third_author</th><th scope=col>publication_year</th><th scope=col>publication_type</th><th scope=col>publication_name</th><th scope=col>cnrs_ranking</th><th scope=col>ranking</th><th scope=col>...</th><th scope=col>comments</th><th scope=col>cfp_regrouping</th><th scope=col>level_of_significancy</th><th scope=col>sign_of_effect</th><th scope=col>standard_error</th><th scope=col>tstatistic_calculated_with_formula</th><th scope=col>pvalue_calculated_with_formula</th><th scope=col>effect_coeffient_estimator_beta</th><th scope=col>adjusted_coefficient_of_determination</th><th scope=col>econometric_method</th></tr></thead>\n",
       "<tbody>\n",
       "\t<tr><td>1                                                                                                                                                                    </td><td>Corporate social responsibility financial instability and corporate financial performance: Linear non-linear and spillover effects – The case of the CAC 40 companies</td><td>Abderrahmane Jahmanea                                                                                                                                                </td><td>Brahim Gaiesb                                                                                                                                                        </td><td>NA                                                                                                                                                                   </td><td>2020                                                                                                                                                                 </td><td>Journal Article                                                                                                                                                      </td><td>Finance Research Letters                                                                                                                                             </td><td>3                                                                                                                                                                    </td><td>3                                                                                                                                                                    </td><td>...                                                                                                                                                                  </td><td>NA                                                                                                                                                                   </td><td>NA                                                                                                                                                                   </td><td>0.95                                                                                                                                                                 </td><td>Negative                                                                                                                                                             </td><td>NA                                                                                                                                                                   </td><td>NA                                                                                                                                                                   </td><td>NA                                                                                                                                                                   </td><td>NA                                                                                                                                                                   </td><td>NA                                                                                                                                                                   </td><td>Correlation Matrix                                                                                                                                                   </td></tr>\n",
       "\t<tr><td>1                                                                                                                                                                    </td><td>Corporate social responsibility financial instability and corporate financial performance: Linear non-linear and spillover effects – The case of the CAC 40 companies</td><td>Abderrahmane Jahmanea                                                                                                                                                </td><td>Brahim Gaiesb                                                                                                                                                        </td><td>NA                                                                                                                                                                   </td><td>2020                                                                                                                                                                 </td><td>Journal Article                                                                                                                                                      </td><td>Finance Research Letters                                                                                                                                             </td><td>3                                                                                                                                                                    </td><td>3                                                                                                                                                                    </td><td>...                                                                                                                                                                  </td><td>NA                                                                                                                                                                   </td><td>NA                                                                                                                                                                   </td><td>0.95                                                                                                                                                                 </td><td>Negative                                                                                                                                                             </td><td>NA                                                                                                                                                                   </td><td>NA                                                                                                                                                                   </td><td>NA                                                                                                                                                                   </td><td>NA                                                                                                                                                                   </td><td>NA                                                                                                                                                                   </td><td>Correlation Matrix                                                                                                                                                   </td></tr>\n",
       "</tbody>\n",
       "</table>\n"
      ],
      "text/latex": [
       "\\begin{tabular}{r|llllllllllllllllllllllllllllllllllllllllll}\n",
       " nr & title & first\\_author & second\\_author & third\\_author & publication\\_year & publication\\_type & publication\\_name & cnrs\\_ranking & ranking & ... & comments & cfp\\_regrouping & level\\_of\\_significancy & sign\\_of\\_effect & standard\\_error & tstatistic\\_calculated\\_with\\_formula & pvalue\\_calculated\\_with\\_formula & effect\\_coeffient\\_estimator\\_beta & adjusted\\_coefficient\\_of\\_determination & econometric\\_method\\\\\n",
       "\\hline\n",
       "\t 1                                                                                                                                                                     & Corporate social responsibility financial instability and corporate financial performance: Linear non-linear and spillover effects – The case of the CAC 40 companies & Abderrahmane Jahmanea                                                                                                                                                 & Brahim Gaiesb                                                                                                                                                         & NA                                                                                                                                                                    & 2020                                                                                                                                                                  & Journal Article                                                                                                                                                       & Finance Research Letters                                                                                                                                              & 3                                                                                                                                                                     & 3                                                                                                                                                                     & ...                                                                                                                                                                   & NA                                                                                                                                                                    & NA                                                                                                                                                                    & 0.95                                                                                                                                                                  & Negative                                                                                                                                                              & NA                                                                                                                                                                    & NA                                                                                                                                                                    & NA                                                                                                                                                                    & NA                                                                                                                                                                    & NA                                                                                                                                                                    & Correlation Matrix                                                                                                                                                   \\\\\n",
       "\t 1                                                                                                                                                                     & Corporate social responsibility financial instability and corporate financial performance: Linear non-linear and spillover effects – The case of the CAC 40 companies & Abderrahmane Jahmanea                                                                                                                                                 & Brahim Gaiesb                                                                                                                                                         & NA                                                                                                                                                                    & 2020                                                                                                                                                                  & Journal Article                                                                                                                                                       & Finance Research Letters                                                                                                                                              & 3                                                                                                                                                                     & 3                                                                                                                                                                     & ...                                                                                                                                                                   & NA                                                                                                                                                                    & NA                                                                                                                                                                    & 0.95                                                                                                                                                                  & Negative                                                                                                                                                              & NA                                                                                                                                                                    & NA                                                                                                                                                                    & NA                                                                                                                                                                    & NA                                                                                                                                                                    & NA                                                                                                                                                                    & Correlation Matrix                                                                                                                                                   \\\\\n",
       "\\end{tabular}\n"
      ],
      "text/markdown": [
       "\n",
       "| nr | title | first_author | second_author | third_author | publication_year | publication_type | publication_name | cnrs_ranking | ranking | ... | comments | cfp_regrouping | level_of_significancy | sign_of_effect | standard_error | tstatistic_calculated_with_formula | pvalue_calculated_with_formula | effect_coeffient_estimator_beta | adjusted_coefficient_of_determination | econometric_method |\n",
       "|---|---|---|---|---|---|---|---|---|---|---|---|---|---|---|---|---|---|---|---|---|\n",
       "| 1                                                                                                                                                                     | Corporate social responsibility financial instability and corporate financial performance: Linear non-linear and spillover effects – The case of the CAC 40 companies | Abderrahmane Jahmanea                                                                                                                                                 | Brahim Gaiesb                                                                                                                                                         | NA                                                                                                                                                                    | 2020                                                                                                                                                                  | Journal Article                                                                                                                                                       | Finance Research Letters                                                                                                                                              | 3                                                                                                                                                                     | 3                                                                                                                                                                     | ...                                                                                                                                                                   | NA                                                                                                                                                                    | NA                                                                                                                                                                    | 0.95                                                                                                                                                                  | Negative                                                                                                                                                              | NA                                                                                                                                                                    | NA                                                                                                                                                                    | NA                                                                                                                                                                    | NA                                                                                                                                                                    | NA                                                                                                                                                                    | Correlation Matrix                                                                                                                                                    |\n",
       "| 1                                                                                                                                                                     | Corporate social responsibility financial instability and corporate financial performance: Linear non-linear and spillover effects – The case of the CAC 40 companies | Abderrahmane Jahmanea                                                                                                                                                 | Brahim Gaiesb                                                                                                                                                         | NA                                                                                                                                                                    | 2020                                                                                                                                                                  | Journal Article                                                                                                                                                       | Finance Research Letters                                                                                                                                              | 3                                                                                                                                                                     | 3                                                                                                                                                                     | ...                                                                                                                                                                   | NA                                                                                                                                                                    | NA                                                                                                                                                                    | 0.95                                                                                                                                                                  | Negative                                                                                                                                                              | NA                                                                                                                                                                    | NA                                                                                                                                                                    | NA                                                                                                                                                                    | NA                                                                                                                                                                    | NA                                                                                                                                                                    | Correlation Matrix                                                                                                                                                    |\n",
       "\n"
      ],
      "text/plain": [
       "  nr\n",
       "1 1 \n",
       "2 1 \n",
       "  title                                                                                                                                                                \n",
       "1 Corporate social responsibility financial instability and corporate financial performance: Linear non-linear and spillover effects – The case of the CAC 40 companies\n",
       "2 Corporate social responsibility financial instability and corporate financial performance: Linear non-linear and spillover effects – The case of the CAC 40 companies\n",
       "  first_author          second_author third_author publication_year\n",
       "1 Abderrahmane Jahmanea Brahim Gaiesb NA           2020            \n",
       "2 Abderrahmane Jahmanea Brahim Gaiesb NA           2020            \n",
       "  publication_type publication_name         cnrs_ranking ranking ... comments\n",
       "1 Journal Article  Finance Research Letters 3            3       ... NA      \n",
       "2 Journal Article  Finance Research Letters 3            3       ... NA      \n",
       "  cfp_regrouping level_of_significancy sign_of_effect standard_error\n",
       "1 NA             0.95                  Negative       NA            \n",
       "2 NA             0.95                  Negative       NA            \n",
       "  tstatistic_calculated_with_formula pvalue_calculated_with_formula\n",
       "1 NA                                 NA                            \n",
       "2 NA                                 NA                            \n",
       "  effect_coeffient_estimator_beta adjusted_coefficient_of_determination\n",
       "1 NA                              NA                                   \n",
       "2 NA                              NA                                   \n",
       "  econometric_method\n",
       "1 Correlation Matrix\n",
       "2 Correlation Matrix"
      ]
     },
     "metadata": {},
     "output_type": "display_data"
    }
   ],
   "source": [
    "df_final%>%head(2)"
   ]
  },
  {
   "cell_type": "code",
   "execution_count": 106,
   "metadata": {
    "kernel": "SoS",
    "nteract": {
     "transient": {
      "deleting": false
     }
    }
   },
   "outputs": [],
   "source": [
    "folder = 'Tables_0'\n",
    "table_nb = 1\n",
    "table = 'table_{}'.format(table_nb)\n",
    "path = os.path.join(folder, table + '.txt')\n",
    "if os.path.exists(folder) == False:\n",
    "        os.mkdir(folder)\n",
    "for ext in ['.txt', '.tex', '.pdf']:\n",
    "    x = [a for a in os.listdir(folder) if a.endswith(ext)]\n",
    "    [os.remove(os.path.join(folder, i)) for i in x]"
   ]
  },
  {
   "cell_type": "code",
   "execution_count": 50,
   "metadata": {
    "kernel": "R"
   },
   "outputs": [
    {
     "data": {
      "text/plain": [
       "\n",
       "     Positive Insignificant      Negative \n",
       "          674           559           245 "
      ]
     },
     "metadata": {},
     "output_type": "display_data"
    }
   ],
   "source": [
    "table(df_final$sign_of_effect)"
   ]
  },
  {
   "cell_type": "code",
   "execution_count": 96,
   "metadata": {
    "kernel": "R"
   },
   "outputs": [
    {
     "data": {
      "text/html": [
       "<table>\n",
       "<thead><tr><th scope=col>sign_of_effect</th><th scope=col>mean(publication_year)</th><th scope=col>median(publication_year)</th><th scope=col>mean(number_of_observations, na.rm = TRUE)</th><th scope=col>median(number_of_observations, na.rm = TRUE)</th></tr></thead>\n",
       "<tbody>\n",
       "\t<tr><td>Positive     </td><td>2012.622     </td><td>2015         </td><td>2350.623     </td><td>651.5        </td></tr>\n",
       "\t<tr><td>Insignificant</td><td>2012.581     </td><td>2012         </td><td>1662.771     </td><td>494.0        </td></tr>\n",
       "\t<tr><td>Negative     </td><td>2012.584     </td><td>2013         </td><td>3095.988     </td><td>868.0        </td></tr>\n",
       "</tbody>\n",
       "</table>\n"
      ],
      "text/latex": [
       "\\begin{tabular}{r|lllll}\n",
       " sign\\_of\\_effect & mean(publication\\_year) & median(publication\\_year) & mean(number\\_of\\_observations, na.rm = TRUE) & median(number\\_of\\_observations, na.rm = TRUE)\\\\\n",
       "\\hline\n",
       "\t Positive      & 2012.622      & 2015          & 2350.623      & 651.5        \\\\\n",
       "\t Insignificant & 2012.581      & 2012          & 1662.771      & 494.0        \\\\\n",
       "\t Negative      & 2012.584      & 2013          & 3095.988      & 868.0        \\\\\n",
       "\\end{tabular}\n"
      ],
      "text/markdown": [
       "\n",
       "| sign_of_effect | mean(publication_year) | median(publication_year) | mean(number_of_observations, na.rm = TRUE) | median(number_of_observations, na.rm = TRUE) |\n",
       "|---|---|---|---|---|\n",
       "| Positive      | 2012.622      | 2015          | 2350.623      | 651.5         |\n",
       "| Insignificant | 2012.581      | 2012          | 1662.771      | 494.0         |\n",
       "| Negative      | 2012.584      | 2013          | 3095.988      | 868.0         |\n",
       "\n"
      ],
      "text/plain": [
       "  sign_of_effect mean(publication_year) median(publication_year)\n",
       "1 Positive       2012.622               2015                    \n",
       "2 Insignificant  2012.581               2012                    \n",
       "3 Negative       2012.584               2013                    \n",
       "  mean(number_of_observations, na.rm = TRUE)\n",
       "1 2350.623                                  \n",
       "2 1662.771                                  \n",
       "3 3095.988                                  \n",
       "  median(number_of_observations, na.rm = TRUE)\n",
       "1 651.5                                       \n",
       "2 494.0                                       \n",
       "3 868.0                                       "
      ]
     },
     "metadata": {},
     "output_type": "display_data"
    }
   ],
   "source": [
    "df_final %>% \n",
    "group_by(sign_of_effect) %>%\n",
    "summarize(\n",
    "    mean(publication_year), median(publication_year),\n",
    "mean(number_of_observations, na.rm=TRUE), median(number_of_observations, na.rm=TRUE))"
   ]
  },
  {
   "cell_type": "markdown",
   "metadata": {
    "kernel": "R"
   },
   "source": [
    "Not enough variability in the outcome"
   ]
  },
  {
   "cell_type": "code",
   "execution_count": 58,
   "metadata": {
    "kernel": "R"
   },
   "outputs": [
    {
     "data": {
      "text/plain": [
       "               \n",
       "                ??? ADERSE Congress Journal Article Online Journal\n",
       "  Positive        4               2             661              5\n",
       "  Insignificant   5               4             537             12\n",
       "  Negative        3               0             226             15\n",
       "               \n",
       "                Working Paper\n",
       "  Positive                  2\n",
       "  Insignificant             1\n",
       "  Negative                  1"
      ]
     },
     "metadata": {},
     "output_type": "display_data"
    }
   ],
   "source": [
    "table(df_final$sign_of_effect, df_final$publication_type)"
   ]
  },
  {
   "cell_type": "code",
   "execution_count": 60,
   "metadata": {
    "kernel": "R"
   },
   "outputs": [
    {
     "data": {
      "text/plain": [
       "               \n",
       "                  ?   0   1 1eg  1g   2   3   4\n",
       "  Positive       20 273  34   9  95 118  75  50\n",
       "  Insignificant  17 246  24   9  38 176  13  36\n",
       "  Negative        3  90  15   2  21  72  21  21"
      ]
     },
     "metadata": {},
     "output_type": "display_data"
    }
   ],
   "source": [
    "table(df_final$sign_of_effect, df_final$cnrs_ranking)"
   ]
  },
  {
   "cell_type": "markdown",
   "metadata": {
    "kernel": "R"
   },
   "source": [
    "Biased toward ` Environmental Social and Governance`"
   ]
  },
  {
   "cell_type": "code",
   "execution_count": 61,
   "metadata": {
    "kernel": "R"
   },
   "outputs": [
    {
     "data": {
      "text/plain": [
       "               \n",
       "                Environmental Environmental and Social Environmental Social\n",
       "  Positive                 15                       58                  109\n",
       "  Insignificant            15                       37                  101\n",
       "  Negative                  6                        9                   57\n",
       "               \n",
       "                Environmental Social and Governance Social\n",
       "  Positive                                      396     96\n",
       "  Insignificant                                 378     28\n",
       "  Negative                                      173      0"
      ]
     },
     "metadata": {},
     "output_type": "display_data"
    }
   ],
   "source": [
    "table(df_final$sign_of_effect, df_final$study_focused_on_social_environmental_behaviour)"
   ]
  },
  {
   "cell_type": "markdown",
   "metadata": {
    "kernel": "R"
   },
   "source": [
    "Not enough variability in the outcome: `???` and `Longitudinal study`"
   ]
  },
  {
   "cell_type": "code",
   "execution_count": 62,
   "metadata": {
    "kernel": "R"
   },
   "outputs": [
    {
     "data": {
      "text/plain": [
       "               \n",
       "                ??? Cross-section Longitudinal data Longitudinal study\n",
       "  Positive        1           102                48                  7\n",
       "  Insignificant   0           131                11                  8\n",
       "  Negative        0            34                18                  0\n",
       "               \n",
       "                Panel data\n",
       "  Positive             509\n",
       "  Insignificant        407\n",
       "  Negative             193"
      ]
     },
     "metadata": {},
     "output_type": "display_data"
    }
   ],
   "source": [
    "table(df_final$sign_of_effect, df_final$type_of_data)"
   ]
  },
  {
   "cell_type": "code",
   "execution_count": 63,
   "metadata": {
    "kernel": "R"
   },
   "outputs": [
    {
     "data": {
      "text/plain": [
       "               \n",
       "                Correlation Regression\n",
       "  Positive              289        278\n",
       "  Insignificant         165        287\n",
       "  Negative               85        120"
      ]
     },
     "metadata": {},
     "output_type": "display_data"
    }
   ],
   "source": [
    "table(df_final$sign_of_effect, df_final$evaluation_method_of_the_link_between_csr_and_cfp)"
   ]
  },
  {
   "cell_type": "code",
   "execution_count": 64,
   "metadata": {
    "kernel": "R"
   },
   "outputs": [
    {
     "data": {
      "text/plain": [
       "               \n",
       "                Developed Developing Worldwide\n",
       "  Positive            278        120       162\n",
       "  Insignificant       170         94       184\n",
       "  Negative            101         40        64"
      ]
     },
     "metadata": {},
     "output_type": "display_data"
    }
   ],
   "source": [
    "table(df_final$sign_of_effect, df_final$developed_new)"
   ]
  },
  {
   "cell_type": "markdown",
   "metadata": {
    "kernel": "R"
   },
   "source": [
    "Not enough variability in the outcome"
   ]
  },
  {
   "cell_type": "code",
   "execution_count": 65,
   "metadata": {
    "kernel": "R"
   },
   "outputs": [
    {
     "data": {
      "text/plain": [
       "               \n",
       "                2SLS  AR Correlation Matrix Fixed effects GLS GMM  IV\n",
       "  Positive        18   6                290            47  10  17  11\n",
       "  Insignificant    5   5                165            43   6  36   4\n",
       "  Negative         4   3                 85            26   5  13   1\n",
       "               \n",
       "                Multiple Linear Regression Newey Non-linear\n",
       "  Positive                              96     3          8\n",
       "  Insignificant                        110     5         17\n",
       "  Negative                              34     4          5\n",
       "               \n",
       "                Partial Least Squares Piecewise Pooled PSM Random Effects\n",
       "  Positive                          7         6     10   3             15\n",
       "  Insignificant                     1         4     30   0              6\n",
       "  Negative                          0         5      5   0             13\n",
       "               \n",
       "                Simple Linear Regression Simultaneous model Structural Tobit\n",
       "  Positive                             0                  3         10     8\n",
       "  Insignificant                        4                  7          4     0\n",
       "  Negative                             0                  2          0     0"
      ]
     },
     "metadata": {},
     "output_type": "display_data"
    }
   ],
   "source": [
    "table(df_final$sign_of_effect, df_final$econometric_method)"
   ]
  },
  {
   "cell_type": "markdown",
   "metadata": {
    "kernel": "R"
   },
   "source": [
    "The model controls for the paper's title but is not reported in the table"
   ]
  },
  {
   "cell_type": "code",
   "execution_count": 124,
   "metadata": {
    "kernel": "R"
   },
   "outputs": [
    {
     "name": "stdout",
     "output_type": "stream",
     "text": [
      "# weights:  360 (238 variable)\n",
      "initial  value 1332.616706 \n",
      "iter  10 value 924.003806\n",
      "iter  20 value 838.485661\n",
      "iter  30 value 828.270992\n",
      "iter  40 value 826.965945\n",
      "iter  50 value 826.834577\n",
      "iter  60 value 826.782601\n",
      "iter  70 value 826.779133\n",
      "final  value 826.778970 \n",
      "converged\n",
      "\n",
      "==========================================================================================================================\n",
      "                                                                                       Insignificant         Negative     \n",
      "                                                                                            (1)                 (2)       \n",
      "--------------------------------------------------------------------------------------------------------------------------\n",
      "publication_year                                                                         -0.004***           -0.006***    \n",
      "                                                                                         (0.0001)            (0.0001)     \n",
      "                                                                                                                          \n",
      "study_focused_on_social_environmental_behaviourEnvironmental and Social                   0.269**            2.206***     \n",
      "                                                                                          (0.109)             (0.048)     \n",
      "                                                                                                                          \n",
      "study_focused_on_social_environmental_behaviourEnvironmental Social                      2.231***            2.181***     \n",
      "                                                                                          (0.131)             (0.100)     \n",
      "                                                                                                                          \n",
      "study_focused_on_social_environmental_behaviourEnvironmental Social and Governance       5.906***            11.088***    \n",
      "                                                                                          (0.124)             (0.108)     \n",
      "                                                                                                                          \n",
      "study_focused_on_social_environmental_behaviourSocial                                    -5.521***           -4.890***    \n",
      "                                                                                          (0.056)             (0.000)     \n",
      "                                                                                                                          \n",
      "evaluation_method_of_the_link_between_csr_and_cfpRegression                              1.358***            0.661***     \n",
      "                                                                                          (0.157)             (0.185)     \n",
      "                                                                                                                          \n",
      "developed_newDeveloping                                                                  -2.504***           -6.771***    \n",
      "                                                                                          (0.134)             (0.128)     \n",
      "                                                                                                                          \n",
      "developed_newWorldwide                                                                   -2.847***           -4.907***    \n",
      "                                                                                          (0.129)             (0.143)     \n",
      "                                                                                                                          \n",
      "Constant                                                                                 0.039***            -0.359***    \n",
      "                                                                                          (0.001)             (0.001)     \n",
      "                                                                                                                          \n",
      "Akaike Inf. Crit.                                                                        2,089.558           2,089.558    \n",
      "==========================================================================================================================\n",
      "Notes:                                                                              ***Significant at the 1 percent level.\n",
      "                                                                                     **Significant at the 5 percent level.\n",
      "                                                                                     *Significant at the 10 percent level.\n"
     ]
    }
   ],
   "source": [
    "%get path table\n",
    "t_0 <- multinom(sign_of_effect ~ \n",
    "                #number_of_observations + \n",
    "                publication_year + \n",
    "                #publication_type +\n",
    "                study_focused_on_social_environmental_behaviour +\n",
    "                evaluation_method_of_the_link_between_csr_and_cfp +\n",
    "                developed_new + \n",
    "                nr,\n",
    "                data=df_final)\n",
    "            \n",
    "dep <- \"Dependent variable: Sign of effect\"\n",
    "#fe1 <- list(\n",
    "#    c(\"XXXXX\", \"Yes\")\n",
    "#             )\n",
    "\n",
    "#table_1 <- go_latex(list(\n",
    "#    t_0#,t_1, t_2, t_3\n",
    "#),\n",
    "#    title=\"TITLE\",\n",
    "#    dep_var = dep,\n",
    "#    addFE=FALSE,\n",
    "#    save=TRUE,\n",
    "#    note = FALSE,\n",
    "#    name=path\n",
    "#) \n",
    "stargazer(t_0, type=\"text\",  omit = \"nr\", style = \"qje\")"
   ]
  },
  {
   "cell_type": "markdown",
   "metadata": {
    "kernel": "R"
   },
   "source": [
    "### relative risk ratios (marginal effect)\n",
    "\n",
    "**How to read**\n",
    "\n",
    "- Publication year\n",
    "    - Keeping all other variables constant, if the publication increases one unit, the paper is 0.995 times more likely to stay in the negative category as compared to the positive category (the risk or odds is .05% lower).\n",
    "    \n",
    "When the RRR is above one, the odd of the positive class is stronger (larger probability, keeping everything else constant)    "
   ]
  },
  {
   "cell_type": "code",
   "execution_count": 125,
   "metadata": {
    "kernel": "R"
   },
   "outputs": [
    {
     "name": "stdout",
     "output_type": "stream",
     "text": [
      "\n",
      "===============================================================================================================\n",
      "                                                                                       Dependent variable:     \n",
      "                                                                                   ----------------------------\n",
      "                                                                                   Insignificant    Negative   \n",
      "                                                                                        (1)            (2)     \n",
      "---------------------------------------------------------------------------------------------------------------\n",
      "publication_year                                                                      0.996***      0.994***   \n",
      "                                                                                      (0.0001)      (0.0001)   \n",
      "                                                                                                               \n",
      "study_focused_on_social_environmental_behaviourEnvironmental and Social               1.309**       9.075***   \n",
      "                                                                                      (0.109)        (0.048)   \n",
      "                                                                                                               \n",
      "study_focused_on_social_environmental_behaviourEnvironmental Social                   9.305***      8.853***   \n",
      "                                                                                      (0.131)        (0.100)   \n",
      "                                                                                                               \n",
      "study_focused_on_social_environmental_behaviourEnvironmental Social and Governance   367.052***   65,357.300***\n",
      "                                                                                      (0.124)        (0.108)   \n",
      "                                                                                                               \n",
      "study_focused_on_social_environmental_behaviourSocial                                 0.004***      0.008***   \n",
      "                                                                                      (0.056)        (0.000)   \n",
      "                                                                                                               \n",
      "evaluation_method_of_the_link_between_csr_and_cfpRegression                           3.889***      1.937***   \n",
      "                                                                                      (0.157)        (0.185)   \n",
      "                                                                                                               \n",
      "developed_newDeveloping                                                               0.082***      0.001***   \n",
      "                                                                                      (0.134)        (0.128)   \n",
      "                                                                                                               \n",
      "developed_newWorldwide                                                                0.058***      0.007***   \n",
      "                                                                                      (0.129)        (0.143)   \n",
      "                                                                                                               \n",
      "Constant                                                                              1.040***      0.698***   \n",
      "                                                                                      (0.001)        (0.001)   \n",
      "                                                                                                               \n",
      "---------------------------------------------------------------------------------------------------------------\n",
      "Akaike Inf. Crit.                                                                    2,089.558      2,089.558  \n",
      "===============================================================================================================\n",
      "Note:                                                                               *p<0.1; **p<0.05; ***p<0.01\n"
     ]
    }
   ],
   "source": [
    "t_0.rrr = exp(coef(t_0))\n",
    "stargazer(t_0,\n",
    "          type=\"text\",\n",
    "          coef=list(t_0.rrr),\n",
    "          p.auto=FALSE,\n",
    "          omit = \"nr\")"
   ]
  },
  {
   "cell_type": "code",
   "execution_count": 92,
   "metadata": {
    "kernel": "SoS"
   },
   "outputs": [],
   "source": [
    "#tbe1  = \"Reference group: Positive \" \\\n",
    "#\"\\sym{*} Significance at the 10\\%, \\sym{**} Significance at the 5\\%, \\sym{***} Significance at the 1\\%.\"\n",
    "\n",
    "#multicolumn ={\n",
    "#    'Eligible': 2,\n",
    "#    'Non-Eligible': 1,\n",
    "#    'All': 1,\n",
    "#    'All benchmark': 1,\n",
    "#}\n",
    "\n",
    "#multi_lines_dep = '(city/product/trade regime/year)'\n",
    "#new_r = ['& Insignificant', 'Negative']\n",
    "#lb.beautify(table_number = table_nb,\n",
    "            #reorder_var = reorder,\n",
    "            #multi_lines_dep = multi_lines_dep,\n",
    "#            new_row= new_r,\n",
    "            #multicolumn = multicolumn,\n",
    "#            table_nte = tbe1,\n",
    "#            jupyter_preview = True,\n",
    "#            resolution = 200,\n",
    "#            folder = folder)"
   ]
  },
  {
   "cell_type": "markdown",
   "metadata": {
    "kernel": "SoS",
    "nteract": {
     "transient": {
      "deleting": false
     }
    }
   },
   "source": [
    "# Generate reports"
   ]
  },
  {
   "cell_type": "code",
   "execution_count": 126,
   "metadata": {
    "kernel": "python3",
    "nteract": {
     "transient": {
      "deleting": false
     }
    },
    "outputExpanded": false
   },
   "outputs": [],
   "source": [
    "import os, time, shutil, urllib, ipykernel, json\n",
    "from pathlib import Path\n",
    "from notebook import notebookapp\n",
    "import sys\n",
    "path = os.getcwd()\n",
    "parent_path = str(Path(path).parent.parent.parent)\n",
    "sys.path.append(os.path.join(parent_path, 'utils'))\n",
    "import make_toc"
   ]
  },
  {
   "cell_type": "code",
   "execution_count": 127,
   "metadata": {
    "kernel": "SoS"
   },
   "outputs": [],
   "source": [
    "name_json = 'parameters_ETL_pollution_credit_constraint.json'\n",
    "path_json = os.path.join(str(Path(path).parent.parent), 'utils',name_json)"
   ]
  },
  {
   "cell_type": "code",
   "execution_count": 128,
   "metadata": {
    "kernel": "python3",
    "nteract": {
     "transient": {
      "deleting": false
     }
    },
    "outputExpanded": false
   },
   "outputs": [],
   "source": [
    "def create_report(extension = \"html\", keep_code = False, notebookname = None):\n",
    "    \"\"\"\n",
    "    Create a report from the current notebook and save it in the \n",
    "    Report folder (Parent-> child directory)\n",
    "    \n",
    "    1. Exctract the current notbook name\n",
    "    2. Convert the Notebook \n",
    "    3. Move the newly created report\n",
    "    \n",
    "    Args:\n",
    "    extension: string. Can be \"html\", \"pdf\", \"md\"\n",
    "    \n",
    "    \n",
    "    \"\"\"\n",
    "    \n",
    "    ### Get notebook name\n",
    "    connection_file = os.path.basename(ipykernel.get_connection_file())\n",
    "    kernel_id = connection_file.split('-', 1)[0].split('.')[0]\n",
    "\n",
    "    for srv in notebookapp.list_running_servers():\n",
    "        try:\n",
    "            if srv['token']=='' and not srv['password']:  \n",
    "                req = urllib.request.urlopen(srv['url']+'api/sessions')\n",
    "            else:\n",
    "                req = urllib.request.urlopen(srv['url']+ \\\n",
    "                                             'api/sessions?token=' + \\\n",
    "                                             srv['token'])\n",
    "            sessions = json.load(req)\n",
    "            notebookname = sessions[0]['name']\n",
    "        except:\n",
    "            notebookname = notebookname  \n",
    "    \n",
    "    sep = '.'\n",
    "    path = os.getcwd()\n",
    "    #parent_path = str(Path(path).parent)\n",
    "    \n",
    "    ### Path report\n",
    "    #path_report = \"{}/Reports\".format(parent_path)\n",
    "    #path_report = \"{}/Reports\".format(path)\n",
    "    \n",
    "    ### Path destination\n",
    "    name_no_extension = notebookname.split(sep, 1)[0]\n",
    "    source_to_move = name_no_extension +'.{}'.format(extension)\n",
    "    dest = os.path.join(path,'Reports', source_to_move)\n",
    "    \n",
    "    ### Generate notebook\n",
    "    if keep_code:\n",
    "        os.system('jupyter nbconvert --to {} {}'.format(\n",
    "    extension,notebookname))\n",
    "    else:\n",
    "        os.system('jupyter nbconvert --no-input --to {} {}'.format(\n",
    "    extension,notebookname))\n",
    "    \n",
    "    ### Move notebook to report folder\n",
    "    #time.sleep(5)\n",
    "    shutil.move(source_to_move, dest)\n",
    "    print(\"Report Available at this adress:\\n {}\".format(dest))"
   ]
  },
  {
   "cell_type": "code",
   "execution_count": 132,
   "metadata": {
    "kernel": "python3",
    "nteract": {
     "transient": {
      "deleting": false
     }
    },
    "outputExpanded": false
   },
   "outputs": [
    {
     "name": "stdout",
     "output_type": "stream",
     "text": [
      "Report Available at this adress:\n",
      " /home/ubuntu/esg_metadata/02_data_analysis/01_model_estimation/00_replicate_results/Reports/00_replicate_tables.html\n"
     ]
    }
   ],
   "source": [
    "create_report(extension = \"html\", keep_code = True, notebookname = \"00_replicate_tables.ipynb\")"
   ]
  },
  {
   "cell_type": "code",
   "execution_count": null,
   "metadata": {
    "kernel": "python3"
   },
   "outputs": [],
   "source": [
    "### Update TOC in Github\n",
    "for p in [parent_path,\n",
    "          str(Path(path).parent),\n",
    "          #os.path.join(str(Path(path).parent), \"00_download_data_from\"),\n",
    "          #os.path.join(str(Path(path).parent.parent), \"02_data_analysis\"),\n",
    "          #os.path.join(str(Path(path).parent.parent), \"02_data_analysis\", \"00_statistical_exploration\"),\n",
    "          #os.path.join(str(Path(path).parent.parent), \"02_data_analysis\", \"01_model_estimation\"),\n",
    "         ]:\n",
    "    try:\n",
    "        os.remove(os.path.join(p, 'README.md'))\n",
    "    except:\n",
    "        pass\n",
    "    path_parameter = os.path.join(parent_path,'utils', name_json)\n",
    "    md_lines =  make_toc.create_index(cwd = p, path_parameter = path_parameter)\n",
    "    md_out_fn = os.path.join(p,'README.md')\n",
    "    \n",
    "    if p == parent_path:\n",
    "    \n",
    "        make_toc.replace_index(md_out_fn, md_lines, Header = os.path.basename(p).replace('_', ' '), add_description = True, path_parameter = path_parameter)\n",
    "    else:\n",
    "        make_toc.replace_index(md_out_fn, md_lines, Header = os.path.basename(p).replace('_', ' '), add_description = False)"
   ]
  }
 ],
 "metadata": {
  "jupytext": {
   "formats": "ipynb,md"
  },
  "kernel_info": {
   "name": "python3"
  },
  "kernelspec": {
   "display_name": "SoS",
   "language": "sos",
   "name": "sos"
  },
  "language_info": {
   "codemirror_mode": "sos",
   "file_extension": ".sos",
   "mimetype": "text/x-sos",
   "name": "sos",
   "nbconvert_exporter": "sos_notebook.converter.SoS_Exporter",
   "pygments_lexer": "sos"
  },
  "nteract": {
   "version": "0.26.0"
  },
  "sos": {
   "kernels": [
    [
     "R",
     "ir",
     "R",
     "#DCDCDA",
     "r"
    ],
    [
     "SoS",
     "sos",
     "",
     "",
     "sos"
    ],
    [
     "python3",
     "python3",
     "python",
     "",
     {
      "name": "ipython",
      "version": 3
     }
    ]
   ],
   "version": "0.20.1"
  },
  "toc": {
   "base_numbering": 1,
   "nav_menu": {},
   "number_sections": true,
   "sideBar": true,
   "skip_h1_title": false,
   "title_cell": "Table of Contents",
   "title_sidebar": "Contents",
   "toc_cell": false,
   "toc_position": {},
   "toc_section_display": true,
   "toc_window_display": false
  }
 },
 "nbformat": 4,
 "nbformat_minor": 4
}
