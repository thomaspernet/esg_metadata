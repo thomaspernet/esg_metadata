{
 "cells": [
  {
   "cell_type": "markdown",
   "metadata": {
    "kernel": "SoS"
   },
   "source": [
    "# US Name\n",
    "Model estimate Estimate sign of effect\n",
    "\n",
    "\n",
    "# Description\n",
    "\n",
    "None\n",
    "\n",
    "# Metadata\n",
    "\n",
    "- Key: 242_esg_metadata \n",
    "- Epic: Models\n",
    "- US: Estimate sign of effect\n",
    "- Task tag: #draft, #polymer, #sign-of-effect\n",
    "- Analytics reports: \n",
    "\n",
    "# Input\n",
    "\n",
    "## Table/file\n",
    "\n",
    "**Name**\n",
    "\n",
    "None\n",
    "\n",
    "**Github**\n",
    "\n",
    "- https://github.com/thomaspernet/esg_metadata/blob/master/02_data_analysis/01_model_train_evaluate/01_sign_of_effect/00_sign_of_effect_classification.md\n",
    "\n"
   ]
  },
  {
   "cell_type": "markdown",
   "metadata": {
    "kernel": "SoS"
   },
   "source": [
    "# Connexion server"
   ]
  },
  {
   "cell_type": "code",
   "execution_count": null,
   "metadata": {
    "kernel": "SoS"
   },
   "outputs": [],
   "source": [
    "from awsPy.aws_authorization import aws_connector\n",
    "from awsPy.aws_s3 import service_s3\n",
    "from awsPy.aws_glue import service_glue\n",
    "from pathlib import Path\n",
    "import pandas as pd\n",
    "import numpy as np\n",
    "#import seaborn as sns\n",
    "import os, shutil, json\n",
    "import sys\n",
    "\n",
    "path = os.getcwd()\n",
    "parent_path = str(Path(path).parent.parent.parent)\n",
    "\n",
    "\n",
    "name_credential = 'financial_dep_SO2_accessKeys.csv'\n",
    "region = 'eu-west-2'\n",
    "bucket = 'datalake-london'\n",
    "path_cred = \"{0}/creds/{1}\".format(parent_path, name_credential)"
   ]
  },
  {
   "cell_type": "code",
   "execution_count": null,
   "metadata": {
    "kernel": "SoS"
   },
   "outputs": [],
   "source": [
    "con = aws_connector.aws_instantiate(credential = path_cred,\n",
    "                                       region = region)\n",
    "client= con.client_boto()\n",
    "s3 = service_s3.connect_S3(client = client,\n",
    "                      bucket = bucket, verbose = False)\n",
    "glue = service_glue.connect_glue(client = client) "
   ]
  },
  {
   "cell_type": "code",
   "execution_count": null,
   "metadata": {
    "kernel": "SoS"
   },
   "outputs": [],
   "source": [
    "pandas_setting = True\n",
    "if pandas_setting:\n",
    "    #cm = sns.light_palette(\"green\", as_cmap=True)\n",
    "    pd.set_option('display.max_columns', None)\n",
    "    pd.set_option('display.max_colwidth', None)"
   ]
  },
  {
   "cell_type": "code",
   "execution_count": null,
   "metadata": {
    "kernel": "SoS",
    "nteract": {
     "transient": {
      "deleting": false
     }
    }
   },
   "outputs": [],
   "source": [
    "os.environ['KMP_DUPLICATE_LIB_OK']='True'\n"
   ]
  },
  {
   "cell_type": "markdown",
   "metadata": {
    "kernel": "SoS"
   },
   "source": [
    "# Load tables\n",
    "\n",
    "Since we load the data as a Pandas DataFrame, we want to pass the `dtypes`. We load the schema from Glue to guess the types"
   ]
  },
  {
   "cell_type": "code",
   "execution_count": null,
   "metadata": {
    "kernel": "SoS"
   },
   "outputs": [],
   "source": [
    "db = 'esg'\n",
    "table = 'meta_analysis_esg_cfp'"
   ]
  },
  {
   "cell_type": "code",
   "execution_count": null,
   "metadata": {
    "kernel": "SoS"
   },
   "outputs": [],
   "source": [
    "dtypes = {}\n",
    "schema = (glue.get_table_information(database = db,\n",
    "                           table = table)\n",
    "          ['Table']['StorageDescriptor']['Columns']\n",
    "         )\n",
    "for key, value in enumerate(schema):\n",
    "    if value['Type'] in ['varchar(12)',\n",
    "                         'varchar(3)',\n",
    "                        'varchar(14)', 'varchar(11)']:\n",
    "        format_ = 'string'\n",
    "    elif value['Type'] in ['decimal(21,5)', 'double', 'bigint', 'int', 'float']:\n",
    "        format_ = 'float'\n",
    "    else:\n",
    "        format_ = value['Type'] \n",
    "    dtypes.update(\n",
    "        {value['Name']:format_}\n",
    "    )"
   ]
  },
  {
   "cell_type": "code",
   "execution_count": null,
   "metadata": {
    "kernel": "SoS"
   },
   "outputs": [],
   "source": [
    "download_data = True\n",
    "filename = 'df_{}'.format(table)\n",
    "full_path_filename = 'SQL_OUTPUT_ATHENA/CSV/{}.csv'.format(filename)\n",
    "path_local = os.path.join(str(Path(path).parent.parent.parent), \n",
    "                              \"00_data_catalog/temporary_local_data\")\n",
    "df_path = os.path.join(path_local, filename + '.csv')\n",
    "if download_data:\n",
    "    \n",
    "    s3 = service_s3.connect_S3(client = client,\n",
    "                          bucket = bucket, verbose = False)\n",
    "    query = \"\"\"\n",
    "    SELECT * \n",
    "    FROM {}.{}\n",
    "    WHERE first_date_of_observations IS NOT NULL and last_date_of_observations IS NOT NULL and adjusted_model != 'TO_REMOVE'\n",
    "    \"\"\".format(db, table)\n",
    "    try:\n",
    "        df = (s3.run_query(\n",
    "            query=query,\n",
    "            database=db,\n",
    "            s3_output='SQL_OUTPUT_ATHENA',\n",
    "            filename=filename,  # Add filename to print dataframe\n",
    "            destination_key='SQL_OUTPUT_ATHENA/CSV',  #Use it temporarily\n",
    "            dtype = dtypes\n",
    "        )\n",
    "                )\n",
    "    except:\n",
    "        pass\n",
    "    s3.download_file(\n",
    "        key = full_path_filename\n",
    "    )\n",
    "    shutil.move(\n",
    "        filename + '.csv',\n",
    "        os.path.join(path_local, filename + '.csv')\n",
    "    )\n",
    "    s3.remove_file(full_path_filename)\n",
    "df.head(2)"
   ]
  },
  {
   "cell_type": "code",
   "execution_count": null,
   "metadata": {
    "kernel": "SoS"
   },
   "outputs": [],
   "source": [
    "df['adjusted_model'].unique()"
   ]
  },
  {
   "cell_type": "code",
   "execution_count": null,
   "metadata": {
    "kernel": "SoS",
    "nteract": {
     "transient": {
      "deleting": false
     }
    }
   },
   "outputs": [],
   "source": [
    "pd.DataFrame(schema)"
   ]
  },
  {
   "cell_type": "markdown",
   "metadata": {
    "kernel": "SoS",
    "nteract": {
     "transient": {
      "deleting": false
     }
    }
   },
   "source": [
    "## Schema Latex table\n",
    "\n",
    "To rename a variable, please use the following template:\n",
    "\n",
    "```\n",
    "{\n",
    "    'old':'XX',\n",
    "    'new':'XX_1'\n",
    "    }\n",
    "```\n",
    "\n",
    "if you need to pass a latex format with `\\`, you need to duplicate it for instance, `\\text` becomes `\\\\text:\n",
    "\n",
    "```\n",
    "{\n",
    "    'old':'working\\_capital\\_i',\n",
    "    'new':'\\\\text{working capital}_i'\n",
    "    }\n",
    "```\n",
    "\n",
    "Then add it to the key `to_rename`"
   ]
  },
  {
   "cell_type": "code",
   "execution_count": null,
   "metadata": {
    "kernel": "SoS",
    "nteract": {
     "transient": {
      "deleting": false
     }
    }
   },
   "outputs": [],
   "source": [
    "add_to_dic = False\n",
    "if add_to_dic:\n",
    "    if os.path.exists(\"schema_table.json\"):\n",
    "        os.remove(\"schema_table.json\")\n",
    "    data = {'to_rename':[], 'to_remove':[]}\n",
    "    dic_rename = [\n",
    "        {\n",
    "        'old':'working\\_capital\\_i',\n",
    "        'new':'\\\\text{working capital}_i'\n",
    "        },\n",
    "    ]\n",
    "\n",
    "    data['to_rename'].extend(dic_rename)\n",
    "    with open('schema_table.json', 'w') as outfile:\n",
    "        json.dump(data, outfile)"
   ]
  },
  {
   "cell_type": "code",
   "execution_count": null,
   "metadata": {
    "kernel": "SoS"
   },
   "outputs": [],
   "source": [
    "sys.path.append(os.path.join(parent_path, 'utils'))\n",
    "import latex.latex_beautify as lb\n",
    "#%load_ext autoreload\n",
    "#%autoreload 2"
   ]
  },
  {
   "cell_type": "code",
   "execution_count": null,
   "metadata": {
    "kernel": "SoS"
   },
   "outputs": [],
   "source": [
    "#!conda install -c conda-forge r-lmtest -y"
   ]
  },
  {
   "cell_type": "code",
   "execution_count": null,
   "metadata": {
    "kernel": "R"
   },
   "outputs": [],
   "source": [
    "options(warn=-1)\n",
    "library(tidyverse)\n",
    "library(\"sandwich\")\n",
    "library(\"lmtest\")\n",
    "#library(lfe)\n",
    "#library(lazyeval)\n",
    "#library(nnet)\n",
    "library('progress')\n",
    "path = \"../../../utils/latex/table_golatex.R\"\n",
    "source(path)"
   ]
  },
  {
   "cell_type": "code",
   "execution_count": null,
   "metadata": {
    "kernel": "R"
   },
   "outputs": [],
   "source": [
    "%get df_path\n",
    "df_final <- read_csv(df_path) %>%\n",
    "mutate_if(is.character, as.factor) %>%\n",
    "mutate(\n",
    "    sign_of_effect = relevel(sign_of_effect, ref='INSIGNIFICANT'),\n",
    "    adjusted_model = relevel(adjusted_model, ref='OTHER'),\n",
    "    adjusted_dependent = relevel(adjusted_dependent, ref='OTHER'),\n",
    "      id = as.factor(id)\n",
    ") "
   ]
  },
  {
   "cell_type": "code",
   "execution_count": null,
   "metadata": {
    "kernel": "R"
   },
   "outputs": [],
   "source": [
    "transpose(df_final %>% \n",
    "    select_if(function(x) any(is.na(x))) %>% \n",
    "    summarise_each(funs(sum(is.na(.)))))"
   ]
  },
  {
   "cell_type": "markdown",
   "metadata": {
    "kernel": "R"
   },
   "source": [
    "GLM does not clustered the standard error so, we compute it by hand"
   ]
  },
  {
   "cell_type": "code",
   "execution_count": null,
   "metadata": {
    "kernel": "R"
   },
   "outputs": [],
   "source": [
    "se_robust <- function(x)\n",
    "  coeftest(x, vcov. = sandwich::sandwich\n",
    "          )[, 2]\n",
    "se_robust_clustered <- function(x)\n",
    "  coeftest(x,\n",
    "         vcov. = vcovCL(t_2, cluster = df_final %>% filter(adjusted_model != 'TO_REMOVE') %>% select(id), type = \"HC0\")\n",
    "        )[, 2]"
   ]
  },
  {
   "cell_type": "markdown",
   "metadata": {
    "kernel": "SoS"
   },
   "source": [
    "## Table 1:Logit\n",
    "\n",
    "$$\n",
    "\\begin{aligned}\n",
    "\\text{Write your equation}\n",
    "\\end{aligned}\n",
    "$$\n",
    "\n",
    "- robust standard error\n",
    "- Cannot compute clustered standard error if we add features without variation among the cluster (i.e `n`, or journal information)"
   ]
  },
  {
   "cell_type": "code",
   "execution_count": null,
   "metadata": {
    "kernel": "SoS",
    "nteract": {
     "transient": {
      "deleting": false
     }
    }
   },
   "outputs": [],
   "source": [
    "folder = 'Tables_0'\n",
    "table_nb = 1\n",
    "table = 'table_{}'.format(table_nb)\n",
    "path = os.path.join(folder, table + '.txt')\n",
    "if os.path.exists(folder) == False:\n",
    "        os.mkdir(folder)\n",
    "for ext in ['.txt', '.tex', '.pdf']:\n",
    "    x = [a for a in os.listdir(folder) if a.endswith(ext)]\n",
    "    [os.remove(os.path.join(folder, i)) for i in x]"
   ]
  },
  {
   "cell_type": "markdown",
   "metadata": {
    "kernel": "SoS"
   },
   "source": [
    "## test Dummy positive"
   ]
  },
  {
   "cell_type": "code",
   "execution_count": null,
   "metadata": {
    "kernel": "R"
   },
   "outputs": [],
   "source": [
    "%get path table\n",
    "#\n",
    "t_0 <- glm(sign_positive ~ adjusted_model+ id, data = df_final %>% filter(adjusted_model != 'TO_REMOVE'), family = \"binomial\")\n",
    "#\n",
    "t_1 <- glm(sign_positive ~ adjusted_model+ environmnental + social + governance +\n",
    "           id, data = df_final %>% filter(adjusted_model != 'TO_REMOVE'), family = \"binomial\")            \n",
    "#\n",
    "t_2 <- glm(sign_positive ~ adjusted_model+ environmnental + social + governance + lag + interaction_term + quadratic_term+\n",
    "           id, data = df_final %>% filter(adjusted_model != 'TO_REMOVE'), family = \"binomial\")\n",
    "\n",
    "#\n",
    "t_3 <- glm(sign_positive ~ adjusted_model+ environmnental + social + governance + lag + interaction_term + quadratic_term+\n",
    "           n+\n",
    "           id, data = df_final %>% filter(adjusted_model != 'TO_REMOVE'), family = \"binomial\") \n",
    "\n",
    "#\n",
    "t_4 <- glm(sign_positive ~ adjusted_model+ environmnental + social + governance + lag + interaction_term + quadratic_term+\n",
    "           n+\n",
    "           adjusted_dependent+\n",
    "           id, data = df_final %>% filter(adjusted_model != 'TO_REMOVE'), family = \"binomial\")  \n",
    "dep <- \"Dependent variable: Sign positive\"\n",
    "\n",
    "list_final = list(t_0, t_1, t_2, t_3, t_4\n",
    "                 )\n",
    "stargazer(list_final, type = \"text\", \n",
    "  se = lapply(list_final,\n",
    "              se_robust),\n",
    "          omit = \"id\", style = \"qje\")"
   ]
  },
  {
   "cell_type": "code",
   "execution_count": null,
   "metadata": {
    "kernel": "R"
   },
   "outputs": [],
   "source": [
    "%get path table\n",
    "#\n",
    "t_0 <- glm(sign_positive ~ model_instrument+ environmnental + social + governance+ id, data = df_final %>% filter(adjusted_model != 'TO_REMOVE'), family = \"binomial\")\n",
    "#\n",
    "t_1 <- glm(sign_positive ~ model_diff_in_diff+ environmnental + social + governance+ id, data = df_final %>% filter(adjusted_model != 'TO_REMOVE'), family = \"binomial\")\n",
    "#\n",
    "t_2 <- glm(sign_positive ~ model_other+ environmnental + social + governance+ id, data = df_final %>% filter(adjusted_model != 'TO_REMOVE'), family = \"binomial\")\n",
    "#\n",
    "t_3 <- glm(sign_positive ~ model_fixed_effect+ environmnental + social + governance+ id, data = df_final %>% filter(adjusted_model != 'TO_REMOVE'), family = \"binomial\")\n",
    "#\n",
    "t_4 <- glm(sign_positive ~ model_lag_dependent+ environmnental + social + governance+ id, data = df_final %>% filter(adjusted_model != 'TO_REMOVE'), family = \"binomial\")\n",
    "#\n",
    "t_5 <- glm(sign_positive ~ model_pooled_ols+ environmnental + social + governance+ id, data = df_final %>% filter(adjusted_model != 'TO_REMOVE'), family = \"binomial\")\n",
    "#\n",
    "t_6 <- glm(sign_positive ~ model_random_effect+ environmnental + social + governance+ id, data = df_final %>% filter(adjusted_model != 'TO_REMOVE'), family = \"binomial\")\n",
    "\n",
    "  \n",
    "dep <- \"Dependent variable: Sign positive\"\n",
    "\n",
    "list_final = list(t_0, t_1, t_2, t_3, t_4, t_5, t_6\n",
    "                 )\n",
    "stargazer(list_final, type = \"text\", \n",
    "  se = lapply(list_final,\n",
    "              se_robust),\n",
    "          omit = \"id\", style = \"qje\")"
   ]
  },
  {
   "cell_type": "markdown",
   "metadata": {
    "kernel": "R"
   },
   "source": [
    "## test Dummy negative"
   ]
  },
  {
   "cell_type": "code",
   "execution_count": null,
   "metadata": {
    "kernel": "R"
   },
   "outputs": [],
   "source": [
    "%get path table\n",
    "#\n",
    "t_0 <- glm(sign_negative ~ adjusted_model+ id, data = df_final %>% filter(adjusted_model != 'TO_REMOVE'), family = \"binomial\")\n",
    "#\n",
    "t_1 <- glm(sign_negative ~ adjusted_model+ environmnental + social + governance +\n",
    "           id, data = df_final %>% filter(adjusted_model != 'TO_REMOVE'), family = \"binomial\")            \n",
    "#\n",
    "t_2 <- glm(sign_negative ~ adjusted_model+ environmnental + social + governance + lag + interaction_term + quadratic_term+\n",
    "           id, data = df_final %>% filter(adjusted_model != 'TO_REMOVE'), family = \"binomial\")\n",
    "\n",
    "#\n",
    "t_3 <- glm(sign_negative ~ adjusted_model+ environmnental + social + governance + lag + interaction_term + quadratic_term+\n",
    "           n+\n",
    "           id, data = df_final %>% filter(adjusted_model != 'TO_REMOVE'), family = \"binomial\") \n",
    "\n",
    "#\n",
    "t_4 <- glm(sign_negative ~ adjusted_model+ environmnental + social + governance + lag + interaction_term + quadratic_term+\n",
    "           n+\n",
    "           adjusted_dependent+\n",
    "           id, data = df_final %>% filter(adjusted_model != 'TO_REMOVE'), family = \"binomial\")  \n",
    "dep <- \"Dependent variable: Sign negative\"\n",
    "\n",
    "list_final = list(t_0, t_1, t_2, t_3, t_4\n",
    "                 )\n",
    "stargazer(list_final, type = \"text\", \n",
    "  se = lapply(list_final,\n",
    "              se_robust),\n",
    "          omit = \"id\", style = \"qje\")"
   ]
  },
  {
   "cell_type": "code",
   "execution_count": null,
   "metadata": {
    "kernel": "R"
   },
   "outputs": [],
   "source": [
    "%get path table\n",
    "#\n",
    "t_0 <- glm(sign_negative ~ model_instrument+ environmnental + social + governance+ id, data = df_final %>% filter(adjusted_model != 'TO_REMOVE'), family = \"binomial\")\n",
    "#\n",
    "t_1 <- glm(sign_negative ~ model_diff_in_diff+ environmnental + social + governance+ id, data = df_final %>% filter(adjusted_model != 'TO_REMOVE'), family = \"binomial\")\n",
    "#\n",
    "t_2 <- glm(sign_negative ~ model_other+ environmnental + social + governance+ id, data = df_final %>% filter(adjusted_model != 'TO_REMOVE'), family = \"binomial\")\n",
    "#\n",
    "t_3 <- glm(sign_negative ~ model_fixed_effect+ environmnental + social + governance+ id, data = df_final %>% filter(adjusted_model != 'TO_REMOVE'), family = \"binomial\")\n",
    "#\n",
    "t_4 <- glm(sign_negative ~ model_lag_dependent+ environmnental + social + governance+ id, data = df_final %>% filter(adjusted_model != 'TO_REMOVE'), family = \"binomial\")\n",
    "#\n",
    "t_5 <- glm(sign_negative ~ model_pooled_ols+ environmnental + social + governance+ id, data = df_final %>% filter(adjusted_model != 'TO_REMOVE'), family = \"binomial\")\n",
    "#\n",
    "t_6 <- glm(sign_negative ~ model_random_effect+ environmnental + social + governance+ id, data = df_final %>% filter(adjusted_model != 'TO_REMOVE'), family = \"binomial\")\n",
    "\n",
    "  \n",
    "dep <- \"Dependent variable: Sign negative\"\n",
    "\n",
    "list_final = list(t_0, t_1, t_2, t_3, t_4, t_5, t_6\n",
    "                 )\n",
    "stargazer(list_final, type = \"text\", \n",
    "  se = lapply(list_final,\n",
    "              se_robust),\n",
    "          omit = \"id\", style = \"qje\")"
   ]
  },
  {
   "cell_type": "markdown",
   "metadata": {
    "kernel": "R"
   },
   "source": [
    "## test Dummy insignificant"
   ]
  },
  {
   "cell_type": "code",
   "execution_count": null,
   "metadata": {
    "kernel": "R"
   },
   "outputs": [],
   "source": [
    "%get path table\n",
    "#\n",
    "t_0 <- glm(sign_insignificant ~ adjusted_model+ id, data = df_final %>% filter(adjusted_model != 'TO_REMOVE'), family = \"binomial\")\n",
    "#\n",
    "t_1 <- glm(sign_insignificant ~ adjusted_model+ environmnental + social + governance +\n",
    "           id, data = df_final %>% filter(adjusted_model != 'TO_REMOVE'), family = \"binomial\")            \n",
    "#\n",
    "t_2 <- glm(sign_insignificant ~ adjusted_model+ environmnental + social + governance + lag + interaction_term + quadratic_term+\n",
    "           id, data = df_final %>% filter(adjusted_model != 'TO_REMOVE'), family = \"binomial\")\n",
    "\n",
    "#\n",
    "t_3 <- glm(sign_insignificant ~ adjusted_model+ environmnental + social + governance + lag + interaction_term + quadratic_term+\n",
    "           n+\n",
    "           id, data = df_final %>% filter(adjusted_model != 'TO_REMOVE'), family = \"binomial\") \n",
    "\n",
    "#\n",
    "t_4 <- glm(sign_insignificant ~ adjusted_model+ environmnental + social + governance + lag + interaction_term + quadratic_term+\n",
    "           n+\n",
    "           adjusted_dependent+\n",
    "           id, data = df_final %>% filter(adjusted_model != 'TO_REMOVE'), family = \"binomial\")  \n",
    "dep <- \"Dependent variable: Sign insignificant\"\n",
    "\n",
    "list_final = list(t_0, t_1, t_2, t_3, t_4\n",
    "                 )\n",
    "stargazer(list_final, type = \"text\", \n",
    "  se = lapply(list_final,\n",
    "              se_robust),\n",
    "          omit = \"id\", style = \"qje\")"
   ]
  },
  {
   "cell_type": "code",
   "execution_count": null,
   "metadata": {
    "kernel": "R"
   },
   "outputs": [],
   "source": [
    "%get path table\n",
    "#\n",
    "t_0 <- glm(sign_insignificant ~ model_instrument+ environmnental + social + governance+ id, data = df_final %>% filter(adjusted_model != 'TO_REMOVE'), family = \"binomial\")\n",
    "#\n",
    "t_1 <- glm(sign_insignificant ~ model_diff_in_diff+ environmnental + social + governance+ id, data = df_final %>% filter(adjusted_model != 'TO_REMOVE'), family = \"binomial\")\n",
    "#\n",
    "t_2 <- glm(sign_insignificant ~ model_other+ environmnental + social + governance+ id, data = df_final %>% filter(adjusted_model != 'TO_REMOVE'), family = \"binomial\")\n",
    "#\n",
    "t_3 <- glm(sign_insignificant ~ model_fixed_effect+ environmnental + social + governance+ id, data = df_final %>% filter(adjusted_model != 'TO_REMOVE'), family = \"binomial\")\n",
    "#\n",
    "t_4 <- glm(sign_insignificant ~ model_lag_dependent+ environmnental + social + governance+ id, data = df_final %>% filter(adjusted_model != 'TO_REMOVE'), family = \"binomial\")\n",
    "#\n",
    "t_5 <- glm(sign_insignificant ~ model_pooled_ols+ environmnental + social + governance+ id, data = df_final %>% filter(adjusted_model != 'TO_REMOVE'), family = \"binomial\")\n",
    "#\n",
    "t_6 <- glm(sign_insignificant ~ model_random_effect+ environmnental + social + governance+ id, data = df_final %>% filter(adjusted_model != 'TO_REMOVE'), family = \"binomial\")\n",
    "\n",
    "  \n",
    "dep <- \"Dependent variable: Sign insignificant\"\n",
    "\n",
    "list_final = list(t_0, t_1, t_2, t_3, t_4, t_5,t_6\n",
    "                 )\n",
    "stargazer(list_final, type = \"text\", \n",
    "  se = lapply(list_final,\n",
    "              se_robust),\n",
    "          omit = \"id\", style = \"qje\")"
   ]
  },
  {
   "cell_type": "markdown",
   "metadata": {
    "kernel": "R"
   },
   "source": [
    "# Multinomial"
   ]
  },
  {
   "cell_type": "code",
   "execution_count": null,
   "metadata": {
    "kernel": "R"
   },
   "outputs": [],
   "source": [
    "library(nnet)"
   ]
  },
  {
   "cell_type": "code",
   "execution_count": null,
   "metadata": {
    "kernel": "R"
   },
   "outputs": [],
   "source": [
    "#\n",
    "t_0 <- multinom(sign_of_effect ~ adjusted_model+ id,\n",
    "                data = df_final %>% filter(adjusted_model != 'TO_REMOVE'), trace = FALSE)\n",
    "#\n",
    "t_1 <- multinom(sign_of_effect ~ adjusted_model+ environmnental + social + governance +adjusted_dependent+\n",
    "           id, data = df_final %>% filter(adjusted_model != 'TO_REMOVE'), trace = FALSE)            \n",
    "dep <- \"Dependent variable: Sign insignificant\"\n",
    "\n",
    "list_final = list(t_0, t_1\n",
    "                 )\n",
    "stargazer(list_final, type = \"text\", \n",
    "  #se = lapply(list_final,\n",
    "  #            se_robust),\n",
    "          omit = \"id\", style = \"qje\")"
   ]
  },
  {
   "cell_type": "code",
   "execution_count": null,
   "metadata": {
    "kernel": "R"
   },
   "outputs": [],
   "source": [
    "#\n",
    "t_0 <- multinom(sign_of_effect ~ model_instrument+ environmnental + social + governance+ id, data = df_final, trace = FALSE)\n",
    "#\n",
    "t_1 <- multinom(sign_of_effect ~ model_diff_in_diff+ environmnental + social + governance+ id, data = df_final, trace = FALSE)\n",
    "\n",
    "  \n",
    "dep <- \"Dependent variable: Sign insignificant\"\n",
    "\n",
    "list_final = list(t_0, t_1\n",
    "                 )\n",
    "stargazer(list_final, type = \"text\", \n",
    "  #se = lapply(list_final,\n",
    "  #            se_robust),\n",
    "          omit = \"id\", style = \"qje\")           "
   ]
  },
  {
   "cell_type": "code",
   "execution_count": null,
   "metadata": {
    "kernel": "R"
   },
   "outputs": [],
   "source": [
    "t_2 <- multinom(sign_of_effect ~ model_other+ environmnental + social + governance+ id, data = df_final, trace = FALSE)\n",
    "#\n",
    "t_3 <- multinom(sign_of_effect ~ model_fixed_effect+ environmnental + social + governance+ id, data = df_final, trace = FALSE)\n",
    "\n",
    "\n",
    "  \n",
    "dep <- \"Dependent variable: Sign insignificant\"\n",
    "\n",
    "list_final = list(t_2, t_3\n",
    "                 )\n",
    "stargazer(list_final, type = \"text\", \n",
    "  #se = lapply(list_final,\n",
    "  #            se_robust),\n",
    "          omit = \"id\", style = \"qje\")  "
   ]
  },
  {
   "cell_type": "code",
   "execution_count": null,
   "metadata": {
    "kernel": "R"
   },
   "outputs": [],
   "source": [
    "#\n",
    "t_4 <- multinom(sign_of_effect ~ model_lag_dependent+ environmnental + social + governance+ id, data = df_final, trace = FALSE)\n",
    "#\n",
    "t_5 <- multinom(sign_of_effect ~ model_pooled_ols+ environmnental + social + governance+ id, data = df_final, trace = FALSE)\n",
    "#\n",
    "t_6 <- multinom(sign_of_effect ~ model_random_effect+ environmnental + social + governance+ id, data = df_final, trace = FALSE)\n",
    "\n",
    "  \n",
    "dep <- \"Dependent variable: Sign insignificant\"\n",
    "\n",
    "list_final = list(t_4, t_5,t_6\n",
    "                 )\n",
    "stargazer(list_final, type = \"text\", \n",
    "  #se = lapply(list_final,\n",
    "  #            se_robust),\n",
    "          omit = \"id\", style = \"qje\")  "
   ]
  },
  {
   "cell_type": "markdown",
   "metadata": {
    "kernel": "SoS",
    "nteract": {
     "transient": {
      "deleting": false
     }
    }
   },
   "source": [
    "# Generate reports"
   ]
  },
  {
   "cell_type": "code",
   "execution_count": null,
   "metadata": {
    "kernel": "python3",
    "nteract": {
     "transient": {
      "deleting": false
     }
    },
    "outputExpanded": false
   },
   "outputs": [],
   "source": [
    "import os, time, shutil, urllib, ipykernel, json\n",
    "from pathlib import Path\n",
    "from notebook import notebookapp\n",
    "import sys\n",
    "path = os.getcwd()\n",
    "parent_path = str(Path(path).parent.parent.parent)\n",
    "sys.path.append(os.path.join(parent_path, 'utils'))\n",
    "import make_toc\n",
    "import create_report"
   ]
  },
  {
   "cell_type": "code",
   "execution_count": null,
   "metadata": {
    "kernel": "python3"
   },
   "outputs": [],
   "source": [
    "name_json = 'parameters_ETL_esg_metadata.json'\n",
    "path_json = os.path.join(str(Path(path).parent.parent), 'utils',name_json)"
   ]
  },
  {
   "cell_type": "code",
   "execution_count": null,
   "metadata": {
    "kernel": "python3",
    "nteract": {
     "transient": {
      "deleting": false
     }
    },
    "outputExpanded": false
   },
   "outputs": [],
   "source": [
    "create_report.create_report(extension = \"html\", keep_code = False, notebookname = \"00_sign_of_effect_classification.ipynb\")"
   ]
  },
  {
   "cell_type": "code",
   "execution_count": null,
   "metadata": {
    "kernel": "python3"
   },
   "outputs": [],
   "source": [
    "### Update TOC in Github\n",
    "for p in [parent_path,\n",
    "          str(Path(path).parent),\n",
    "          #os.path.join(str(Path(path).parent), \"00_download_data_from\"),\n",
    "          #os.path.join(str(Path(path).parent.parent), \"02_data_analysis\"),\n",
    "          #os.path.join(str(Path(path).parent.parent), \"02_data_analysis\", \"00_statistical_exploration\"),\n",
    "          #os.path.join(str(Path(path).parent.parent), \"02_data_analysis\", \"01_model_estimation\"),\n",
    "         ]:\n",
    "    try:\n",
    "        os.remove(os.path.join(p, 'README.md'))\n",
    "    except:\n",
    "        pass\n",
    "    path_parameter = os.path.join(parent_path,'utils', name_json)\n",
    "    md_lines =  make_toc.create_index(cwd = p, path_parameter = path_parameter)\n",
    "    md_out_fn = os.path.join(p,'README.md')\n",
    "    \n",
    "    if p == parent_path:\n",
    "    \n",
    "        make_toc.replace_index(md_out_fn, md_lines, Header = os.path.basename(p).replace('_', ' '), add_description = True, path_parameter = path_parameter)\n",
    "    else:\n",
    "        make_toc.replace_index(md_out_fn, md_lines, Header = os.path.basename(p).replace('_', ' '), add_description = False)"
   ]
  }
 ],
 "metadata": {
  "jupytext": {
   "formats": "ipynb,md"
  },
  "kernel_info": {
   "name": "python3"
  },
  "kernelspec": {
   "display_name": "SoS",
   "language": "sos",
   "name": "sos"
  },
  "language_info": {
   "codemirror_mode": "sos",
   "file_extension": ".sos",
   "mimetype": "text/x-sos",
   "name": "sos",
   "nbconvert_exporter": "sos_notebook.converter.SoS_Exporter",
   "pygments_lexer": "sos"
  },
  "nteract": {
   "version": "0.28.0"
  },
  "sos": {
   "kernels": [
    [
     "R",
     "ir",
     "R",
     "#DCDCDA",
     "r"
    ],
    [
     "SoS",
     "sos",
     "",
     "",
     "sos"
    ],
    [
     "python3",
     "python3",
     "python",
     "",
     {
      "name": "ipython",
      "version": 3
     }
    ]
   ],
   "version": "0.20.1"
  },
  "toc": {
   "base_numbering": 1,
   "nav_menu": {},
   "number_sections": true,
   "sideBar": true,
   "skip_h1_title": false,
   "title_cell": "Table of Contents",
   "title_sidebar": "Contents",
   "toc_cell": false,
   "toc_position": {},
   "toc_section_display": true,
   "toc_window_display": false
  }
 },
 "nbformat": 4,
 "nbformat_minor": 4
}
