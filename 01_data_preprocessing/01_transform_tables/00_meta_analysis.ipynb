{
 "cells": [
  {
   "cell_type": "markdown",
   "metadata": {
    "lines_to_next_cell": 0
   },
   "source": [
    "# US Name\n",
    "\n",
    "Data preparation combine table information and journals\n",
    "\n",
    "\n",
    "# Description\n",
    "\n",
    "None\n",
    "\n",
    "## Merge\n",
    "\n",
    "**Main table** \n",
    "\n",
    "papers_meta_analysis_new\n",
    "\n",
    "Merged with:\n",
    "\n",
    "- papers_meta_analysis\n",
    "- journals_scimago\n",
    "\n",
    "# Target\n",
    "\n",
    "- The file is saved in S3:\n",
    "- bucket: datalake-datascience\n",
    "- path: DATA/FINANCE/ESG/ESG_CFP\n",
    "- Glue data catalog should be updated\n",
    "- database: esg\n",
    "- Table prefix: meta_analysis_\n",
    "- table name: meta_analysis_esg_cfp\n",
    "- Analytics\n",
    "- HTML: ANALYTICS/HTML_OUTPUT/meta_analysis_esg_cfp\n",
    "- Notebook: ANALYTICS/OUTPUT/meta_analysis_esg_cfp\n",
    "\n",
    "# Metadata\n",
    "\n",
    "- Key: 234_esg_metadata\n",
    "- Epic: Dataset transformation\n",
    "- US: Prepare meta-analysis table\n",
    "- Task tag: #journal-information, #papers-information\n",
    "- Analytics reports: https://htmlpreview.github.io/?https://github.com/thomaspernet/esg_metadata/blob/master/00_data_catalog/HTML_ANALYSIS/META_ANALYSIS_ESG_CFP.html\n",
    "\n",
    "# Input\n",
    "\n",
    "## Table/file\n",
    "\n",
    "**Name**\n",
    "\n",
    "- papers_meta_analysis_new\n",
    "- papers_meta_analysis\n",
    "- journals_scimago\n",
    "\n",
    "**Github**\n",
    "\n",
    "- https://github.com/thomaspernet/esg_metadata/blob/master/01_data_preprocessing/01_transform_tables/00_meta_analysis.md"
   ]
  },
  {
   "cell_type": "code",
   "execution_count": 1,
   "metadata": {
    "collapsed": false,
    "inputHidden": false,
    "jupyter": {
     "outputs_hidden": false
    },
    "outputHidden": false
   },
   "outputs": [],
   "source": [
    "from awsPy.aws_authorization import aws_connector\n",
    "from awsPy.aws_s3 import service_s3\n",
    "from awsPy.aws_glue import service_glue\n",
    "from pathlib import Path\n",
    "import pandas as pd\n",
    "import numpy as np\n",
    "import seaborn as sns\n",
    "import os, shutil, json, re\n",
    "\n",
    "path = os.getcwd()\n",
    "parent_path = str(Path(path).parent.parent)\n",
    "\n",
    "\n",
    "name_credential = 'financial_dep_SO2_accessKeys.csv'\n",
    "region = 'eu-west-2'\n",
    "bucket = 'datalake-london'\n",
    "path_cred = \"{0}/creds/{1}\".format(parent_path, name_credential)"
   ]
  },
  {
   "cell_type": "code",
   "execution_count": 2,
   "metadata": {
    "collapsed": false,
    "inputHidden": false,
    "jupyter": {
     "outputs_hidden": false
    },
    "outputHidden": false
   },
   "outputs": [],
   "source": [
    "con = aws_connector.aws_instantiate(credential = path_cred,\n",
    "                                       region = region)\n",
    "client= con.client_boto()\n",
    "s3 = service_s3.connect_S3(client = client,\n",
    "                      bucket = bucket, verbose = True) \n",
    "glue = service_glue.connect_glue(client = client) "
   ]
  },
  {
   "cell_type": "code",
   "execution_count": 3,
   "metadata": {},
   "outputs": [],
   "source": [
    "pandas_setting = True\n",
    "if pandas_setting:\n",
    "    cm = sns.light_palette(\"green\", as_cmap=True)\n",
    "    pd.set_option('display.max_columns', None)\n",
    "    pd.set_option('display.max_colwidth', None)"
   ]
  },
  {
   "cell_type": "markdown",
   "metadata": {},
   "source": [
    "# Prepare query \n",
    "\n",
    "Write query and save the CSV back in the S3 bucket `datalake-datascience` "
   ]
  },
  {
   "cell_type": "markdown",
   "metadata": {},
   "source": [
    "# Steps"
   ]
  },
  {
   "cell_type": "markdown",
   "metadata": {},
   "source": [
    "## Merge journal and papers table"
   ]
  },
  {
   "cell_type": "code",
   "execution_count": 4,
   "metadata": {},
   "outputs": [],
   "source": [
    "DatabaseName = 'esg'\n",
    "s3_output_example = 'SQL_OUTPUT_ATHENA'"
   ]
  },
  {
   "cell_type": "code",
   "execution_count": null,
   "metadata": {},
   "outputs": [],
   "source": [
    "query = \"\"\"\n",
    "WITH merge AS (\n",
    "  SELECT \n",
    "    id, \n",
    "    image,\n",
    "    table_refer,\n",
    "    incremental_id,\n",
    "    paper_name, \n",
    "    publication_year, \n",
    "    publication_type, \n",
    "    regexp_replace(\n",
    "      regexp_replace(\n",
    "        lower(publication_name), \n",
    "        '\\&', \n",
    "        'and'\n",
    "      ), \n",
    "      '\\-', \n",
    "      ' '\n",
    "    ) as publication_name, \n",
    "    cnrs_ranking, \n",
    "    peer_reviewed, \n",
    "    study_focused_on_social_environmental_behaviour, \n",
    "    type_of_data, \n",
    "    study_focusing_on_developing_or_developed_countries, \n",
    "    first_date_of_observations,\n",
    "    last_date_of_observations,\n",
    "    adjusted_model,\n",
    "    dependent, \n",
    "    adjusted_dependent,\n",
    "    independent,\n",
    "    adjusted_independent, \n",
    "    social,\n",
    "    environmnental,\n",
    "    governance,\n",
    "    sign_of_effect,\n",
    "    lag, \n",
    "    interaction_term, \n",
    "    quadratic_term, \n",
    "    n, \n",
    "    r2, \n",
    "    beta, \n",
    "    to_remove, \n",
    "    critical_value, \n",
    "    true_standard_error, \n",
    "    true_t_value, \n",
    "    true_stars,  \n",
    "    significant,\n",
    "    to_check_final\n",
    "  FROM \n",
    "    esg.papers_meta_analysis_new \n",
    "    LEFT JOIN (\n",
    "      SELECT \n",
    "        DISTINCT(title), \n",
    "        nr, \n",
    "        publication_year, \n",
    "        publication_type, \n",
    "        publication_name, \n",
    "        cnrs_ranking, \n",
    "        peer_reviewed, \n",
    "        study_focused_on_social_environmental_behaviour, \n",
    "        type_of_data, \n",
    "        study_focusing_on_developing_or_developed_countries\n",
    "      FROM \n",
    "        esg.papers_meta_analysis\n",
    "    ) as old on papers_meta_analysis_new.id = old.nr\n",
    "    -- WHERE to_remove = 'TO_KEEP'\n",
    "LEFT JOIN (\n",
    "SELECT \n",
    "        nr,\n",
    "        CAST(MIN(first_date_of_observations) as int) as first_date_of_observations,\n",
    "        CAST(MAX(last_date_of_observations)as int) as last_date_of_observations\n",
    "      FROM \n",
    "        esg.papers_meta_analysis\n",
    "        GROUP BY nr\n",
    ") as date_pub on papers_meta_analysis_new.id = date_pub.nr\n",
    ") \n",
    "SELECT \n",
    "    to_remove, \n",
    "    id, \n",
    "    image,\n",
    "    table_refer,\n",
    "    incremental_id,\n",
    "    paper_name,\n",
    "    publication_name,\n",
    "    rank,\n",
    "    sjr, \n",
    "    sjr_best_quartile, \n",
    "    h_index, \n",
    "    total_docs_2020, \n",
    "    total_docs_3years, \n",
    "    total_refs, \n",
    "    total_cites_3years, \n",
    "    citable_docs_3years, \n",
    "    cites_doc_2years, \n",
    "    country ,\n",
    "    publication_year, \n",
    "    publication_type, \n",
    "    cnrs_ranking, \n",
    "    peer_reviewed, \n",
    "    study_focused_on_social_environmental_behaviour, \n",
    "    type_of_data, \n",
    "    study_focusing_on_developing_or_developed_countries, \n",
    "    first_date_of_observations,\n",
    "    last_date_of_observations,\n",
    "    adjusted_model, \n",
    "    dependent, \n",
    "    adjusted_dependent, \n",
    "    independent, \n",
    "    adjusted_independent, \n",
    "    social,\n",
    "    environmnental,\n",
    "    governance,\n",
    "    lag, \n",
    "    interaction_term, \n",
    "    quadratic_term, \n",
    "    n, \n",
    "    r2, \n",
    "    beta, \n",
    "    sign_of_effect,\n",
    "    significant,\n",
    "    critical_value, \n",
    "    true_standard_error, \n",
    "    true_t_value, \n",
    "    true_stars, \n",
    "    to_check_final \n",
    "FROM \n",
    "  merge \n",
    "  LEFT JOIN (\n",
    "    SELECT \n",
    "      rank, \n",
    "      regexp_replace(\n",
    "        regexp_replace(\n",
    "          lower(title), \n",
    "          '\\&', \n",
    "          'and'\n",
    "        ), \n",
    "        '\\-', \n",
    "        ' '\n",
    "      ) as title, \n",
    "      sjr, \n",
    "      sjr_best_quartile, \n",
    "      h_index, \n",
    "      total_docs_2020, \n",
    "      total_docs_3years, \n",
    "      total_refs, \n",
    "      total_cites_3years, \n",
    "      citable_docs_3years, \n",
    "      cites_doc_2years, \n",
    "      country \n",
    "    FROM \n",
    "      \"scimago\".\"journals_scimago\"\n",
    "    WHERE sourceid not in (16400154787)\n",
    "  ) as journal on merge.publication_name = journal.title\n",
    "\"\"\"\n",
    "output = (\n",
    "    s3.run_query(\n",
    "    query=query,\n",
    "    database=DatabaseName,\n",
    "    s3_output=s3_output_example,\n",
    "    filename='example_1',\n",
    "        dtype = {'publication_year':'string'}\n",
    ")\n",
    "    .sort_values(by = ['id', 'first_date_of_observations'])\n",
    "    .drop_duplicates()\n",
    "    .assign(weight = lambda x: x.groupby(['id'])['id'].transform('size'))\n",
    ")\n",
    "output.head()"
   ]
  },
  {
   "cell_type": "code",
   "execution_count": null,
   "metadata": {},
   "outputs": [],
   "source": [
    "output.shape"
   ]
  },
  {
   "cell_type": "code",
   "execution_count": null,
   "metadata": {},
   "outputs": [],
   "source": [
    "output.describe()"
   ]
  },
  {
   "cell_type": "code",
   "execution_count": null,
   "metadata": {},
   "outputs": [],
   "source": [
    "output['weight'].describe()"
   ]
  },
  {
   "cell_type": "code",
   "execution_count": null,
   "metadata": {},
   "outputs": [],
   "source": [
    "#output[output.duplicated(subset = ['id', 'beta',\n",
    "#                                   'true_standard_error', 'critical_value', 'lag', 'independent',\n",
    "#                                  'true_t_value', 'true_stars', 'adjusted_model'\n",
    "#                                  ])].head()"
   ]
  },
  {
   "cell_type": "markdown",
   "metadata": {},
   "source": [
    "Missing journals"
   ]
  },
  {
   "cell_type": "code",
   "execution_count": null,
   "metadata": {},
   "outputs": [],
   "source": [
    "output.loc[lambda x: x['rank'].isin([np.nan])]['publication_name'].unique()"
   ]
  },
  {
   "cell_type": "markdown",
   "metadata": {},
   "source": [
    "Currently, the missing values come from the rows to check in [METADATA_TABLES_COLLECTION](https://docs.google.com/spreadsheets/d/1d66_CVtWni7wmKlIMcpaoanvT2ghmjbXARiHgnLWvUw/edit#gid=899172650)"
   ]
  },
  {
   "cell_type": "code",
   "execution_count": null,
   "metadata": {},
   "outputs": [],
   "source": [
    "#output.loc[lambda x: x['true_standard_error'].isin([np.nan])].head(5)"
   ]
  },
  {
   "cell_type": "code",
   "execution_count": null,
   "metadata": {},
   "outputs": [],
   "source": [
    "output.isna().sum().loc[lambda x: x> 0].sort_values()"
   ]
  },
  {
   "cell_type": "markdown",
   "metadata": {},
   "source": [
    "Journal withouts critical information"
   ]
  },
  {
   "cell_type": "markdown",
   "metadata": {},
   "source": [
    "### Save data to Google Spreadsheet for sharing"
   ]
  },
  {
   "cell_type": "code",
   "execution_count": null,
   "metadata": {},
   "outputs": [],
   "source": [
    "#!pip install --upgrade git+git://github.com/thomaspernet/GoogleDrive-python"
   ]
  },
  {
   "cell_type": "code",
   "execution_count": null,
   "metadata": {},
   "outputs": [],
   "source": [
    "from GoogleDrivePy.google_drive import connect_drive\n",
    "from GoogleDrivePy.google_authorization import authorization_service"
   ]
  },
  {
   "cell_type": "code",
   "execution_count": null,
   "metadata": {},
   "outputs": [],
   "source": [
    "try:\n",
    "    os.mkdir(\"creds\")\n",
    "except:\n",
    "    pass"
   ]
  },
  {
   "cell_type": "code",
   "execution_count": null,
   "metadata": {},
   "outputs": [],
   "source": [
    "s3.download_file(key = \"CREDS/Financial_dependency_pollution/creds/token.pickle\", path_local = \"creds\")"
   ]
  },
  {
   "cell_type": "code",
   "execution_count": null,
   "metadata": {},
   "outputs": [],
   "source": [
    "auth = authorization_service.get_authorization(\n",
    "    #path_credential_gcp=os.path.join(parent_path, \"creds\", \"service.json\"),\n",
    "    path_credential_drive=os.path.join(path, \"creds\"),\n",
    "    verbose=False,\n",
    "    scope=['https://www.googleapis.com/auth/spreadsheets.readonly',\n",
    "           \"https://www.googleapis.com/auth/drive\"]\n",
    ")\n",
    "gd_auth = auth.authorization_drive(path_secret=os.path.join(\n",
    "    path, \"creds\", \"credentials.json\"))\n",
    "drive = connect_drive.drive_operations(gd_auth)"
   ]
  },
  {
   "cell_type": "code",
   "execution_count": null,
   "metadata": {},
   "outputs": [],
   "source": [
    "import shutil\n",
    "shutil.rmtree(os.path.join(path,\"creds\"))"
   ]
  },
  {
   "cell_type": "code",
   "execution_count": null,
   "metadata": {},
   "outputs": [],
   "source": [
    "FILENAME_SPREADSHEET = \"METADATA_MODEL\"\n",
    "spreadsheet_id = drive.find_file_id(FILENAME_SPREADSHEET, to_print=False)"
   ]
  },
  {
   "cell_type": "code",
   "execution_count": null,
   "metadata": {},
   "outputs": [],
   "source": [
    "drive.add_data_to_spreadsheet(\n",
    "    data =output.fillna(\"\"),\n",
    "    sheetID =spreadsheet_id,\n",
    "    sheetName = \"MODEL_DATA\",\n",
    "    detectRange = True,\n",
    "    rangeData = None)"
   ]
  },
  {
   "cell_type": "markdown",
   "metadata": {},
   "source": [
    "# Table `meta_analysis_esg_cfp`\n",
    "\n",
    "Since the table to create has missing value, please use the following at the top of the query\n",
    "\n",
    "```\n",
    "CREATE TABLE database.table_name WITH (format = 'PARQUET') AS\n",
    "```"
   ]
  },
  {
   "cell_type": "markdown",
   "metadata": {},
   "source": [
    "Choose a location in S3 to save the CSV. It is recommended to save in it the `datalake-datascience` bucket. Locate an appropriate folder in the bucket, and make sure all output have the same format"
   ]
  },
  {
   "cell_type": "code",
   "execution_count": 5,
   "metadata": {},
   "outputs": [],
   "source": [
    "s3_output = 'DATA/FINANCE/ESG/ESG_CFP'\n",
    "table_name = 'meta_analysis_esg_cfp'"
   ]
  },
  {
   "cell_type": "markdown",
   "metadata": {},
   "source": [
    "First, we need to delete the table (if exist)"
   ]
  },
  {
   "cell_type": "code",
   "execution_count": 6,
   "metadata": {},
   "outputs": [
    {
     "name": "stdout",
     "output_type": "stream",
     "text": [
      "{'ResponseMetadata': {'RequestId': '3efee375-226a-468d-8b1a-7e855b5c26c7', 'HTTPStatusCode': 200, 'HTTPHeaders': {'date': 'Mon, 02 Aug 2021 05:51:03 GMT', 'content-type': 'application/x-amz-json-1.1', 'content-length': '2', 'connection': 'keep-alive', 'x-amzn-requestid': '3efee375-226a-468d-8b1a-7e855b5c26c7'}, 'RetryAttempts': 0}}\n"
     ]
    }
   ],
   "source": [
    "try:\n",
    "    response = glue.delete_table(\n",
    "        database=DatabaseName,\n",
    "        table=table_name\n",
    "    )\n",
    "    print(response)\n",
    "except Exception as e:\n",
    "    print(e)"
   ]
  },
  {
   "cell_type": "markdown",
   "metadata": {},
   "source": [
    "Clean up the folder with the previous csv file. Be careful, it will erase all files inside the folder"
   ]
  },
  {
   "cell_type": "code",
   "execution_count": 7,
   "metadata": {},
   "outputs": [
    {
     "data": {
      "text/plain": [
       "True"
      ]
     },
     "execution_count": 7,
     "metadata": {},
     "output_type": "execute_result"
    }
   ],
   "source": [
    "s3.remove_all_bucket(path_remove = s3_output)"
   ]
  },
  {
   "cell_type": "code",
   "execution_count": 8,
   "metadata": {},
   "outputs": [
    {
     "name": "stdout",
     "output_type": "stream",
     "text": [
      "CPU times: user 172 ms, sys: 29 ms, total: 201 ms\n",
      "Wall time: 5.36 s\n"
     ]
    },
    {
     "data": {
      "text/plain": [
       "{'Results': {'State': 'SUCCEEDED',\n",
       "  'SubmissionDateTime': datetime.datetime(2021, 8, 2, 5, 51, 6, 967000, tzinfo=tzlocal()),\n",
       "  'CompletionDateTime': datetime.datetime(2021, 8, 2, 5, 51, 9, 598000, tzinfo=tzlocal())},\n",
       " 'QueryID': 'b1c60b01-d65e-40f4-b71f-5150cb6c1022'}"
      ]
     },
     "execution_count": 8,
     "metadata": {},
     "output_type": "execute_result"
    }
   ],
   "source": [
    "%%time\n",
    "query = \"\"\"\n",
    "CREATE TABLE {0}.{1} WITH (format = 'PARQUET') AS\n",
    "WITH merge AS (\n",
    "  SELECT \n",
    "    id, \n",
    "    image,\n",
    "    table_refer,\n",
    "    incremental_id,\n",
    "    paper_name, \n",
    "    publication_year, \n",
    "    publication_type, \n",
    "    regexp_replace(\n",
    "      regexp_replace(\n",
    "        lower(publication_name), \n",
    "        '\\&', \n",
    "        'and'\n",
    "      ), \n",
    "      '\\-', \n",
    "      ' '\n",
    "    ) as publication_name, \n",
    "    cnrs_ranking, \n",
    "    peer_reviewed, \n",
    "    study_focused_on_social_environmental_behaviour, \n",
    "    type_of_data, \n",
    "    study_focusing_on_developing_or_developed_countries, \n",
    "    first_date_of_observations,\n",
    "    last_date_of_observations,\n",
    "    adjusted_model,\n",
    "    dependent, \n",
    "    adjusted_dependent,\n",
    "    independent,\n",
    "    adjusted_independent, \n",
    "    social,\n",
    "    environmnental,\n",
    "    governance,\n",
    "    sign_of_effect,\n",
    "    lag, \n",
    "    interaction_term, \n",
    "    quadratic_term, \n",
    "    n, \n",
    "    r2, \n",
    "    beta, \n",
    "    to_remove, \n",
    "    critical_value, \n",
    "    true_standard_error, \n",
    "    true_t_value, \n",
    "    true_stars,  \n",
    "    significant,\n",
    "    to_check_final\n",
    "  FROM \n",
    "    esg.papers_meta_analysis_new \n",
    "    LEFT JOIN (\n",
    "      SELECT \n",
    "        DISTINCT(title), \n",
    "        nr, \n",
    "        publication_year, \n",
    "        publication_type, \n",
    "        publication_name, \n",
    "        cnrs_ranking, \n",
    "        peer_reviewed, \n",
    "        study_focused_on_social_environmental_behaviour, \n",
    "        type_of_data, \n",
    "        study_focusing_on_developing_or_developed_countries\n",
    "      FROM \n",
    "        esg.papers_meta_analysis\n",
    "    ) as old on papers_meta_analysis_new.id = old.nr\n",
    "    -- WHERE to_remove = 'TO_KEEP'\n",
    "LEFT JOIN (\n",
    "SELECT \n",
    "        nr,\n",
    "        CAST(MIN(first_date_of_observations) as int) as first_date_of_observations,\n",
    "        CAST(MAX(last_date_of_observations)as int) as last_date_of_observations\n",
    "      FROM \n",
    "        esg.papers_meta_analysis\n",
    "        GROUP BY nr\n",
    ") as date_pub on papers_meta_analysis_new.id = date_pub.nr\n",
    ") \n",
    "SELECT \n",
    "  to_remove, \n",
    "    id, \n",
    "    image,\n",
    "    table_refer,\n",
    "    incremental_id,\n",
    "    paper_name,\n",
    "    publication_name,\n",
    "    rank,\n",
    "    sjr, \n",
    "    sjr_best_quartile, \n",
    "    h_index, \n",
    "    total_docs_2020, \n",
    "    total_docs_3years, \n",
    "    total_refs, \n",
    "    total_cites_3years, \n",
    "    citable_docs_3years, \n",
    "    cites_doc_2years, \n",
    "    country ,\n",
    "    publication_year, \n",
    "    publication_type, \n",
    "    cnrs_ranking, \n",
    "    peer_reviewed, \n",
    "    study_focused_on_social_environmental_behaviour, \n",
    "    type_of_data, \n",
    "    study_focusing_on_developing_or_developed_countries, \n",
    "    first_date_of_observations,\n",
    "    last_date_of_observations,\n",
    "    adjusted_model, \n",
    "    dependent, \n",
    "    adjusted_dependent, \n",
    "    independent, \n",
    "    adjusted_independent, \n",
    "    social,\n",
    "    environmnental,\n",
    "    governance,\n",
    "    lag, \n",
    "    interaction_term, \n",
    "    quadratic_term, \n",
    "    n, \n",
    "    r2, \n",
    "    beta, \n",
    "    sign_of_effect,\n",
    "    significant,\n",
    "    critical_value, \n",
    "    true_standard_error, \n",
    "    true_t_value, \n",
    "    true_stars, \n",
    "    to_check_final \n",
    "FROM \n",
    "  merge \n",
    "  LEFT JOIN (\n",
    "    SELECT \n",
    "      rank, \n",
    "      regexp_replace(\n",
    "        regexp_replace(\n",
    "          lower(title), \n",
    "          '\\&', \n",
    "          'and'\n",
    "        ), \n",
    "        '\\-', \n",
    "        ' '\n",
    "      ) as title, \n",
    "      sjr, \n",
    "      sjr_best_quartile, \n",
    "      h_index, \n",
    "      total_docs_2020, \n",
    "      total_docs_3years, \n",
    "      total_refs, \n",
    "      total_cites_3years, \n",
    "      citable_docs_3years, \n",
    "      cites_doc_2years, \n",
    "      country \n",
    "    FROM \n",
    "      \"scimago\".\"journals_scimago\"\n",
    "    WHERE sourceid not in (16400154787)\n",
    "  ) as journal on merge.publication_name = journal.title\n",
    "\"\"\".format(DatabaseName, table_name)\n",
    "output = s3.run_query(\n",
    "                    query=query,\n",
    "                    database=DatabaseName,\n",
    "                    s3_output=s3_output,\n",
    "                )\n",
    "output"
   ]
  },
  {
   "cell_type": "code",
   "execution_count": 9,
   "metadata": {},
   "outputs": [
    {
     "data": {
      "text/html": [
       "<div>\n",
       "<style scoped>\n",
       "    .dataframe tbody tr th:only-of-type {\n",
       "        vertical-align: middle;\n",
       "    }\n",
       "\n",
       "    .dataframe tbody tr th {\n",
       "        vertical-align: top;\n",
       "    }\n",
       "\n",
       "    .dataframe thead th {\n",
       "        text-align: right;\n",
       "    }\n",
       "</style>\n",
       "<table border=\"1\" class=\"dataframe\">\n",
       "  <thead>\n",
       "    <tr style=\"text-align: right;\">\n",
       "      <th></th>\n",
       "      <th>CNT</th>\n",
       "    </tr>\n",
       "  </thead>\n",
       "  <tbody>\n",
       "    <tr>\n",
       "      <th>0</th>\n",
       "      <td>701</td>\n",
       "    </tr>\n",
       "  </tbody>\n",
       "</table>\n",
       "</div>"
      ],
      "text/plain": [
       "   CNT\n",
       "0  701"
      ]
     },
     "execution_count": 9,
     "metadata": {},
     "output_type": "execute_result"
    }
   ],
   "source": [
    "query_count = \"\"\"\n",
    "SELECT COUNT(*) AS CNT\n",
    "FROM {}.{} \n",
    "\"\"\".format(DatabaseName, table_name)\n",
    "output = s3.run_query(\n",
    "                    query=query_count,\n",
    "                    database=DatabaseName,\n",
    "                    s3_output=s3_output_example,\n",
    "    filename = 'count_{}'.format(table_name)\n",
    "                )\n",
    "output"
   ]
  },
  {
   "cell_type": "markdown",
   "metadata": {},
   "source": [
    "# Update Glue catalogue and Github\n",
    "\n",
    "This step is mandatory to validate the query in the ETL."
   ]
  },
  {
   "cell_type": "markdown",
   "metadata": {},
   "source": [
    "## Create or update the data catalog\n",
    "\n",
    "The query is saved in the S3 (bucket `datalake-london`), but the comments are not available. Use the functions below to update the catalogue and Github\n"
   ]
  },
  {
   "cell_type": "markdown",
   "metadata": {},
   "source": [
    "Update the dictionary\n",
    "\n",
    "- DatabaseName:\n",
    "- TableName:\n",
    "- ~TablePrefix:~\n",
    "- input: \n",
    "- filename: Name of the notebook or Python script: to indicate\n",
    "- Task ID: from Coda\n",
    "- index_final_table: a list to indicate if the current table is used to prepare the final table(s). If more than one, pass the index. Start at 0\n",
    "- if_final: A boolean. Indicates if the current table is the final table -> the one the model will be used to be trained\n",
    "- schema: glue schema with comment\n",
    "- description: details query objective\n",
    "\n",
    "**Update schema**\n",
    "\n",
    "If `automatic = False` in `automatic_update`, then the function returns only the variables to update the comments. Manually add the comment, **then**, pass the new schema (only the missing comment) to the argument `new_schema`. \n",
    "\n",
    "To update the schema, please use the following structure\n",
    "\n",
    "```\n",
    "schema = [\n",
    "    {\n",
    "        \"Name\": \"VAR1\",\n",
    "        \"Type\": \"\",\n",
    "        \"Comment\": \"\"\n",
    "    },\n",
    "    {\n",
    "        \"Name\": \"VAR2\",\n",
    "        \"Type\": \"\",\n",
    "        \"Comment\": \"\"\n",
    "    }\n",
    "]\n",
    "```"
   ]
  },
  {
   "cell_type": "code",
   "execution_count": 10,
   "metadata": {},
   "outputs": [],
   "source": [
    "%load_ext autoreload\n",
    "%autoreload 2\n",
    "import sys\n",
    "sys.path.append(os.path.join(parent_path, 'utils'))\n",
    "import make_toc\n",
    "import create_schema\n",
    "import create_report\n",
    "import update_glue_github"
   ]
  },
  {
   "cell_type": "markdown",
   "metadata": {},
   "source": [
    "The function below manages everything automatically. If the final table comes from more than one query, then pass a list of table in `list_tables` instead of `automatic`"
   ]
  },
  {
   "cell_type": "code",
   "execution_count": 11,
   "metadata": {},
   "outputs": [],
   "source": [
    "list_input,  schema = update_glue_github.automatic_update(\n",
    "    list_tables = 'automatic',\n",
    "    automatic= True,\n",
    "    new_schema = None, ### override schema\n",
    "    client = client,\n",
    "    TableName = table_name,\n",
    "    query = query)"
   ]
  },
  {
   "cell_type": "code",
   "execution_count": 12,
   "metadata": {},
   "outputs": [],
   "source": [
    "description = \"\"\"\n",
    "Create table with journal information, papers and coefficients for the meta analysis\n",
    "\"\"\"\n",
    "name_json = 'parameters_ETL_esg_metadata.json'\n",
    "partition_keys = [\"id\", 'incremental_id']\n",
    "notebookname = \"00_meta_analysis.ipynb\"\n",
    "dic_information = {\n",
    "    \"client\":client,\n",
    "    'bucket':bucket,\n",
    "    's3_output':s3_output,\n",
    "    'DatabaseName':DatabaseName,\n",
    "    'TableName':table_name,\n",
    "    'name_json':name_json,\n",
    "    'partition_keys':partition_keys,\n",
    "    'notebookname':notebookname,\n",
    "    'index_final_table':[0],\n",
    "    'if_final': 'True',\n",
    "    'schema':schema,\n",
    "    'description':description,\n",
    "    'query':query,\n",
    "    \"list_input\":list_input,\n",
    "    'list_input_automatic':True\n",
    "}"
   ]
  },
  {
   "cell_type": "code",
   "execution_count": 13,
   "metadata": {},
   "outputs": [
    {
     "name": "stdout",
     "output_type": "stream",
     "text": [
      "Currently, the ETL has 1 tables\n"
     ]
    }
   ],
   "source": [
    "update_glue_github.update_glue_github(client = client,dic_information = dic_information)"
   ]
  },
  {
   "cell_type": "markdown",
   "metadata": {},
   "source": [
    "## Check Duplicates\n",
    "\n",
    "One of the most important step when creating a table is to check if the table contains duplicates. The cell below checks if the table generated before is empty of duplicates. The code uses the JSON file to create the query parsed in Athena. \n",
    "\n",
    "You are required to define the group(s) that Athena will use to compute the duplicate. For instance, your table can be grouped by COL1 and COL2 (need to be string or varchar), then pass the list ['COL1', 'COL2'] "
   ]
  },
  {
   "cell_type": "code",
   "execution_count": 14,
   "metadata": {},
   "outputs": [
    {
     "data": {
      "text/html": [
       "<div>\n",
       "<style scoped>\n",
       "    .dataframe tbody tr th:only-of-type {\n",
       "        vertical-align: middle;\n",
       "    }\n",
       "\n",
       "    .dataframe tbody tr th {\n",
       "        vertical-align: top;\n",
       "    }\n",
       "\n",
       "    .dataframe thead th {\n",
       "        text-align: right;\n",
       "    }\n",
       "</style>\n",
       "<table border=\"1\" class=\"dataframe\">\n",
       "  <thead>\n",
       "    <tr style=\"text-align: right;\">\n",
       "      <th></th>\n",
       "      <th>CNT</th>\n",
       "      <th>CNT_DUPLICATE</th>\n",
       "    </tr>\n",
       "  </thead>\n",
       "  <tbody>\n",
       "    <tr>\n",
       "      <th>0</th>\n",
       "      <td>1</td>\n",
       "      <td>701</td>\n",
       "    </tr>\n",
       "  </tbody>\n",
       "</table>\n",
       "</div>"
      ],
      "text/plain": [
       "   CNT  CNT_DUPLICATE\n",
       "0    1            701"
      ]
     },
     "metadata": {},
     "output_type": "display_data"
    }
   ],
   "source": [
    "update_glue_github.find_duplicates(\n",
    "    client = client,\n",
    "    bucket = bucket,\n",
    "    name_json = name_json,\n",
    "    partition_keys = partition_keys,\n",
    "    TableName= table_name\n",
    ")"
   ]
  },
  {
   "cell_type": "markdown",
   "metadata": {},
   "source": [
    "## Count missing values"
   ]
  },
  {
   "cell_type": "code",
   "execution_count": 15,
   "metadata": {},
   "outputs": [
    {
     "data": {
      "text/html": [
       "<style  type=\"text/css\" >\n",
       "#T_aada4a9a_f355_11eb_bba3_69309e654690row0_col1{\n",
       "            width:  10em;\n",
       "             height:  80%;\n",
       "            background:  linear-gradient(90deg,#d65f5f 100.0%, transparent 100.0%);\n",
       "        }#T_aada4a9a_f355_11eb_bba3_69309e654690row1_col1{\n",
       "            width:  10em;\n",
       "             height:  80%;\n",
       "            background:  linear-gradient(90deg,#d65f5f 82.7%, transparent 82.7%);\n",
       "        }#T_aada4a9a_f355_11eb_bba3_69309e654690row2_col1{\n",
       "            width:  10em;\n",
       "             height:  80%;\n",
       "            background:  linear-gradient(90deg,#d65f5f 35.0%, transparent 35.0%);\n",
       "        }#T_aada4a9a_f355_11eb_bba3_69309e654690row3_col1{\n",
       "            width:  10em;\n",
       "             height:  80%;\n",
       "            background:  linear-gradient(90deg,#d65f5f 33.1%, transparent 33.1%);\n",
       "        }#T_aada4a9a_f355_11eb_bba3_69309e654690row4_col1{\n",
       "            width:  10em;\n",
       "             height:  80%;\n",
       "            background:  linear-gradient(90deg,#d65f5f 15.8%, transparent 15.8%);\n",
       "        }#T_aada4a9a_f355_11eb_bba3_69309e654690row5_col1,#T_aada4a9a_f355_11eb_bba3_69309e654690row6_col1,#T_aada4a9a_f355_11eb_bba3_69309e654690row7_col1,#T_aada4a9a_f355_11eb_bba3_69309e654690row8_col1,#T_aada4a9a_f355_11eb_bba3_69309e654690row9_col1,#T_aada4a9a_f355_11eb_bba3_69309e654690row10_col1,#T_aada4a9a_f355_11eb_bba3_69309e654690row11_col1,#T_aada4a9a_f355_11eb_bba3_69309e654690row12_col1,#T_aada4a9a_f355_11eb_bba3_69309e654690row13_col1,#T_aada4a9a_f355_11eb_bba3_69309e654690row14_col1,#T_aada4a9a_f355_11eb_bba3_69309e654690row15_col1{\n",
       "            width:  10em;\n",
       "             height:  80%;\n",
       "            background:  linear-gradient(90deg,#d65f5f 14.8%, transparent 14.8%);\n",
       "        }#T_aada4a9a_f355_11eb_bba3_69309e654690row16_col1,#T_aada4a9a_f355_11eb_bba3_69309e654690row17_col1{\n",
       "            width:  10em;\n",
       "             height:  80%;\n",
       "            background:  linear-gradient(90deg,#d65f5f 1.7%, transparent 1.7%);\n",
       "        }#T_aada4a9a_f355_11eb_bba3_69309e654690row18_col1{\n",
       "            width:  10em;\n",
       "             height:  80%;\n",
       "            background:  linear-gradient(90deg,#d65f5f 1.3%, transparent 1.3%);\n",
       "        }#T_aada4a9a_f355_11eb_bba3_69309e654690row19_col1{\n",
       "            width:  10em;\n",
       "             height:  80%;\n",
       "            background:  linear-gradient(90deg,#d65f5f 0.4%, transparent 0.4%);\n",
       "        }#T_aada4a9a_f355_11eb_bba3_69309e654690row20_col1,#T_aada4a9a_f355_11eb_bba3_69309e654690row21_col1,#T_aada4a9a_f355_11eb_bba3_69309e654690row22_col1,#T_aada4a9a_f355_11eb_bba3_69309e654690row23_col1,#T_aada4a9a_f355_11eb_bba3_69309e654690row24_col1,#T_aada4a9a_f355_11eb_bba3_69309e654690row25_col1,#T_aada4a9a_f355_11eb_bba3_69309e654690row26_col1,#T_aada4a9a_f355_11eb_bba3_69309e654690row27_col1,#T_aada4a9a_f355_11eb_bba3_69309e654690row28_col1,#T_aada4a9a_f355_11eb_bba3_69309e654690row29_col1,#T_aada4a9a_f355_11eb_bba3_69309e654690row30_col1,#T_aada4a9a_f355_11eb_bba3_69309e654690row31_col1,#T_aada4a9a_f355_11eb_bba3_69309e654690row32_col1,#T_aada4a9a_f355_11eb_bba3_69309e654690row33_col1,#T_aada4a9a_f355_11eb_bba3_69309e654690row34_col1,#T_aada4a9a_f355_11eb_bba3_69309e654690row35_col1,#T_aada4a9a_f355_11eb_bba3_69309e654690row36_col1,#T_aada4a9a_f355_11eb_bba3_69309e654690row37_col1,#T_aada4a9a_f355_11eb_bba3_69309e654690row38_col1,#T_aada4a9a_f355_11eb_bba3_69309e654690row39_col1,#T_aada4a9a_f355_11eb_bba3_69309e654690row40_col1,#T_aada4a9a_f355_11eb_bba3_69309e654690row41_col1,#T_aada4a9a_f355_11eb_bba3_69309e654690row42_col1,#T_aada4a9a_f355_11eb_bba3_69309e654690row43_col1,#T_aada4a9a_f355_11eb_bba3_69309e654690row44_col1,#T_aada4a9a_f355_11eb_bba3_69309e654690row45_col1,#T_aada4a9a_f355_11eb_bba3_69309e654690row46_col1,#T_aada4a9a_f355_11eb_bba3_69309e654690row47_col1,#T_aada4a9a_f355_11eb_bba3_69309e654690row48_col1{\n",
       "            width:  10em;\n",
       "             height:  80%;\n",
       "        }</style><table id=\"T_aada4a9a_f355_11eb_bba3_69309e654690\" ><thead>    <tr>        <th class=\"blank level0\" ></th>        <th class=\"col_heading level0 col0\" >total_missing</th>        <th class=\"col_heading level0 col1\" >total_missing_pct</th>    </tr></thead><tbody>\n",
       "                <tr>\n",
       "                        <th id=\"T_aada4a9a_f355_11eb_bba3_69309e654690level0_row0\" class=\"row_heading level0 row0\" >nb_obs</th>\n",
       "                        <td id=\"T_aada4a9a_f355_11eb_bba3_69309e654690row0_col0\" class=\"data row0 col0\" >701</td>\n",
       "                        <td id=\"T_aada4a9a_f355_11eb_bba3_69309e654690row0_col1\" class=\"data row0 col1\" >100.00%</td>\n",
       "            </tr>\n",
       "            <tr>\n",
       "                        <th id=\"T_aada4a9a_f355_11eb_bba3_69309e654690level0_row1\" class=\"row_heading level0 row1\" >true_t_value</th>\n",
       "                        <td id=\"T_aada4a9a_f355_11eb_bba3_69309e654690row1_col0\" class=\"data row1 col0\" >580</td>\n",
       "                        <td id=\"T_aada4a9a_f355_11eb_bba3_69309e654690row1_col1\" class=\"data row1 col1\" >82.74%</td>\n",
       "            </tr>\n",
       "            <tr>\n",
       "                        <th id=\"T_aada4a9a_f355_11eb_bba3_69309e654690level0_row2\" class=\"row_heading level0 row2\" >true_standard_error</th>\n",
       "                        <td id=\"T_aada4a9a_f355_11eb_bba3_69309e654690row2_col0\" class=\"data row2 col0\" >245</td>\n",
       "                        <td id=\"T_aada4a9a_f355_11eb_bba3_69309e654690row2_col1\" class=\"data row2 col1\" >34.95%</td>\n",
       "            </tr>\n",
       "            <tr>\n",
       "                        <th id=\"T_aada4a9a_f355_11eb_bba3_69309e654690level0_row3\" class=\"row_heading level0 row3\" >critical_value</th>\n",
       "                        <td id=\"T_aada4a9a_f355_11eb_bba3_69309e654690row3_col0\" class=\"data row3 col0\" >232</td>\n",
       "                        <td id=\"T_aada4a9a_f355_11eb_bba3_69309e654690row3_col1\" class=\"data row3 col1\" >33.10%</td>\n",
       "            </tr>\n",
       "            <tr>\n",
       "                        <th id=\"T_aada4a9a_f355_11eb_bba3_69309e654690level0_row4\" class=\"row_heading level0 row4\" >r2</th>\n",
       "                        <td id=\"T_aada4a9a_f355_11eb_bba3_69309e654690row4_col0\" class=\"data row4 col0\" >111</td>\n",
       "                        <td id=\"T_aada4a9a_f355_11eb_bba3_69309e654690row4_col1\" class=\"data row4 col1\" >15.83%</td>\n",
       "            </tr>\n",
       "            <tr>\n",
       "                        <th id=\"T_aada4a9a_f355_11eb_bba3_69309e654690level0_row5\" class=\"row_heading level0 row5\" >total_docs_2020</th>\n",
       "                        <td id=\"T_aada4a9a_f355_11eb_bba3_69309e654690row5_col0\" class=\"data row5 col0\" >104</td>\n",
       "                        <td id=\"T_aada4a9a_f355_11eb_bba3_69309e654690row5_col1\" class=\"data row5 col1\" >14.84%</td>\n",
       "            </tr>\n",
       "            <tr>\n",
       "                        <th id=\"T_aada4a9a_f355_11eb_bba3_69309e654690level0_row6\" class=\"row_heading level0 row6\" >country</th>\n",
       "                        <td id=\"T_aada4a9a_f355_11eb_bba3_69309e654690row6_col0\" class=\"data row6 col0\" >104</td>\n",
       "                        <td id=\"T_aada4a9a_f355_11eb_bba3_69309e654690row6_col1\" class=\"data row6 col1\" >14.84%</td>\n",
       "            </tr>\n",
       "            <tr>\n",
       "                        <th id=\"T_aada4a9a_f355_11eb_bba3_69309e654690level0_row7\" class=\"row_heading level0 row7\" >cites_doc_2years</th>\n",
       "                        <td id=\"T_aada4a9a_f355_11eb_bba3_69309e654690row7_col0\" class=\"data row7 col0\" >104</td>\n",
       "                        <td id=\"T_aada4a9a_f355_11eb_bba3_69309e654690row7_col1\" class=\"data row7 col1\" >14.84%</td>\n",
       "            </tr>\n",
       "            <tr>\n",
       "                        <th id=\"T_aada4a9a_f355_11eb_bba3_69309e654690level0_row8\" class=\"row_heading level0 row8\" >citable_docs_3years</th>\n",
       "                        <td id=\"T_aada4a9a_f355_11eb_bba3_69309e654690row8_col0\" class=\"data row8 col0\" >104</td>\n",
       "                        <td id=\"T_aada4a9a_f355_11eb_bba3_69309e654690row8_col1\" class=\"data row8 col1\" >14.84%</td>\n",
       "            </tr>\n",
       "            <tr>\n",
       "                        <th id=\"T_aada4a9a_f355_11eb_bba3_69309e654690level0_row9\" class=\"row_heading level0 row9\" >total_refs</th>\n",
       "                        <td id=\"T_aada4a9a_f355_11eb_bba3_69309e654690row9_col0\" class=\"data row9 col0\" >104</td>\n",
       "                        <td id=\"T_aada4a9a_f355_11eb_bba3_69309e654690row9_col1\" class=\"data row9 col1\" >14.84%</td>\n",
       "            </tr>\n",
       "            <tr>\n",
       "                        <th id=\"T_aada4a9a_f355_11eb_bba3_69309e654690level0_row10\" class=\"row_heading level0 row10\" >total_docs_3years</th>\n",
       "                        <td id=\"T_aada4a9a_f355_11eb_bba3_69309e654690row10_col0\" class=\"data row10 col0\" >104</td>\n",
       "                        <td id=\"T_aada4a9a_f355_11eb_bba3_69309e654690row10_col1\" class=\"data row10 col1\" >14.84%</td>\n",
       "            </tr>\n",
       "            <tr>\n",
       "                        <th id=\"T_aada4a9a_f355_11eb_bba3_69309e654690level0_row11\" class=\"row_heading level0 row11\" >total_cites_3years</th>\n",
       "                        <td id=\"T_aada4a9a_f355_11eb_bba3_69309e654690row11_col0\" class=\"data row11 col0\" >104</td>\n",
       "                        <td id=\"T_aada4a9a_f355_11eb_bba3_69309e654690row11_col1\" class=\"data row11 col1\" >14.84%</td>\n",
       "            </tr>\n",
       "            <tr>\n",
       "                        <th id=\"T_aada4a9a_f355_11eb_bba3_69309e654690level0_row12\" class=\"row_heading level0 row12\" >h_index</th>\n",
       "                        <td id=\"T_aada4a9a_f355_11eb_bba3_69309e654690row12_col0\" class=\"data row12 col0\" >104</td>\n",
       "                        <td id=\"T_aada4a9a_f355_11eb_bba3_69309e654690row12_col1\" class=\"data row12 col1\" >14.84%</td>\n",
       "            </tr>\n",
       "            <tr>\n",
       "                        <th id=\"T_aada4a9a_f355_11eb_bba3_69309e654690level0_row13\" class=\"row_heading level0 row13\" >sjr_best_quartile</th>\n",
       "                        <td id=\"T_aada4a9a_f355_11eb_bba3_69309e654690row13_col0\" class=\"data row13 col0\" >104</td>\n",
       "                        <td id=\"T_aada4a9a_f355_11eb_bba3_69309e654690row13_col1\" class=\"data row13 col1\" >14.84%</td>\n",
       "            </tr>\n",
       "            <tr>\n",
       "                        <th id=\"T_aada4a9a_f355_11eb_bba3_69309e654690level0_row14\" class=\"row_heading level0 row14\" >sjr</th>\n",
       "                        <td id=\"T_aada4a9a_f355_11eb_bba3_69309e654690row14_col0\" class=\"data row14 col0\" >104</td>\n",
       "                        <td id=\"T_aada4a9a_f355_11eb_bba3_69309e654690row14_col1\" class=\"data row14 col1\" >14.84%</td>\n",
       "            </tr>\n",
       "            <tr>\n",
       "                        <th id=\"T_aada4a9a_f355_11eb_bba3_69309e654690level0_row15\" class=\"row_heading level0 row15\" >rank</th>\n",
       "                        <td id=\"T_aada4a9a_f355_11eb_bba3_69309e654690row15_col0\" class=\"data row15 col0\" >104</td>\n",
       "                        <td id=\"T_aada4a9a_f355_11eb_bba3_69309e654690row15_col1\" class=\"data row15 col1\" >14.84%</td>\n",
       "            </tr>\n",
       "            <tr>\n",
       "                        <th id=\"T_aada4a9a_f355_11eb_bba3_69309e654690level0_row16\" class=\"row_heading level0 row16\" >last_date_of_observations</th>\n",
       "                        <td id=\"T_aada4a9a_f355_11eb_bba3_69309e654690row16_col0\" class=\"data row16 col0\" >12</td>\n",
       "                        <td id=\"T_aada4a9a_f355_11eb_bba3_69309e654690row16_col1\" class=\"data row16 col1\" >1.71%</td>\n",
       "            </tr>\n",
       "            <tr>\n",
       "                        <th id=\"T_aada4a9a_f355_11eb_bba3_69309e654690level0_row17\" class=\"row_heading level0 row17\" >first_date_of_observations</th>\n",
       "                        <td id=\"T_aada4a9a_f355_11eb_bba3_69309e654690row17_col0\" class=\"data row17 col0\" >12</td>\n",
       "                        <td id=\"T_aada4a9a_f355_11eb_bba3_69309e654690row17_col1\" class=\"data row17 col1\" >1.71%</td>\n",
       "            </tr>\n",
       "            <tr>\n",
       "                        <th id=\"T_aada4a9a_f355_11eb_bba3_69309e654690level0_row18\" class=\"row_heading level0 row18\" >n</th>\n",
       "                        <td id=\"T_aada4a9a_f355_11eb_bba3_69309e654690row18_col0\" class=\"data row18 col0\" >9</td>\n",
       "                        <td id=\"T_aada4a9a_f355_11eb_bba3_69309e654690row18_col1\" class=\"data row18 col1\" >1.28%</td>\n",
       "            </tr>\n",
       "            <tr>\n",
       "                        <th id=\"T_aada4a9a_f355_11eb_bba3_69309e654690level0_row19\" class=\"row_heading level0 row19\" >beta</th>\n",
       "                        <td id=\"T_aada4a9a_f355_11eb_bba3_69309e654690row19_col0\" class=\"data row19 col0\" >3</td>\n",
       "                        <td id=\"T_aada4a9a_f355_11eb_bba3_69309e654690row19_col1\" class=\"data row19 col1\" >0.43%</td>\n",
       "            </tr>\n",
       "            <tr>\n",
       "                        <th id=\"T_aada4a9a_f355_11eb_bba3_69309e654690level0_row20\" class=\"row_heading level0 row20\" >true_stars</th>\n",
       "                        <td id=\"T_aada4a9a_f355_11eb_bba3_69309e654690row20_col0\" class=\"data row20 col0\" >0</td>\n",
       "                        <td id=\"T_aada4a9a_f355_11eb_bba3_69309e654690row20_col1\" class=\"data row20 col1\" >0.00%</td>\n",
       "            </tr>\n",
       "            <tr>\n",
       "                        <th id=\"T_aada4a9a_f355_11eb_bba3_69309e654690level0_row21\" class=\"row_heading level0 row21\" >significant</th>\n",
       "                        <td id=\"T_aada4a9a_f355_11eb_bba3_69309e654690row21_col0\" class=\"data row21 col0\" >0</td>\n",
       "                        <td id=\"T_aada4a9a_f355_11eb_bba3_69309e654690row21_col1\" class=\"data row21 col1\" >0.00%</td>\n",
       "            </tr>\n",
       "            <tr>\n",
       "                        <th id=\"T_aada4a9a_f355_11eb_bba3_69309e654690level0_row22\" class=\"row_heading level0 row22\" >quadratic_term</th>\n",
       "                        <td id=\"T_aada4a9a_f355_11eb_bba3_69309e654690row22_col0\" class=\"data row22 col0\" >0</td>\n",
       "                        <td id=\"T_aada4a9a_f355_11eb_bba3_69309e654690row22_col1\" class=\"data row22 col1\" >0.00%</td>\n",
       "            </tr>\n",
       "            <tr>\n",
       "                        <th id=\"T_aada4a9a_f355_11eb_bba3_69309e654690level0_row23\" class=\"row_heading level0 row23\" >interaction_term</th>\n",
       "                        <td id=\"T_aada4a9a_f355_11eb_bba3_69309e654690row23_col0\" class=\"data row23 col0\" >0</td>\n",
       "                        <td id=\"T_aada4a9a_f355_11eb_bba3_69309e654690row23_col1\" class=\"data row23 col1\" >0.00%</td>\n",
       "            </tr>\n",
       "            <tr>\n",
       "                        <th id=\"T_aada4a9a_f355_11eb_bba3_69309e654690level0_row24\" class=\"row_heading level0 row24\" >lag</th>\n",
       "                        <td id=\"T_aada4a9a_f355_11eb_bba3_69309e654690row24_col0\" class=\"data row24 col0\" >0</td>\n",
       "                        <td id=\"T_aada4a9a_f355_11eb_bba3_69309e654690row24_col1\" class=\"data row24 col1\" >0.00%</td>\n",
       "            </tr>\n",
       "            <tr>\n",
       "                        <th id=\"T_aada4a9a_f355_11eb_bba3_69309e654690level0_row25\" class=\"row_heading level0 row25\" >governance</th>\n",
       "                        <td id=\"T_aada4a9a_f355_11eb_bba3_69309e654690row25_col0\" class=\"data row25 col0\" >0</td>\n",
       "                        <td id=\"T_aada4a9a_f355_11eb_bba3_69309e654690row25_col1\" class=\"data row25 col1\" >0.00%</td>\n",
       "            </tr>\n",
       "            <tr>\n",
       "                        <th id=\"T_aada4a9a_f355_11eb_bba3_69309e654690level0_row26\" class=\"row_heading level0 row26\" >sign_of_effect</th>\n",
       "                        <td id=\"T_aada4a9a_f355_11eb_bba3_69309e654690row26_col0\" class=\"data row26 col0\" >0</td>\n",
       "                        <td id=\"T_aada4a9a_f355_11eb_bba3_69309e654690row26_col1\" class=\"data row26 col1\" >0.00%</td>\n",
       "            </tr>\n",
       "            <tr>\n",
       "                        <th id=\"T_aada4a9a_f355_11eb_bba3_69309e654690level0_row27\" class=\"row_heading level0 row27\" >independent</th>\n",
       "                        <td id=\"T_aada4a9a_f355_11eb_bba3_69309e654690row27_col0\" class=\"data row27 col0\" >0</td>\n",
       "                        <td id=\"T_aada4a9a_f355_11eb_bba3_69309e654690row27_col1\" class=\"data row27 col1\" >0.00%</td>\n",
       "            </tr>\n",
       "            <tr>\n",
       "                        <th id=\"T_aada4a9a_f355_11eb_bba3_69309e654690level0_row28\" class=\"row_heading level0 row28\" >environmnental</th>\n",
       "                        <td id=\"T_aada4a9a_f355_11eb_bba3_69309e654690row28_col0\" class=\"data row28 col0\" >0</td>\n",
       "                        <td id=\"T_aada4a9a_f355_11eb_bba3_69309e654690row28_col1\" class=\"data row28 col1\" >0.00%</td>\n",
       "            </tr>\n",
       "            <tr>\n",
       "                        <th id=\"T_aada4a9a_f355_11eb_bba3_69309e654690level0_row29\" class=\"row_heading level0 row29\" >social</th>\n",
       "                        <td id=\"T_aada4a9a_f355_11eb_bba3_69309e654690row29_col0\" class=\"data row29 col0\" >0</td>\n",
       "                        <td id=\"T_aada4a9a_f355_11eb_bba3_69309e654690row29_col1\" class=\"data row29 col1\" >0.00%</td>\n",
       "            </tr>\n",
       "            <tr>\n",
       "                        <th id=\"T_aada4a9a_f355_11eb_bba3_69309e654690level0_row30\" class=\"row_heading level0 row30\" >adjusted_independent</th>\n",
       "                        <td id=\"T_aada4a9a_f355_11eb_bba3_69309e654690row30_col0\" class=\"data row30 col0\" >0</td>\n",
       "                        <td id=\"T_aada4a9a_f355_11eb_bba3_69309e654690row30_col1\" class=\"data row30 col1\" >0.00%</td>\n",
       "            </tr>\n",
       "            <tr>\n",
       "                        <th id=\"T_aada4a9a_f355_11eb_bba3_69309e654690level0_row31\" class=\"row_heading level0 row31\" >type_of_data</th>\n",
       "                        <td id=\"T_aada4a9a_f355_11eb_bba3_69309e654690row31_col0\" class=\"data row31 col0\" >0</td>\n",
       "                        <td id=\"T_aada4a9a_f355_11eb_bba3_69309e654690row31_col1\" class=\"data row31 col1\" >0.00%</td>\n",
       "            </tr>\n",
       "            <tr>\n",
       "                        <th id=\"T_aada4a9a_f355_11eb_bba3_69309e654690level0_row32\" class=\"row_heading level0 row32\" >adjusted_dependent</th>\n",
       "                        <td id=\"T_aada4a9a_f355_11eb_bba3_69309e654690row32_col0\" class=\"data row32 col0\" >0</td>\n",
       "                        <td id=\"T_aada4a9a_f355_11eb_bba3_69309e654690row32_col1\" class=\"data row32 col1\" >0.00%</td>\n",
       "            </tr>\n",
       "            <tr>\n",
       "                        <th id=\"T_aada4a9a_f355_11eb_bba3_69309e654690level0_row33\" class=\"row_heading level0 row33\" >publication_year</th>\n",
       "                        <td id=\"T_aada4a9a_f355_11eb_bba3_69309e654690row33_col0\" class=\"data row33 col0\" >0</td>\n",
       "                        <td id=\"T_aada4a9a_f355_11eb_bba3_69309e654690row33_col1\" class=\"data row33 col1\" >0.00%</td>\n",
       "            </tr>\n",
       "            <tr>\n",
       "                        <th id=\"T_aada4a9a_f355_11eb_bba3_69309e654690level0_row34\" class=\"row_heading level0 row34\" >id</th>\n",
       "                        <td id=\"T_aada4a9a_f355_11eb_bba3_69309e654690row34_col0\" class=\"data row34 col0\" >0</td>\n",
       "                        <td id=\"T_aada4a9a_f355_11eb_bba3_69309e654690row34_col1\" class=\"data row34 col1\" >0.00%</td>\n",
       "            </tr>\n",
       "            <tr>\n",
       "                        <th id=\"T_aada4a9a_f355_11eb_bba3_69309e654690level0_row35\" class=\"row_heading level0 row35\" >image</th>\n",
       "                        <td id=\"T_aada4a9a_f355_11eb_bba3_69309e654690row35_col0\" class=\"data row35 col0\" >0</td>\n",
       "                        <td id=\"T_aada4a9a_f355_11eb_bba3_69309e654690row35_col1\" class=\"data row35 col1\" >0.00%</td>\n",
       "            </tr>\n",
       "            <tr>\n",
       "                        <th id=\"T_aada4a9a_f355_11eb_bba3_69309e654690level0_row36\" class=\"row_heading level0 row36\" >table_refer</th>\n",
       "                        <td id=\"T_aada4a9a_f355_11eb_bba3_69309e654690row36_col0\" class=\"data row36 col0\" >0</td>\n",
       "                        <td id=\"T_aada4a9a_f355_11eb_bba3_69309e654690row36_col1\" class=\"data row36 col1\" >0.00%</td>\n",
       "            </tr>\n",
       "            <tr>\n",
       "                        <th id=\"T_aada4a9a_f355_11eb_bba3_69309e654690level0_row37\" class=\"row_heading level0 row37\" >incremental_id</th>\n",
       "                        <td id=\"T_aada4a9a_f355_11eb_bba3_69309e654690row37_col0\" class=\"data row37 col0\" >0</td>\n",
       "                        <td id=\"T_aada4a9a_f355_11eb_bba3_69309e654690row37_col1\" class=\"data row37 col1\" >0.00%</td>\n",
       "            </tr>\n",
       "            <tr>\n",
       "                        <th id=\"T_aada4a9a_f355_11eb_bba3_69309e654690level0_row38\" class=\"row_heading level0 row38\" >paper_name</th>\n",
       "                        <td id=\"T_aada4a9a_f355_11eb_bba3_69309e654690row38_col0\" class=\"data row38 col0\" >0</td>\n",
       "                        <td id=\"T_aada4a9a_f355_11eb_bba3_69309e654690row38_col1\" class=\"data row38 col1\" >0.00%</td>\n",
       "            </tr>\n",
       "            <tr>\n",
       "                        <th id=\"T_aada4a9a_f355_11eb_bba3_69309e654690level0_row39\" class=\"row_heading level0 row39\" >publication_name</th>\n",
       "                        <td id=\"T_aada4a9a_f355_11eb_bba3_69309e654690row39_col0\" class=\"data row39 col0\" >0</td>\n",
       "                        <td id=\"T_aada4a9a_f355_11eb_bba3_69309e654690row39_col1\" class=\"data row39 col1\" >0.00%</td>\n",
       "            </tr>\n",
       "            <tr>\n",
       "                        <th id=\"T_aada4a9a_f355_11eb_bba3_69309e654690level0_row40\" class=\"row_heading level0 row40\" >publication_type</th>\n",
       "                        <td id=\"T_aada4a9a_f355_11eb_bba3_69309e654690row40_col0\" class=\"data row40 col0\" >0</td>\n",
       "                        <td id=\"T_aada4a9a_f355_11eb_bba3_69309e654690row40_col1\" class=\"data row40 col1\" >0.00%</td>\n",
       "            </tr>\n",
       "            <tr>\n",
       "                        <th id=\"T_aada4a9a_f355_11eb_bba3_69309e654690level0_row41\" class=\"row_heading level0 row41\" >dependent</th>\n",
       "                        <td id=\"T_aada4a9a_f355_11eb_bba3_69309e654690row41_col0\" class=\"data row41 col0\" >0</td>\n",
       "                        <td id=\"T_aada4a9a_f355_11eb_bba3_69309e654690row41_col1\" class=\"data row41 col1\" >0.00%</td>\n",
       "            </tr>\n",
       "            <tr>\n",
       "                        <th id=\"T_aada4a9a_f355_11eb_bba3_69309e654690level0_row42\" class=\"row_heading level0 row42\" >cnrs_ranking</th>\n",
       "                        <td id=\"T_aada4a9a_f355_11eb_bba3_69309e654690row42_col0\" class=\"data row42 col0\" >0</td>\n",
       "                        <td id=\"T_aada4a9a_f355_11eb_bba3_69309e654690row42_col1\" class=\"data row42 col1\" >0.00%</td>\n",
       "            </tr>\n",
       "            <tr>\n",
       "                        <th id=\"T_aada4a9a_f355_11eb_bba3_69309e654690level0_row43\" class=\"row_heading level0 row43\" >peer_reviewed</th>\n",
       "                        <td id=\"T_aada4a9a_f355_11eb_bba3_69309e654690row43_col0\" class=\"data row43 col0\" >0</td>\n",
       "                        <td id=\"T_aada4a9a_f355_11eb_bba3_69309e654690row43_col1\" class=\"data row43 col1\" >0.00%</td>\n",
       "            </tr>\n",
       "            <tr>\n",
       "                        <th id=\"T_aada4a9a_f355_11eb_bba3_69309e654690level0_row44\" class=\"row_heading level0 row44\" >study_focused_on_social_environmental_behaviour</th>\n",
       "                        <td id=\"T_aada4a9a_f355_11eb_bba3_69309e654690row44_col0\" class=\"data row44 col0\" >0</td>\n",
       "                        <td id=\"T_aada4a9a_f355_11eb_bba3_69309e654690row44_col1\" class=\"data row44 col1\" >0.00%</td>\n",
       "            </tr>\n",
       "            <tr>\n",
       "                        <th id=\"T_aada4a9a_f355_11eb_bba3_69309e654690level0_row45\" class=\"row_heading level0 row45\" >to_remove</th>\n",
       "                        <td id=\"T_aada4a9a_f355_11eb_bba3_69309e654690row45_col0\" class=\"data row45 col0\" >0</td>\n",
       "                        <td id=\"T_aada4a9a_f355_11eb_bba3_69309e654690row45_col1\" class=\"data row45 col1\" >0.00%</td>\n",
       "            </tr>\n",
       "            <tr>\n",
       "                        <th id=\"T_aada4a9a_f355_11eb_bba3_69309e654690level0_row46\" class=\"row_heading level0 row46\" >study_focusing_on_developing_or_developed_countries</th>\n",
       "                        <td id=\"T_aada4a9a_f355_11eb_bba3_69309e654690row46_col0\" class=\"data row46 col0\" >0</td>\n",
       "                        <td id=\"T_aada4a9a_f355_11eb_bba3_69309e654690row46_col1\" class=\"data row46 col1\" >0.00%</td>\n",
       "            </tr>\n",
       "            <tr>\n",
       "                        <th id=\"T_aada4a9a_f355_11eb_bba3_69309e654690level0_row47\" class=\"row_heading level0 row47\" >adjusted_model</th>\n",
       "                        <td id=\"T_aada4a9a_f355_11eb_bba3_69309e654690row47_col0\" class=\"data row47 col0\" >0</td>\n",
       "                        <td id=\"T_aada4a9a_f355_11eb_bba3_69309e654690row47_col1\" class=\"data row47 col1\" >0.00%</td>\n",
       "            </tr>\n",
       "            <tr>\n",
       "                        <th id=\"T_aada4a9a_f355_11eb_bba3_69309e654690level0_row48\" class=\"row_heading level0 row48\" >to_check_final</th>\n",
       "                        <td id=\"T_aada4a9a_f355_11eb_bba3_69309e654690row48_col0\" class=\"data row48 col0\" >0</td>\n",
       "                        <td id=\"T_aada4a9a_f355_11eb_bba3_69309e654690row48_col1\" class=\"data row48 col1\" >0.00%</td>\n",
       "            </tr>\n",
       "    </tbody></table>"
      ],
      "text/plain": [
       "<pandas.io.formats.style.Styler at 0x7f6210bcde80>"
      ]
     },
     "metadata": {},
     "output_type": "display_data"
    }
   ],
   "source": [
    "update_glue_github.count_missing(client = client, name_json = name_json, bucket = bucket,TableName = table_name)"
   ]
  },
  {
   "cell_type": "markdown",
   "metadata": {},
   "source": [
    "# Update Github Data catalog\n",
    "\n",
    "The data catalog is available in Glue. Although, we might want to get a quick access to the tables in Github. In this part, we are generating a `README.md` in the folder `00_data_catalogue`. All tables used in the project will be added to the catalog. We use the ETL parameter file and the schema in Glue to create the README. \n",
    "\n",
    "Bear in mind the code will erase the previous README. "
   ]
  },
  {
   "cell_type": "code",
   "execution_count": 16,
   "metadata": {},
   "outputs": [],
   "source": [
    "create_schema.make_data_schema_github(name_json = name_json)"
   ]
  },
  {
   "cell_type": "markdown",
   "metadata": {},
   "source": [
    "# Analytics\n",
    "\n",
    "In this part, we are providing basic summary statistic. Since we have created the tables, we can parse the schema in Glue and use our json file to automatically generates the analysis.\n",
    "\n",
    "The cells below execute the job in the key `ANALYSIS`. You need to change the `primary_key` and `secondary_key` "
   ]
  },
  {
   "cell_type": "markdown",
   "metadata": {},
   "source": [
    "For a full analysis of the table, please use the following Lambda function. Be patient, it can takes between 5 to 30 minutes. Times varies according to the number of columns in your dataset.\n",
    "\n",
    "Use the function as follow:\n",
    "\n",
    "- `output_prefix`:  s3://datalake-datascience/ANALYTICS/OUTPUT/TABLE_NAME/\n",
    "- `region`: region where the table is stored\n",
    "- `bucket`: Name of the bucket\n",
    "- `DatabaseName`: Name of the database\n",
    "- `table_name`: Name of the table\n",
    "- `group`: variables name to group to count the duplicates\n",
    "- `primary_key`: Variable name to perform the grouping -> Only one variable for now\n",
    "- `secondary_key`: Variable name to perform the secondary grouping -> Only one variable for now\n",
    "- `proba`: Chi-square analysis probabilitity\n",
    "- `y_var`: Continuous target variables\n",
    "\n",
    "Check the job processing in Sagemaker: https://eu-west-3.console.aws.amazon.com/sagemaker/home?region=eu-west-3#/processing-jobs\n",
    "\n",
    "The notebook is available: https://s3.console.aws.amazon.com/s3/buckets/datalake-datascience?region=eu-west-3&prefix=ANALYTICS/OUTPUT/&showversions=false\n",
    "\n",
    "Please, download the notebook on your local machine, and convert it to HTML:\n",
    "\n",
    "```\n",
    "cd \"/Users/thomas/Downloads/Notebook\"\n",
    "aws s3 cp s3://datalake-datascience/ANALYTICS/OUTPUT/asif_unzip_data_csv/Template_analysis_from_lambda-2020-11-22-08-12-20.ipynb .\n",
    "\n",
    "## convert HTML no code\n",
    "jupyter nbconvert --no-input --to html Template_analysis_from_lambda-2020-11-21-14-30-45.ipynb\n",
    "jupyter nbconvert --to html Template_analysis_from_lambda-2020-11-22-08-12-20.ipynb\n",
    "```\n",
    "\n",
    "Then upload the HTML to: https://s3.console.aws.amazon.com/s3/buckets/datalake-datascience?region=eu-west-3&prefix=ANALYTICS/HTML_OUTPUT/\n",
    "\n",
    "Add a new folder with the table name in upper case"
   ]
  },
  {
   "cell_type": "code",
   "execution_count": null,
   "metadata": {},
   "outputs": [],
   "source": [
    "import boto3\n",
    "\n",
    "key, secret_ = con.load_credential()\n",
    "client_lambda = boto3.client(\n",
    "    'lambda',\n",
    "    aws_access_key_id=key,\n",
    "    aws_secret_access_key=secret_,\n",
    "    region_name = region)"
   ]
  },
  {
   "cell_type": "code",
   "execution_count": null,
   "metadata": {},
   "outputs": [],
   "source": [
    "primary_key = ''\n",
    "secondary_key = ''\n",
    "y_var = ''"
   ]
  },
  {
   "cell_type": "code",
   "execution_count": null,
   "metadata": {},
   "outputs": [],
   "source": [
    "payload = {\n",
    "    \"input_path\": \"s3://datalake-datascience/ANALYTICS/TEMPLATE_NOTEBOOKS/template_analysis_from_lambda.ipynb\",\n",
    "    \"output_prefix\": \"s3://datalake-datascience/ANALYTICS/OUTPUT/{}/\".format(table_name.upper()),\n",
    "    \"parameters\": {\n",
    "        \"region\": \"{}\".format(region),\n",
    "        \"bucket\": \"{}\".format(bucket),\n",
    "        \"DatabaseName\": \"{}\".format(DatabaseName),\n",
    "        \"table_name\": \"{}\".format(table_name),\n",
    "        \"group\": \"{}\".format(','.join(partition_keys)),\n",
    "        \"keys\": \"{},{}\".format(primary_key,secondary_key),\n",
    "        \"y_var\": \"{}\".format(y_var),\n",
    "        \"threshold\":0\n",
    "    },\n",
    "}\n",
    "payload"
   ]
  },
  {
   "cell_type": "code",
   "execution_count": null,
   "metadata": {},
   "outputs": [],
   "source": [
    "response = client_lambda.invoke(\n",
    "    FunctionName='RunNotebook',\n",
    "    InvocationType='RequestResponse',\n",
    "    LogType='Tail',\n",
    "    Payload=json.dumps(payload),\n",
    ")\n",
    "response"
   ]
  },
  {
   "cell_type": "markdown",
   "metadata": {},
   "source": [
    "# Generation report"
   ]
  },
  {
   "cell_type": "code",
   "execution_count": null,
   "metadata": {},
   "outputs": [],
   "source": [
    "import os, time, shutil, urllib, ipykernel, json\n",
    "from pathlib import Path\n",
    "from notebook import notebookapp"
   ]
  },
  {
   "cell_type": "code",
   "execution_count": null,
   "metadata": {},
   "outputs": [],
   "source": [
    "create_report.create_report(extension = \"html\", keep_code = True, notebookname =  notebookname)"
   ]
  },
  {
   "cell_type": "code",
   "execution_count": null,
   "metadata": {},
   "outputs": [],
   "source": [
    "create_schema.create_schema(name_json, path_save_image = os.path.join(parent_path, 'utils'))"
   ]
  },
  {
   "cell_type": "code",
   "execution_count": null,
   "metadata": {},
   "outputs": [],
   "source": [
    "### Update TOC in Github\n",
    "for p in [parent_path,\n",
    "          str(Path(path).parent),\n",
    "          os.path.join(str(Path(path).parent), \"00_download_data\"),\n",
    "          #os.path.join(str(Path(path).parent.parent), \"02_data_analysis\"),\n",
    "          #os.path.join(str(Path(path).parent.parent), \"02_data_analysis\", \"00_statistical_exploration\"),\n",
    "          #os.path.join(str(Path(path).parent.parent), \"02_data_analysis\", \"01_model_estimation\"),\n",
    "         ]:\n",
    "    try:\n",
    "        os.remove(os.path.join(p, 'README.md'))\n",
    "    except:\n",
    "        pass\n",
    "    path_parameter = os.path.join(parent_path,'utils', name_json)\n",
    "    md_lines =  make_toc.create_index(cwd = p, path_parameter = path_parameter)\n",
    "    md_out_fn = os.path.join(p,'README.md')\n",
    "    \n",
    "    if p == parent_path:\n",
    "    \n",
    "        make_toc.replace_index(md_out_fn, md_lines, Header = os.path.basename(p).replace('_', ' '), add_description = True, path_parameter = path_parameter)\n",
    "    else:\n",
    "        make_toc.replace_index(md_out_fn, md_lines, Header = os.path.basename(p).replace('_', ' '), add_description = False)"
   ]
  }
 ],
 "metadata": {
  "jupytext": {
   "formats": "ipynb,md"
  },
  "kernel_info": {
   "name": "python3"
  },
  "kernelspec": {
   "display_name": "Python 3",
   "language": "python",
   "name": "python3"
  },
  "language_info": {
   "codemirror_mode": {
    "name": "ipython",
    "version": 3
   },
   "file_extension": ".py",
   "mimetype": "text/x-python",
   "name": "python",
   "nbconvert_exporter": "python",
   "pygments_lexer": "ipython3",
   "version": "3.8.5"
  },
  "nteract": {
   "version": "0.22.0"
  },
  "toc": {
   "base_numbering": 1,
   "nav_menu": {},
   "number_sections": true,
   "sideBar": true,
   "skip_h1_title": false,
   "title_cell": "Table of Contents",
   "title_sidebar": "Contents",
   "toc_cell": false,
   "toc_position": {},
   "toc_section_display": true,
   "toc_window_display": false
  }
 },
 "nbformat": 4,
 "nbformat_minor": 4
}
