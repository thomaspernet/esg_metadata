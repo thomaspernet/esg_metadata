{
 "cells": [
  {
   "cell_type": "markdown",
   "metadata": {
    "lines_to_next_cell": 0
   },
   "source": [
    "# US Name\n",
    "\n",
    "Data preparation combine table information and journals\n",
    "\n",
    "\n",
    "# Description\n",
    "\n",
    "None\n",
    "\n",
    "## Merge\n",
    "\n",
    "**Main table** \n",
    "\n",
    "papers_meta_analysis_new\n",
    "\n",
    "Merged with:\n",
    "\n",
    "- papers_meta_analysis\n",
    "- journals_scimago\n",
    "\n",
    "# Target\n",
    "\n",
    "- The file is saved in S3:\n",
    "- bucket: datalake-datascience\n",
    "- path: DATA/FINANCE/ESG/ESG_CFP\n",
    "- Glue data catalog should be updated\n",
    "- database: esg\n",
    "- Table prefix: meta_analysis_\n",
    "- table name: meta_analysis_esg_cfp\n",
    "- Analytics\n",
    "- HTML: ANALYTICS/HTML_OUTPUT/meta_analysis_esg_cfp\n",
    "- Notebook: ANALYTICS/OUTPUT/meta_analysis_esg_cfp\n",
    "\n",
    "# Metadata\n",
    "\n",
    "- Key: 234_esg_metadata\n",
    "- Epic: Dataset transformation\n",
    "- US: Prepare meta-analysis table\n",
    "- Task tag: #journal-information, #papers-information\n",
    "- Analytics reports: https://htmlpreview.github.io/?https://github.com/thomaspernet/esg_metadata/blob/master/00_data_catalog/HTML_ANALYSIS/META_ANALYSIS_ESG_CFP.html\n",
    "\n",
    "# Input\n",
    "\n",
    "## Table/file\n",
    "\n",
    "**Name**\n",
    "\n",
    "- papers_meta_analysis_new\n",
    "- papers_meta_analysis\n",
    "- journals_scimago\n",
    "\n",
    "**Github**\n",
    "\n",
    "- https://github.com/thomaspernet/esg_metadata/blob/master/01_data_preprocessing/01_transform_tables/00_meta_analysis.md"
   ]
  },
  {
   "cell_type": "code",
   "execution_count": null,
   "metadata": {
    "collapsed": false,
    "inputHidden": false,
    "jupyter": {
     "outputs_hidden": false
    },
    "outputHidden": false
   },
   "outputs": [],
   "source": [
    "from awsPy.aws_authorization import aws_connector\n",
    "from awsPy.aws_s3 import service_s3\n",
    "from awsPy.aws_glue import service_glue\n",
    "from pathlib import Path\n",
    "import pandas as pd\n",
    "import numpy as np\n",
    "import seaborn as sns\n",
    "import os, shutil, json, re\n",
    "\n",
    "path = os.getcwd()\n",
    "parent_path = str(Path(path).parent.parent)\n",
    "\n",
    "\n",
    "name_credential = 'financial_dep_SO2_accessKeys.csv'\n",
    "region = 'eu-west-2'\n",
    "bucket = 'datalake-london'\n",
    "path_cred = \"{0}/creds/{1}\".format(parent_path, name_credential)"
   ]
  },
  {
   "cell_type": "code",
   "execution_count": null,
   "metadata": {
    "collapsed": false,
    "inputHidden": false,
    "jupyter": {
     "outputs_hidden": false
    },
    "outputHidden": false
   },
   "outputs": [],
   "source": [
    "con = aws_connector.aws_instantiate(credential = path_cred,\n",
    "                                       region = region)\n",
    "client= con.client_boto()\n",
    "s3 = service_s3.connect_S3(client = client,\n",
    "                      bucket = bucket, verbose = True) \n",
    "glue = service_glue.connect_glue(client = client) "
   ]
  },
  {
   "cell_type": "code",
   "execution_count": null,
   "metadata": {},
   "outputs": [],
   "source": [
    "pandas_setting = True\n",
    "if pandas_setting:\n",
    "    cm = sns.light_palette(\"green\", as_cmap=True)\n",
    "    pd.set_option('display.max_columns', None)\n",
    "    pd.set_option('display.max_colwidth', None)"
   ]
  },
  {
   "cell_type": "markdown",
   "metadata": {},
   "source": [
    "# Prepare query \n",
    "\n",
    "Write query and save the CSV back in the S3 bucket `datalake-datascience` "
   ]
  },
  {
   "cell_type": "markdown",
   "metadata": {},
   "source": [
    "# Steps"
   ]
  },
  {
   "cell_type": "markdown",
   "metadata": {},
   "source": [
    "## Merge journal and papers table"
   ]
  },
  {
   "cell_type": "code",
   "execution_count": null,
   "metadata": {},
   "outputs": [],
   "source": [
    "DatabaseName = 'esg'\n",
    "s3_output_example = 'SQL_OUTPUT_ATHENA'"
   ]
  },
  {
   "cell_type": "code",
   "execution_count": null,
   "metadata": {},
   "outputs": [],
   "source": [
    "query = \"\"\"\n",
    "WITH merge AS (\n",
    "  SELECT \n",
    "    id, \n",
    "    paper_name, \n",
    "    publication_year, \n",
    "    publication_type, \n",
    "    regexp_replace(\n",
    "      regexp_replace(\n",
    "        lower(publication_name), \n",
    "        '\\&', \n",
    "        'and'\n",
    "      ), \n",
    "      '\\-', \n",
    "      ' '\n",
    "    ) as publication_name, \n",
    "    cnrs_ranking, \n",
    "    -- ranking, \n",
    "    peer_reviewed, \n",
    "    study_focused_on_social_environmental_behaviour, \n",
    "    type_of_data, \n",
    "    study_focusing_on_developing_or_developed_countries, \n",
    "    first_date_of_observations,\n",
    "    last_date_of_observations,\n",
    "    dependent, \n",
    "    independent, \n",
    "    lag, \n",
    "    interaction_term, \n",
    "    quadratic_term, \n",
    "    n, \n",
    "    r2, \n",
    "    beta, \n",
    "    to_remove, \n",
    "    critical_value, \n",
    "    true_standard_error, \n",
    "    true_t_value, \n",
    "    true_stars, \n",
    "    adjusted_dependent, \n",
    "    adjusted_independent, \n",
    "    adjusted_model, \n",
    "    significant,\n",
    "    to_check_final\n",
    "  FROM \n",
    "    esg.papers_meta_analysis_new \n",
    "    LEFT JOIN (\n",
    "      SELECT \n",
    "        DISTINCT(title), \n",
    "        nr, \n",
    "        publication_year, \n",
    "        publication_type, \n",
    "        publication_name, \n",
    "        cnrs_ranking, \n",
    "        peer_reviewed, \n",
    "        study_focused_on_social_environmental_behaviour, \n",
    "        type_of_data, \n",
    "        study_focusing_on_developing_or_developed_countries\n",
    "      FROM \n",
    "        esg.papers_meta_analysis\n",
    "    ) as old on papers_meta_analysis_new.id = old.nr\n",
    "    -- WHERE to_remove = 'TO_KEEP'\n",
    "LEFT JOIN (\n",
    "SELECT \n",
    "        nr,\n",
    "        CAST(MIN(first_date_of_observations) as int) as first_date_of_observations,\n",
    "        CAST(MAX(last_date_of_observations)as int) as last_date_of_observations\n",
    "      FROM \n",
    "        esg.papers_meta_analysis\n",
    "        GROUP BY nr\n",
    ") as date_pub on papers_meta_analysis_new.id = date_pub.nr\n",
    ") \n",
    "SELECT \n",
    "  * \n",
    "FROM \n",
    "  merge \n",
    "  LEFT JOIN (\n",
    "    SELECT \n",
    "      rank, \n",
    "      regexp_replace(\n",
    "        regexp_replace(\n",
    "          lower(title), \n",
    "          '\\&', \n",
    "          'and'\n",
    "        ), \n",
    "        '\\-', \n",
    "        ' '\n",
    "      ) as title, \n",
    "      sjr, \n",
    "      sjr_best_quartile, \n",
    "      h_index, \n",
    "      total_docs_2020, \n",
    "      total_docs_3years, \n",
    "      total_refs, \n",
    "      total_cites_3years, \n",
    "      citable_docs_3years, \n",
    "      cites_doc_2years, \n",
    "      country \n",
    "    FROM \n",
    "      \"scimago\".\"journals_scimago\"\n",
    "    WHERE sourceid not in (16400154787)\n",
    "  ) as journal on merge.publication_name = journal.title\n",
    "\"\"\"\n",
    "output = (\n",
    "    s3.run_query(\n",
    "    query=query,\n",
    "    database=DatabaseName,\n",
    "    s3_output=s3_output_example,\n",
    "    filename='example_1',\n",
    "        dtype = {'publication_year':'string'}\n",
    ")\n",
    "    .sort_values(by = ['id', 'first_date_of_observations'])\n",
    "    .drop_duplicates()\n",
    "    .assign(weight = lambda x: x.groupby(['id'])['id'].transform('size'))\n",
    ")\n",
    "output.head()"
   ]
  },
  {
   "cell_type": "code",
   "execution_count": null,
   "metadata": {},
   "outputs": [],
   "source": [
    "output.shape"
   ]
  },
  {
   "cell_type": "code",
   "execution_count": null,
   "metadata": {},
   "outputs": [],
   "source": [
    "output.describe()"
   ]
  },
  {
   "cell_type": "code",
   "execution_count": null,
   "metadata": {},
   "outputs": [],
   "source": [
    "#output[output.duplicated(subset = ['id', 'beta',\n",
    "#                                   'true_standard_error', 'critical_value', 'lag', 'independent',\n",
    "#                                  'true_t_value', 'true_stars', 'adjusted_model'\n",
    "#                                  ])].head()"
   ]
  },
  {
   "cell_type": "markdown",
   "metadata": {},
   "source": [
    "Missing journals"
   ]
  },
  {
   "cell_type": "code",
   "execution_count": null,
   "metadata": {},
   "outputs": [],
   "source": [
    "output.loc[lambda x: x['title'].isin([np.nan])]['publication_name'].unique()"
   ]
  },
  {
   "cell_type": "markdown",
   "metadata": {},
   "source": [
    "Currently, the missing values come from the rows to check in [METADATA_TABLES_COLLECTION](https://docs.google.com/spreadsheets/d/1d66_CVtWni7wmKlIMcpaoanvT2ghmjbXARiHgnLWvUw/edit#gid=899172650)"
   ]
  },
  {
   "cell_type": "code",
   "execution_count": null,
   "metadata": {},
   "outputs": [],
   "source": [
    "#output.loc[lambda x: x['true_standard_error'].isin([np.nan])].head(5)"
   ]
  },
  {
   "cell_type": "code",
   "execution_count": null,
   "metadata": {},
   "outputs": [],
   "source": [
    "output.isna().sum().loc[lambda x: x> 0].sort_values()"
   ]
  },
  {
   "cell_type": "markdown",
   "metadata": {},
   "source": [
    "Journal withouts critical information"
   ]
  },
  {
   "cell_type": "markdown",
   "metadata": {},
   "source": [
    "# Table `meta_analysis_esg_cfp`\n",
    "\n",
    "Since the table to create has missing value, please use the following at the top of the query\n",
    "\n",
    "```\n",
    "CREATE TABLE database.table_name WITH (format = 'PARQUET') AS\n",
    "```"
   ]
  },
  {
   "cell_type": "markdown",
   "metadata": {},
   "source": [
    "Choose a location in S3 to save the CSV. It is recommended to save in it the `datalake-datascience` bucket. Locate an appropriate folder in the bucket, and make sure all output have the same format"
   ]
  },
  {
   "cell_type": "code",
   "execution_count": null,
   "metadata": {},
   "outputs": [],
   "source": [
    "s3_output = 'DATA/FINANCE/ESG/ESG_CFP'\n",
    "table_name = 'meta_analysis_esg_cfp'"
   ]
  },
  {
   "cell_type": "markdown",
   "metadata": {},
   "source": [
    "First, we need to delete the table (if exist)"
   ]
  },
  {
   "cell_type": "code",
   "execution_count": null,
   "metadata": {},
   "outputs": [],
   "source": [
    "try:\n",
    "    response = glue.delete_table(\n",
    "        database=DatabaseName,\n",
    "        table=table_name\n",
    "    )\n",
    "    print(response)\n",
    "except Exception as e:\n",
    "    print(e)"
   ]
  },
  {
   "cell_type": "markdown",
   "metadata": {},
   "source": [
    "Clean up the folder with the previous csv file. Be careful, it will erase all files inside the folder"
   ]
  },
  {
   "cell_type": "code",
   "execution_count": null,
   "metadata": {},
   "outputs": [],
   "source": [
    "s3.remove_all_bucket(path_remove = s3_output)"
   ]
  },
  {
   "cell_type": "code",
   "execution_count": null,
   "metadata": {},
   "outputs": [],
   "source": [
    "%%time\n",
    "query = \"\"\"\n",
    "CREATE TABLE {0}.{1} WITH (format = 'PARQUET') AS\n",
    "WITH merge AS (\n",
    "  SELECT \n",
    "    id, \n",
    "    paper_name, \n",
    "    publication_year, \n",
    "    publication_type, \n",
    "    regexp_replace(\n",
    "      regexp_replace(\n",
    "        lower(publication_name), \n",
    "        '\\&', \n",
    "        'and'\n",
    "      ), \n",
    "      '\\-', \n",
    "      ' '\n",
    "    ) as publication_name, \n",
    "    cnrs_ranking, \n",
    "    -- ranking, \n",
    "    peer_reviewed, \n",
    "    study_focused_on_social_environmental_behaviour, \n",
    "    type_of_data, \n",
    "    study_focusing_on_developing_or_developed_countries, \n",
    "    first_date_of_observations,\n",
    "    last_date_of_observations,\n",
    "    dependent, \n",
    "    independent, \n",
    "    lag, \n",
    "    interaction_term, \n",
    "    quadratic_term, \n",
    "    n, \n",
    "    r2, \n",
    "    beta, \n",
    "    to_remove, \n",
    "    critical_value, \n",
    "    true_standard_error, \n",
    "    true_t_value, \n",
    "    true_stars, \n",
    "    adjusted_dependent, \n",
    "    adjusted_independent, \n",
    "    adjusted_model, \n",
    "    significant,\n",
    "    to_check_final\n",
    "  FROM \n",
    "    esg.papers_meta_analysis_new \n",
    "    LEFT JOIN (\n",
    "      SELECT \n",
    "        DISTINCT(title), \n",
    "        nr, \n",
    "        publication_year, \n",
    "        publication_type, \n",
    "        publication_name, \n",
    "        cnrs_ranking, \n",
    "        peer_reviewed, \n",
    "        study_focused_on_social_environmental_behaviour, \n",
    "        type_of_data, \n",
    "        study_focusing_on_developing_or_developed_countries\n",
    "      FROM \n",
    "        esg.papers_meta_analysis\n",
    "    ) as old on papers_meta_analysis_new.id = old.nr\n",
    "    -- WHERE to_remove = 'TO_KEEP'\n",
    "LEFT JOIN (\n",
    "SELECT \n",
    "        nr,\n",
    "        CAST(MIN(first_date_of_observations) as int) as first_date_of_observations,\n",
    "        CAST(MAX(last_date_of_observations)as int) as last_date_of_observations\n",
    "      FROM \n",
    "        esg.papers_meta_analysis\n",
    "        GROUP BY nr\n",
    ") as date_pub on papers_meta_analysis_new.id = date_pub.nr\n",
    ") \n",
    "SELECT \n",
    "  * \n",
    "FROM \n",
    "  merge \n",
    "  LEFT JOIN (\n",
    "    SELECT \n",
    "      rank, \n",
    "      regexp_replace(\n",
    "        regexp_replace(\n",
    "          lower(title), \n",
    "          '\\&', \n",
    "          'and'\n",
    "        ), \n",
    "        '\\-', \n",
    "        ' '\n",
    "      ) as title, \n",
    "      sjr, \n",
    "      sjr_best_quartile, \n",
    "      h_index, \n",
    "      total_docs_2020, \n",
    "      total_docs_3years, \n",
    "      total_refs, \n",
    "      total_cites_3years, \n",
    "      citable_docs_3years, \n",
    "      cites_doc_2years, \n",
    "      country \n",
    "    FROM \n",
    "      \"scimago\".\"journals_scimago\"\n",
    "    WHERE sourceid not in (16400154787)\n",
    "  ) as journal on merge.publication_name = journal.title\n",
    "\"\"\".format(DatabaseName, table_name)\n",
    "output = s3.run_query(\n",
    "                    query=query,\n",
    "                    database=DatabaseName,\n",
    "                    s3_output=s3_output,\n",
    "                )\n",
    "output"
   ]
  },
  {
   "cell_type": "code",
   "execution_count": null,
   "metadata": {},
   "outputs": [],
   "source": [
    "query_count = \"\"\"\n",
    "SELECT COUNT(*) AS CNT\n",
    "FROM {}.{} \n",
    "\"\"\".format(DatabaseName, table_name)\n",
    "output = s3.run_query(\n",
    "                    query=query_count,\n",
    "                    database=DatabaseName,\n",
    "                    s3_output=s3_output_example,\n",
    "    filename = 'count_{}'.format(table_name)\n",
    "                )\n",
    "output"
   ]
  },
  {
   "cell_type": "markdown",
   "metadata": {},
   "source": [
    "# Validate query\n",
    "\n",
    "This step is mandatory to validate the query in the ETL. If you are not sure about the quality of the query, go to the next step."
   ]
  },
  {
   "cell_type": "markdown",
   "metadata": {},
   "source": [
    "To validate the query, please fillin the json below. Don't forget to change the schema so that the crawler can use it.\n",
    "\n",
    "1. Change the schema if needed. It is highly recommanded to add comment to the fields\n",
    "2. Add a partition key:\n",
    "    - Inform if there is group in the table so that, the parser can compute duplicate\n",
    "3. Provide a description -> detail the steps "
   ]
  },
  {
   "cell_type": "markdown",
   "metadata": {},
   "source": [
    "1. Change the schema\n",
    "\n",
    "Bear in mind that CSV SerDe (OpenCSVSerDe) does not support empty fields in columns defined as a numeric data type. All columns with missing values should be saved as string. "
   ]
  },
  {
   "cell_type": "code",
   "execution_count": null,
   "metadata": {},
   "outputs": [],
   "source": [
    "comments = [\n",
    "    glue.get_table_information(\n",
    "    database = j,\n",
    "    table = i)['Table']['StorageDescriptor']['Columns']\n",
    "    for i, j in [('journals_scimago', \"scimago\"), ('papers_meta_analysis',\"esg\"), ('papers_meta_analysis_new', \"esg\")]\n",
    "]"
   ]
  },
  {
   "cell_type": "code",
   "execution_count": null,
   "metadata": {},
   "outputs": [],
   "source": [
    "schema = glue.get_table_information(\n",
    "    database = DatabaseName,\n",
    "    table = table_name)['Table']['StorageDescriptor']['Columns']"
   ]
  },
  {
   "cell_type": "code",
   "execution_count": null,
   "metadata": {},
   "outputs": [],
   "source": [
    "schema = [\n",
    "    {\n",
    "        \"Name\": \"VAR1\",\n",
    "        \"Type\": \"\",\n",
    "        \"Comment\": \"\"\n",
    "    },\n",
    "    {\n",
    "        \"Name\": \"VAR2\",\n",
    "        \"Type\": \"\",\n",
    "        \"Comment\": \"\"\n",
    "    }\n",
    "]"
   ]
  },
  {
   "cell_type": "markdown",
   "metadata": {},
   "source": [
    "2. Provide a description"
   ]
  },
  {
   "cell_type": "code",
   "execution_count": null,
   "metadata": {},
   "outputs": [],
   "source": [
    "description = \"\"\"\n",
    "\n",
    "\"\"\""
   ]
  },
  {
   "cell_type": "markdown",
   "metadata": {},
   "source": [
    "3. provide metadata\n",
    "\n",
    "- DatabaseName:\n",
    "- TablePrefix:\n",
    "- input: \n",
    "- filename: Name of the notebook or Python script: to indicate\n",
    "- Task ID: from Coda\n",
    "- index_final_table: a list to indicate if the current table is used to prepare the final table(s). If more than one, pass the index. Start at 0\n",
    "- if_final: A boolean. Indicates if the current table is the final table -> the one the model will be used to be trained"
   ]
  },
  {
   "cell_type": "code",
   "execution_count": null,
   "metadata": {},
   "outputs": [],
   "source": [
    "name_json = 'parameters_ETL_TEMPLATE.json'\n",
    "path_json = os.path.join(str(Path(path).parent.parent), 'utils',name_json)"
   ]
  },
  {
   "cell_type": "code",
   "execution_count": null,
   "metadata": {},
   "outputs": [],
   "source": [
    "with open(path_json) as json_file:\n",
    "    parameters = json.load(json_file)"
   ]
  },
  {
   "cell_type": "code",
   "execution_count": null,
   "metadata": {},
   "outputs": [],
   "source": [
    "partition_keys = [\"\"]\n",
    "notebookname =  \"XX.ipynb\"\n",
    "index_final_table = [0]\n",
    "if_final = 'False'"
   ]
  },
  {
   "cell_type": "code",
   "execution_count": null,
   "metadata": {},
   "outputs": [],
   "source": [
    "github_url = os.path.join(\n",
    "    \"https://github.com/\",\n",
    "    parameters['GLOBAL']['GITHUB']['owner'],\n",
    "    parameters['GLOBAL']['GITHUB']['repo_name'],\n",
    "    \"blob/master\",\n",
    "    re.sub(parameters['GLOBAL']['GITHUB']['repo_name'],\n",
    "           '', re.sub(\n",
    "               r\".*(?={})\".format(parameters['GLOBAL']['GITHUB']['repo_name'])\n",
    "               , '', path))[1:],\n",
    "    re.sub('.ipynb','.md',notebookname)\n",
    ")"
   ]
  },
  {
   "cell_type": "markdown",
   "metadata": {},
   "source": [
    "Grab the input name from query"
   ]
  },
  {
   "cell_type": "code",
   "execution_count": null,
   "metadata": {},
   "outputs": [],
   "source": [
    "list_input = []\n",
    "tables = glue.get_tables(full_output = False)\n",
    "regex_matches = re.findall(r'(?=\\.).*?(?=\\s)|(?=\\.\\\").*?(?=\\\")', query)\n",
    "for i in regex_matches:\n",
    "    cleaning = i.lstrip().rstrip().replace('.', '').replace('\"', '')\n",
    "    if cleaning in tables and cleaning != table_name:\n",
    "        list_input.append(cleaning)"
   ]
  },
  {
   "cell_type": "code",
   "execution_count": null,
   "metadata": {},
   "outputs": [],
   "source": [
    "json_etl = {\n",
    "    'description': description,\n",
    "    'query': query,\n",
    "    'schema': schema,\n",
    "    'partition_keys': partition_keys,\n",
    "    'metadata': {\n",
    "        'DatabaseName': DatabaseName,\n",
    "        'TableName': table_name,\n",
    "        'input': list_input,\n",
    "        'target_S3URI': os.path.join('s3://', bucket, s3_output),\n",
    "        'from_athena': 'True',\n",
    "        'filename': notebookname,\n",
    "        'index_final_table' : index_final_table,\n",
    "        'if_final': if_final,\n",
    "         'github_url':github_url\n",
    "    }\n",
    "}\n",
    "json_etl['metadata']"
   ]
  },
  {
   "cell_type": "markdown",
   "metadata": {},
   "source": [
    "**Chose carefully PREPARATION or TRANSFORMATION**"
   ]
  },
  {
   "cell_type": "code",
   "execution_count": null,
   "metadata": {},
   "outputs": [],
   "source": [
    "index_to_remove = next(\n",
    "                (\n",
    "                    index\n",
    "                    for (index, d) in enumerate(parameters['TABLES']['TRANSFORMATION']['STEPS'])\n",
    "                    if d['metadata']['TableName'] == table_name\n",
    "                ),\n",
    "                None,\n",
    "            )\n",
    "if index_to_remove != None:\n",
    "    parameters['TABLES']['TRANSFORMATION']['STEPS'].pop(index_to_remove)\n",
    "parameters['TABLES']['PREPARATION']['STEPS'].append(json_etl)"
   ]
  },
  {
   "cell_type": "code",
   "execution_count": null,
   "metadata": {},
   "outputs": [],
   "source": [
    "print(\"Currently, the ETL has {} tables\".format(len(parameters['TABLES']['TRANSFORMATION']['STEPS'])))"
   ]
  },
  {
   "cell_type": "markdown",
   "metadata": {},
   "source": [
    "Save JSON"
   ]
  },
  {
   "cell_type": "code",
   "execution_count": null,
   "metadata": {},
   "outputs": [],
   "source": [
    "with open(path_json, \"w\") as json_file:\n",
    "    json.dump(parameters, json_file)"
   ]
  },
  {
   "cell_type": "markdown",
   "metadata": {},
   "source": [
    "# Create or update the data catalog\n",
    "\n",
    "The query is saved in the S3 (bucket `datalake-datascience`) but the table is not available yet in the Data Catalog. Use the function `create_table_glue` to generate the table and update the catalog.\n",
    "\n",
    "Few parameters are required:\n",
    "\n",
    "- name_crawler: Name of the crawler\n",
    "- Role: Role to temporary provide an access tho the service\n",
    "- DatabaseName: Name of the database to create the table\n",
    "- TablePrefix: Prefix of the table. Full name of the table will be `TablePrefix` + folder name\n",
    "\n",
    "To update the schema, please use the following structure\n",
    "\n",
    "```\n",
    "schema = [\n",
    "    {\n",
    "        \"Name\": \"VAR1\",\n",
    "        \"Type\": \"\",\n",
    "        \"Comment\": \"\"\n",
    "    },\n",
    "    {\n",
    "        \"Name\": \"VAR2\",\n",
    "        \"Type\": \"\",\n",
    "        \"Comment\": \"\"\n",
    "    }\n",
    "]\n",
    "```"
   ]
  },
  {
   "cell_type": "code",
   "execution_count": null,
   "metadata": {},
   "outputs": [],
   "source": [
    "glue.update_schema_table(\n",
    "    database = DatabaseName,\n",
    "    table = table_name,\n",
    "    schema= schema)"
   ]
  },
  {
   "cell_type": "markdown",
   "metadata": {},
   "source": [
    "## Check Duplicates\n",
    "\n",
    "One of the most important step when creating a table is to check if the table contains duplicates. The cell below checks if the table generated before is empty of duplicates. The code uses the JSON file to create the query parsed in Athena. \n",
    "\n",
    "You are required to define the group(s) that Athena will use to compute the duplicate. For instance, your table can be grouped by COL1 and COL2 (need to be string or varchar), then pass the list ['COL1', 'COL2'] "
   ]
  },
  {
   "cell_type": "code",
   "execution_count": null,
   "metadata": {},
   "outputs": [],
   "source": [
    "#partition_keys = []\n",
    "\n",
    "with open(path_json) as json_file:\n",
    "    parameters = json.load(json_file)"
   ]
  },
  {
   "cell_type": "code",
   "execution_count": null,
   "metadata": {},
   "outputs": [],
   "source": [
    "### COUNT DUPLICATES\n",
    "if len(partition_keys) > 0:\n",
    "    groups = ' , '.join(partition_keys)\n",
    "\n",
    "    query_duplicates = parameters[\"ANALYSIS\"]['COUNT_DUPLICATES']['query'].format(\n",
    "                                DatabaseName,table_name,groups\n",
    "                                )\n",
    "    dup = s3.run_query(\n",
    "                                query=query_duplicates,\n",
    "                                database=DatabaseName,\n",
    "                                s3_output=\"SQL_OUTPUT_ATHENA\",\n",
    "                                filename=\"duplicates_{}\".format(table_name))\n",
    "    display(dup)\n"
   ]
  },
  {
   "cell_type": "markdown",
   "metadata": {},
   "source": [
    "## Count missing values"
   ]
  },
  {
   "cell_type": "code",
   "execution_count": null,
   "metadata": {},
   "outputs": [],
   "source": [
    "#table = 'XX'\n",
    "schema = glue.get_table_information(\n",
    "    database = DatabaseName,\n",
    "    table = table_name\n",
    ")['Table']"
   ]
  },
  {
   "cell_type": "code",
   "execution_count": null,
   "metadata": {},
   "outputs": [],
   "source": [
    "from datetime import date\n",
    "today = date.today().strftime('%Y%M%d')"
   ]
  },
  {
   "cell_type": "code",
   "execution_count": null,
   "metadata": {},
   "outputs": [],
   "source": [
    "table_top = parameters[\"ANALYSIS\"][\"COUNT_MISSING\"][\"top\"]\n",
    "table_middle = \"\"\n",
    "table_bottom = parameters[\"ANALYSIS\"][\"COUNT_MISSING\"][\"bottom\"].format(\n",
    "    DatabaseName, table_name\n",
    ")\n",
    "\n",
    "for key, value in enumerate(schema[\"StorageDescriptor\"][\"Columns\"]):\n",
    "    if key == len(schema[\"StorageDescriptor\"][\"Columns\"]) - 1:\n",
    "\n",
    "        table_middle += \"{} \".format(\n",
    "            parameters[\"ANALYSIS\"][\"COUNT_MISSING\"][\"middle\"].format(value[\"Name\"])\n",
    "        )\n",
    "    else:\n",
    "        table_middle += \"{} ,\".format(\n",
    "            parameters[\"ANALYSIS\"][\"COUNT_MISSING\"][\"middle\"].format(value[\"Name\"])\n",
    "        )\n",
    "query = table_top + table_middle + table_bottom\n",
    "output = s3.run_query(\n",
    "    query=query,\n",
    "    database=DatabaseName,\n",
    "    s3_output=\"SQL_OUTPUT_ATHENA\",\n",
    "    filename=\"count_missing\",  ## Add filename to print dataframe\n",
    "    destination_key=None,  ### Add destination key if need to copy output\n",
    ")\n",
    "display(\n",
    "    output.T.rename(columns={0: \"total_missing\"})\n",
    "    .assign(total_missing_pct=lambda x: x[\"total_missing\"] / x.iloc[0, 0])\n",
    "    .sort_values(by=[\"total_missing\"], ascending=False)\n",
    "    .style.format(\"{0:,.2%}\", subset=[\"total_missing_pct\"])\n",
    "    .bar(subset=\"total_missing_pct\", color=[\"#d65f5f\"])\n",
    ")"
   ]
  },
  {
   "cell_type": "markdown",
   "metadata": {},
   "source": [
    "# Update Github Data catalog\n",
    "\n",
    "The data catalog is available in Glue. Although, we might want to get a quick access to the tables in Github. In this part, we are generating a `README.md` in the folder `00_data_catalogue`. All tables used in the project will be added to the catalog. We use the ETL parameter file and the schema in Glue to create the README. \n",
    "\n",
    "Bear in mind the code will erase the previous README. "
   ]
  },
  {
   "cell_type": "code",
   "execution_count": null,
   "metadata": {},
   "outputs": [],
   "source": [
    "import sys\n",
    "sys.path.append(os.path.join(parent_path, 'utils'))\n",
    "import make_toc\n",
    "import create_schema\n",
    "import create_report"
   ]
  },
  {
   "cell_type": "code",
   "execution_count": null,
   "metadata": {},
   "outputs": [],
   "source": [
    "create_schema.make_data_schema_github(path = path,parameters = parameters)"
   ]
  },
  {
   "cell_type": "markdown",
   "metadata": {},
   "source": [
    "# Analytics\n",
    "\n",
    "In this part, we are providing basic summary statistic. Since we have created the tables, we can parse the schema in Glue and use our json file to automatically generates the analysis.\n",
    "\n",
    "The cells below execute the job in the key `ANALYSIS`. You need to change the `primary_key` and `secondary_key` "
   ]
  },
  {
   "cell_type": "markdown",
   "metadata": {},
   "source": [
    "For a full analysis of the table, please use the following Lambda function. Be patient, it can takes between 5 to 30 minutes. Times varies according to the number of columns in your dataset.\n",
    "\n",
    "Use the function as follow:\n",
    "\n",
    "- `output_prefix`:  s3://datalake-datascience/ANALYTICS/OUTPUT/TABLE_NAME/\n",
    "- `region`: region where the table is stored\n",
    "- `bucket`: Name of the bucket\n",
    "- `DatabaseName`: Name of the database\n",
    "- `table_name`: Name of the table\n",
    "- `group`: variables name to group to count the duplicates\n",
    "- `primary_key`: Variable name to perform the grouping -> Only one variable for now\n",
    "- `secondary_key`: Variable name to perform the secondary grouping -> Only one variable for now\n",
    "- `proba`: Chi-square analysis probabilitity\n",
    "- `y_var`: Continuous target variables\n",
    "\n",
    "Check the job processing in Sagemaker: https://eu-west-3.console.aws.amazon.com/sagemaker/home?region=eu-west-3#/processing-jobs\n",
    "\n",
    "The notebook is available: https://s3.console.aws.amazon.com/s3/buckets/datalake-datascience?region=eu-west-3&prefix=ANALYTICS/OUTPUT/&showversions=false\n",
    "\n",
    "Please, download the notebook on your local machine, and convert it to HTML:\n",
    "\n",
    "```\n",
    "cd \"/Users/thomas/Downloads/Notebook\"\n",
    "aws s3 cp s3://datalake-datascience/ANALYTICS/OUTPUT/asif_unzip_data_csv/Template_analysis_from_lambda-2020-11-22-08-12-20.ipynb .\n",
    "\n",
    "## convert HTML no code\n",
    "jupyter nbconvert --no-input --to html Template_analysis_from_lambda-2020-11-21-14-30-45.ipynb\n",
    "jupyter nbconvert --to html Template_analysis_from_lambda-2020-11-22-08-12-20.ipynb\n",
    "```\n",
    "\n",
    "Then upload the HTML to: https://s3.console.aws.amazon.com/s3/buckets/datalake-datascience?region=eu-west-3&prefix=ANALYTICS/HTML_OUTPUT/\n",
    "\n",
    "Add a new folder with the table name in upper case"
   ]
  },
  {
   "cell_type": "code",
   "execution_count": null,
   "metadata": {},
   "outputs": [],
   "source": [
    "import boto3\n",
    "\n",
    "key, secret_ = con.load_credential()\n",
    "client_lambda = boto3.client(\n",
    "    'lambda',\n",
    "    aws_access_key_id=key,\n",
    "    aws_secret_access_key=secret_,\n",
    "    region_name = region)"
   ]
  },
  {
   "cell_type": "code",
   "execution_count": null,
   "metadata": {},
   "outputs": [],
   "source": [
    "primary_key = ''\n",
    "secondary_key = ''\n",
    "y_var = ''"
   ]
  },
  {
   "cell_type": "code",
   "execution_count": null,
   "metadata": {},
   "outputs": [],
   "source": [
    "payload = {\n",
    "    \"input_path\": \"s3://datalake-datascience/ANALYTICS/TEMPLATE_NOTEBOOKS/template_analysis_from_lambda.ipynb\",\n",
    "    \"output_prefix\": \"s3://datalake-datascience/ANALYTICS/OUTPUT/{}/\".format(table_name.upper()),\n",
    "    \"parameters\": {\n",
    "        \"region\": \"{}\".format(region),\n",
    "        \"bucket\": \"{}\".format(bucket),\n",
    "        \"DatabaseName\": \"{}\".format(DatabaseName),\n",
    "        \"table_name\": \"{}\".format(table_name),\n",
    "        \"group\": \"{}\".format(','.join(partition_keys)),\n",
    "        \"keys\": \"{},{}\".format(primary_key,secondary_key),\n",
    "        \"y_var\": \"{}\".format(y_var),\n",
    "        \"threshold\":0\n",
    "    },\n",
    "}\n",
    "payload"
   ]
  },
  {
   "cell_type": "code",
   "execution_count": null,
   "metadata": {},
   "outputs": [],
   "source": [
    "response = client_lambda.invoke(\n",
    "    FunctionName='RunNotebook',\n",
    "    InvocationType='RequestResponse',\n",
    "    LogType='Tail',\n",
    "    Payload=json.dumps(payload),\n",
    ")\n",
    "response"
   ]
  },
  {
   "cell_type": "markdown",
   "metadata": {},
   "source": [
    "# Generation report"
   ]
  },
  {
   "cell_type": "code",
   "execution_count": null,
   "metadata": {},
   "outputs": [],
   "source": [
    "import os, time, shutil, urllib, ipykernel, json\n",
    "from pathlib import Path\n",
    "from notebook import notebookapp"
   ]
  },
  {
   "cell_type": "code",
   "execution_count": null,
   "metadata": {},
   "outputs": [],
   "source": [
    "create_report.create_report(extension = \"html\", keep_code = True, notebookname =  notebookname)"
   ]
  },
  {
   "cell_type": "code",
   "execution_count": null,
   "metadata": {},
   "outputs": [],
   "source": [
    "create_schema.create_schema(path_json, path_save_image = os.path.join(parent_path, 'utils'))"
   ]
  },
  {
   "cell_type": "code",
   "execution_count": null,
   "metadata": {},
   "outputs": [],
   "source": [
    "### Update TOC in Github\n",
    "for p in [parent_path,\n",
    "          str(Path(path).parent),\n",
    "          os.path.join(str(Path(path).parent), \"00_download_data\"),\n",
    "          #os.path.join(str(Path(path).parent.parent), \"02_data_analysis\"),\n",
    "          #os.path.join(str(Path(path).parent.parent), \"02_data_analysis\", \"00_statistical_exploration\"),\n",
    "          #os.path.join(str(Path(path).parent.parent), \"02_data_analysis\", \"01_model_estimation\"),\n",
    "         ]:\n",
    "    try:\n",
    "        os.remove(os.path.join(p, 'README.md'))\n",
    "    except:\n",
    "        pass\n",
    "    path_parameter = os.path.join(parent_path,'utils', name_json)\n",
    "    md_lines =  make_toc.create_index(cwd = p, path_parameter = path_parameter)\n",
    "    md_out_fn = os.path.join(p,'README.md')\n",
    "    \n",
    "    if p == parent_path:\n",
    "    \n",
    "        make_toc.replace_index(md_out_fn, md_lines, Header = os.path.basename(p).replace('_', ' '), add_description = True, path_parameter = path_parameter)\n",
    "    else:\n",
    "        make_toc.replace_index(md_out_fn, md_lines, Header = os.path.basename(p).replace('_', ' '), add_description = False)"
   ]
  }
 ],
 "metadata": {
  "jupytext": {
   "formats": "ipynb,md"
  },
  "kernel_info": {
   "name": "python3"
  },
  "kernelspec": {
   "display_name": "Python 3",
   "language": "python",
   "name": "python3"
  },
  "language_info": {
   "codemirror_mode": {
    "name": "ipython",
    "version": 3
   },
   "file_extension": ".py",
   "mimetype": "text/x-python",
   "name": "python",
   "nbconvert_exporter": "python",
   "pygments_lexer": "ipython3",
   "version": "3.8.5"
  },
  "nteract": {
   "version": "0.22.0"
  },
  "toc": {
   "base_numbering": 1,
   "nav_menu": {},
   "number_sections": true,
   "sideBar": true,
   "skip_h1_title": false,
   "title_cell": "Table of Contents",
   "title_sidebar": "Contents",
   "toc_cell": false,
   "toc_position": {},
   "toc_section_display": true,
   "toc_window_display": false
  }
 },
 "nbformat": 4,
 "nbformat_minor": 4
}
