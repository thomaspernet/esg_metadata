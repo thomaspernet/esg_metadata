{
 "cells": [
  {
   "cell_type": "markdown",
   "metadata": {
    "lines_to_next_cell": 0
   },
   "source": [
    "# US Name\n",
    "\n",
    "Data preparation combine table information and journals\n",
    "\n",
    "\n",
    "# Description\n",
    "\n",
    "None\n",
    "\n",
    "## Merge\n",
    "\n",
    "**Main table** \n",
    "\n",
    "papers_meta_analysis_new\n",
    "\n",
    "Merged with:\n",
    "\n",
    "- papers_meta_analysis\n",
    "- journals_scimago\n",
    "\n",
    "# Target\n",
    "\n",
    "- The file is saved in S3:\n",
    "- bucket: datalake-datascience\n",
    "- path: DATA/FINANCE/ESG/ESG_CFP\n",
    "- Glue data catalog should be updated\n",
    "- database: esg\n",
    "- Table prefix: meta_analysis_\n",
    "- table name: meta_analysis_esg_cfp\n",
    "- Analytics\n",
    "- HTML: ANALYTICS/HTML_OUTPUT/meta_analysis_esg_cfp\n",
    "- Notebook: ANALYTICS/OUTPUT/meta_analysis_esg_cfp\n",
    "\n",
    "# Metadata\n",
    "\n",
    "- Key: 234_esg_metadata\n",
    "- Epic: Dataset transformation\n",
    "- US: Prepare meta-analysis table\n",
    "- Task tag: #journal-information, #papers-information\n",
    "- Analytics reports: https://htmlpreview.github.io/?https://github.com/thomaspernet/esg_metadata/blob/master/00_data_catalog/HTML_ANALYSIS/META_ANALYSIS_ESG_CFP.html\n",
    "\n",
    "# Input\n",
    "\n",
    "## Table/file\n",
    "\n",
    "**Name**\n",
    "\n",
    "- papers_meta_analysis_new\n",
    "- papers_meta_analysis\n",
    "- journals_scimago\n",
    "\n",
    "**Github**\n",
    "\n",
    "- https://github.com/thomaspernet/esg_metadata/blob/master/01_data_preprocessing/01_transform_tables/00_meta_analysis.md"
   ]
  },
  {
   "cell_type": "code",
   "execution_count": 1,
   "metadata": {
    "collapsed": false,
    "inputHidden": false,
    "jupyter": {
     "outputs_hidden": false
    },
    "outputHidden": false
   },
   "outputs": [],
   "source": [
    "from awsPy.aws_authorization import aws_connector\n",
    "from awsPy.aws_s3 import service_s3\n",
    "from awsPy.aws_glue import service_glue\n",
    "from pathlib import Path\n",
    "import pandas as pd\n",
    "import numpy as np\n",
    "import seaborn as sns\n",
    "import os, shutil, json, re\n",
    "\n",
    "path = os.getcwd()\n",
    "parent_path = str(Path(path).parent.parent)\n",
    "\n",
    "\n",
    "name_credential = 'financial_dep_SO2_accessKeys.csv'\n",
    "region = 'eu-west-2'\n",
    "bucket = 'datalake-london'\n",
    "path_cred = \"{0}/creds/{1}\".format(parent_path, name_credential)"
   ]
  },
  {
   "cell_type": "code",
   "execution_count": 2,
   "metadata": {
    "collapsed": false,
    "inputHidden": false,
    "jupyter": {
     "outputs_hidden": false
    },
    "outputHidden": false
   },
   "outputs": [],
   "source": [
    "con = aws_connector.aws_instantiate(credential = path_cred,\n",
    "                                       region = region)\n",
    "client= con.client_boto()\n",
    "s3 = service_s3.connect_S3(client = client,\n",
    "                      bucket = bucket, verbose = True) \n",
    "glue = service_glue.connect_glue(client = client) "
   ]
  },
  {
   "cell_type": "code",
   "execution_count": 3,
   "metadata": {},
   "outputs": [],
   "source": [
    "pandas_setting = True\n",
    "if pandas_setting:\n",
    "    cm = sns.light_palette(\"green\", as_cmap=True)\n",
    "    pd.set_option('display.max_columns', None)\n",
    "    pd.set_option('display.max_colwidth', None)"
   ]
  },
  {
   "cell_type": "markdown",
   "metadata": {},
   "source": [
    "# Prepare query \n",
    "\n",
    "Write query and save the CSV back in the S3 bucket `datalake-datascience` "
   ]
  },
  {
   "cell_type": "markdown",
   "metadata": {},
   "source": [
    "# Steps"
   ]
  },
  {
   "cell_type": "markdown",
   "metadata": {},
   "source": [
    "## Merge journal and papers table"
   ]
  },
  {
   "cell_type": "code",
   "execution_count": null,
   "metadata": {},
   "outputs": [],
   "source": [
    "DatabaseName = 'esg'\n",
    "s3_output_example = 'SQL_OUTPUT_ATHENA'"
   ]
  },
  {
   "cell_type": "code",
   "execution_count": null,
   "metadata": {},
   "outputs": [],
   "source": [
    "query = \"\"\"\n",
    "WITH merge AS (\n",
    "  SELECT \n",
    "    id, \n",
    "    image,\n",
    "    row_id_excel,\n",
    "    table_refer,\n",
    "    row_id_google_spreadsheet,\n",
    "    incremental_id,\n",
    "    paper_name, \n",
    "    publication_year, \n",
    "    publication_type, \n",
    "    regexp_replace(\n",
    "      regexp_replace(\n",
    "        lower(publication_name), \n",
    "        '\\&', \n",
    "        'and'\n",
    "      ), \n",
    "      '\\-', \n",
    "      ' '\n",
    "    ) as publication_name, \n",
    "    cnrs_ranking, \n",
    "    UPPER(peer_reviewed) as peer_reviewed, \n",
    "    UPPER(study_focused_on_social_environmental_behaviour) as study_focused_on_social_environmental_behaviour, \n",
    "    type_of_data, \n",
    "    CASE WHEN regions = 'ARAB WORLD' THEN 'WORLDWIDE' ELSE regions END AS regions,\n",
    "    CASE WHEN study_focusing_on_developing_or_developed_countries = 'Europe' THEN 'WORLDWIDE' ELSE UPPER(study_focusing_on_developing_or_developed_countries) END AS study_focusing_on_developing_or_developed_countries,\n",
    "    first_date_of_observations,\n",
    "    last_date_of_observations,\n",
    "    CASE WHEN first_date_of_observations >= 1997 THEN 'YES' ELSE 'NO' END AS kyoto,\n",
    "    CASE WHEN first_date_of_observations >= 2009 THEN 'YES' ELSE 'NO' END AS financial_crisis,\n",
    "    last_date_of_observations - first_date_of_observations as windows,\n",
    "    adjusted_model_name,\n",
    "    adjusted_model,\n",
    "    dependent, \n",
    "    adjusted_dependent,\n",
    "    independent,\n",
    "    adjusted_independent, \n",
    "    social,\n",
    "    environmental,\n",
    "    governance,\n",
    "    sign_of_effect,\n",
    "    target,\n",
    "    p_value_significant,\n",
    "    sign_positive,\n",
    "    sign_negative,\n",
    "    lag, \n",
    "    interaction_term, \n",
    "    quadratic_term, \n",
    "    n, \n",
    "    r2, \n",
    "    beta, \n",
    "    to_remove,\n",
    "    test_standard_error,\n",
    "    test_p_value,\n",
    "    test_t_value,\n",
    "    adjusted_standard_error,\n",
    "    adjusted_t_value\n",
    "  FROM \n",
    "    esg.papers_meta_analysis_new \n",
    "    LEFT JOIN (\n",
    "      SELECT \n",
    "        DISTINCT(title),\n",
    "        nr, \n",
    "        publication_year, \n",
    "        publication_type, \n",
    "        publication_name, \n",
    "        cnrs_ranking, \n",
    "        peer_reviewed, \n",
    "        study_focused_on_social_environmental_behaviour, \n",
    "        type_of_data, \n",
    "        study_focusing_on_developing_or_developed_countries\n",
    "      FROM \n",
    "        esg.papers_meta_analysis\n",
    "    ) as old on papers_meta_analysis_new.id = old.nr\n",
    "    -- WHERE to_remove = 'TO_KEEP'\n",
    "LEFT JOIN (\n",
    "SELECT \n",
    "        nr,\n",
    "        CAST(MIN(first_date_of_observations) as int) as first_date_of_observations,\n",
    "        CAST(MAX(last_date_of_observations)as int) as last_date_of_observations,\n",
    "        min(row_id_excel) as row_id_excel\n",
    "      FROM \n",
    "        esg.papers_meta_analysis\n",
    "        GROUP BY nr\n",
    ") as date_pub on papers_meta_analysis_new.id = date_pub.nr\n",
    "LEFT JOIN (\n",
    "SELECT \n",
    "  nr, \n",
    "  MIN(regions) as regions \n",
    "FROM \n",
    "  (\n",
    "    SELECT \n",
    "      nr, \n",
    "      CASE WHEN regions_of_selected_firms in (\n",
    "        'Cameroon', 'Egypt', 'Libya', 'Morocco', \n",
    "        'Nigeria'\n",
    "      ) THEN 'AFRICA' WHEN regions_of_selected_firms in ('GCC countries') THEN 'ARAB WORLD' WHEN regions_of_selected_firms in (\n",
    "        'India', 'Indonesia', 'Taiwan', 'Vietnam', \n",
    "        'Australia', 'China', 'Iran', 'Malaysia', \n",
    "        'Pakistan', 'South Korea', 'Bangladesh'\n",
    "      ) THEN 'ASIA AND PACIFIC' WHEN regions_of_selected_firms in (\n",
    "        'Spain', '20 European countries', \n",
    "        'United Kingdom', 'France', 'Germany, Italy, the Netherlands and United Kingdom', \n",
    "        'Turkey', 'UK'\n",
    "      ) THEN 'EUROPE' WHEN regions_of_selected_firms in ('Latin America', 'Brazil') THEN 'LATIN AMERICA' WHEN regions_of_selected_firms in ('USA', 'US', 'U.S.', 'Canada') THEN 'NORTH AMERICA' ELSE 'WORLDWIDE' END AS regions \n",
    "    FROM \n",
    "      papers_meta_analysis\n",
    "  ) \n",
    "GROUP BY \n",
    "  nr\n",
    ") as reg on papers_meta_analysis_new.id = reg.nr\n",
    ") \n",
    "SELECT \n",
    "    to_remove, \n",
    "    id, \n",
    "    image,\n",
    "    row_id_excel,\n",
    "    row_id_google_spreadsheet,\n",
    "    table_refer,\n",
    "    incremental_id,\n",
    "    paper_name,\n",
    "    publication_name,\n",
    "    rank,\n",
    "    sjr, \n",
    "    sjr_best_quartile, \n",
    "    h_index, \n",
    "    total_docs_2020, \n",
    "    total_docs_3years, \n",
    "    total_refs, \n",
    "    total_cites_3years, \n",
    "    citable_docs_3years, \n",
    "    cites_doc_2years, \n",
    "    country ,\n",
    "    publication_year, \n",
    "    publication_type, \n",
    "    cnrs_ranking, \n",
    "    peer_reviewed, \n",
    "    study_focused_on_social_environmental_behaviour, \n",
    "    type_of_data, \n",
    "    regions,\n",
    "    study_focusing_on_developing_or_developed_countries,\n",
    "    first_date_of_observations,\n",
    "    last_date_of_observations - (windows/2) as mid_year,\n",
    "    last_date_of_observations,\n",
    "    kyoto,\n",
    "    financial_crisis,\n",
    "    windows,\n",
    "    adjusted_model_name,\n",
    "    adjusted_model,\n",
    "    dependent, \n",
    "    adjusted_dependent,\n",
    "    independent,\n",
    "    adjusted_independent, \n",
    "    social,\n",
    "    environmental,\n",
    "    governance,\n",
    "    sign_of_effect,\n",
    "    target,\n",
    "    p_value_significant,\n",
    "    sign_positive,\n",
    "    sign_negative,\n",
    "    lag, \n",
    "    interaction_term, \n",
    "    quadratic_term, \n",
    "    n, \n",
    "    r2, \n",
    "    beta, \n",
    "    test_standard_error,\n",
    "    test_p_value,\n",
    "    test_t_value,\n",
    "    adjusted_standard_error,\n",
    "    adjusted_t_value \n",
    "FROM \n",
    "  merge \n",
    "  LEFT JOIN (\n",
    "    SELECT \n",
    "      rank, \n",
    "      regexp_replace(\n",
    "        regexp_replace(\n",
    "          lower(title), \n",
    "          '\\&', \n",
    "          'and'\n",
    "        ), \n",
    "        '\\-', \n",
    "        ' '\n",
    "      ) as title, \n",
    "      sjr, \n",
    "      sjr_best_quartile, \n",
    "      h_index, \n",
    "      total_docs_2020, \n",
    "      total_docs_3years, \n",
    "      total_refs, \n",
    "      total_cites_3years, \n",
    "      citable_docs_3years, \n",
    "      cites_doc_2years, \n",
    "      country \n",
    "    FROM \n",
    "      \"scimago\".\"journals_scimago\"\n",
    "    WHERE sourceid not in (16400154787)\n",
    "  ) as journal on merge.publication_name = journal.title\n",
    "\"\"\"\n",
    "output = (\n",
    "    s3.run_query(\n",
    "    query=query,\n",
    "    database=DatabaseName,\n",
    "    s3_output=s3_output_example,\n",
    "    filename='example_1',\n",
    "        dtype = {'publication_year':'string'}\n",
    ")\n",
    "    .sort_values(by = ['id', 'first_date_of_observations'])\n",
    "    .drop_duplicates()\n",
    "    .assign(weight = lambda x: x.groupby(['id'])['id'].transform('size'))\n",
    ")\n",
    "output.head()"
   ]
  },
  {
   "cell_type": "code",
   "execution_count": null,
   "metadata": {},
   "outputs": [],
   "source": [
    "output.shape"
   ]
  },
  {
   "cell_type": "code",
   "execution_count": null,
   "metadata": {},
   "outputs": [],
   "source": [
    "output.describe()"
   ]
  },
  {
   "cell_type": "code",
   "execution_count": null,
   "metadata": {},
   "outputs": [],
   "source": [
    "output['weight'].describe()"
   ]
  },
  {
   "cell_type": "code",
   "execution_count": null,
   "metadata": {},
   "outputs": [],
   "source": [
    "#output[output.duplicated(subset = ['id', 'beta',\n",
    "#                                   'true_standard_error', 'critical_value', 'lag', 'independent',\n",
    "#                                  'true_t_value', 'true_stars', 'adjusted_model'\n",
    "#                                  ])].head()"
   ]
  },
  {
   "cell_type": "markdown",
   "metadata": {},
   "source": [
    "Missing journals"
   ]
  },
  {
   "cell_type": "code",
   "execution_count": null,
   "metadata": {},
   "outputs": [],
   "source": [
    "output.loc[lambda x: x['rank'].isin([np.nan])]['publication_name'].unique()"
   ]
  },
  {
   "cell_type": "markdown",
   "metadata": {},
   "source": [
    "Currently, the missing values come from the rows to check in [METADATA_TABLES_COLLECTION](https://docs.google.com/spreadsheets/d/1d66_CVtWni7wmKlIMcpaoanvT2ghmjbXARiHgnLWvUw/edit#gid=899172650)"
   ]
  },
  {
   "cell_type": "code",
   "execution_count": null,
   "metadata": {},
   "outputs": [],
   "source": [
    "output.isna().sum().loc[lambda x: x> 0].sort_values()"
   ]
  },
  {
   "cell_type": "markdown",
   "metadata": {},
   "source": [
    "## Explain missings:\n",
    "\n",
    "### Date\n",
    "\n",
    "- 'Does Corporate Social Responsibility Pay Off in Times of Crisis? An Alternate Perspective on the Relationship between Financial and Corporate Social Performance':\n",
    "    - No date\n",
    "- 'How does corporate social responsibility contribute to firm financial performance? The mediating role of competitive advantage reputation and customer satisfaction',\n",
    "    - No date\n",
    "- 'L’impact de la responsabilité sociale (RSE) sur la performance financière des entreprises (PFE) au Cameroun'\n",
    "    - Poor date formating: 2007 Semester I, 2007 Semester I"
   ]
  },
  {
   "cell_type": "code",
   "execution_count": null,
   "metadata": {},
   "outputs": [],
   "source": [
    "def make_clickable(val):\n",
    "    return '<a href=\"{}\">{}</a>'.format(val,val)"
   ]
  },
  {
   "cell_type": "code",
   "execution_count": null,
   "metadata": {},
   "outputs": [],
   "source": [
    "(\n",
    "    output\n",
    "    .loc[lambda x: x['first_date_of_observations'].isin([np.nan])]\n",
    "    .reindex(columns = ['paper_name', 'row_id_excel'])\n",
    "    .drop_duplicates()\n",
    "    .style\n",
    "    .format(make_clickable, subset = ['row_id_excel'])\n",
    ")"
   ]
  },
  {
   "cell_type": "markdown",
   "metadata": {},
   "source": [
    "### location\n",
    "\n",
    "- Corporate social responsibility and financial performance in Islamic banks\n",
    "    - Missing\n",
    "- Corporate social responsibility and financial performance: the ‘‘virtuous circle’’ revisited\n",
    "    - Missing"
   ]
  },
  {
   "cell_type": "code",
   "execution_count": null,
   "metadata": {},
   "outputs": [],
   "source": [
    "(\n",
    "    output\n",
    "    .loc[lambda x: x['study_focusing_on_developing_or_developed_countries'].isin([np.nan])]\n",
    "    .reindex(columns = ['paper_name', 'row_id_excel'])\n",
    "    .drop_duplicates()\n",
    "    .style\n",
    "    .format(make_clickable, subset = ['row_id_excel'])\n",
    ")"
   ]
  },
  {
   "cell_type": "markdown",
   "metadata": {},
   "source": [
    "### peer_reviewed\n",
    "\n",
    "- L’impact de la responsabilité sociale (RSE) sur la performance financière des entreprises (PFE) au Cameroun\n",
    "    - Missing\n",
    "- Looking for evidence of the relationship between CSR and CFP in an Emerging Market\n",
    "    - Missing\n",
    "- The Relationship of CSR and Financial Performance: New Evidence From Indonesian Companies\n",
    "    - Missing\n",
    "- Exploring the moderating effect of financial performance on the relationship between corporate environmental responsibility and institutional investors: some Egyptian evidence\n",
    "    - Missing\n",
    "- STRATEGIC USE OF CSR AS A SIGNAL FOR GOOD MANAGEMENT\n",
    "    - Missing"
   ]
  },
  {
   "cell_type": "code",
   "execution_count": null,
   "metadata": {},
   "outputs": [],
   "source": [
    "(\n",
    "    output\n",
    "    .loc[lambda x: x['peer_reviewed'].isin([np.nan])]\n",
    "    .reindex(columns = ['paper_name', 'row_id_excel'])\n",
    "    .drop_duplicates()\n",
    "    .style\n",
    "    .format(make_clickable, subset = ['row_id_excel'])\n",
    ")"
   ]
  },
  {
   "cell_type": "markdown",
   "metadata": {},
   "source": [
    "## adjusted_independent\n",
    "\n",
    "- Need to be adjusted"
   ]
  },
  {
   "cell_type": "code",
   "execution_count": null,
   "metadata": {},
   "outputs": [],
   "source": [
    "(\n",
    "    output\n",
    "    .loc[lambda x: x['adjusted_independent'].isin([np.nan])]\n",
    "    .reindex(columns = ['paper_name', 'row_id_google_spreadsheet'])\n",
    "    .drop_duplicates()\n",
    "    .head(5)\n",
    "    .style\n",
    "    .format(make_clickable, subset = ['row_id_google_spreadsheet'])\n",
    ")"
   ]
  },
  {
   "cell_type": "markdown",
   "metadata": {},
   "source": [
    "### Save data to Google Spreadsheet for sharing\n",
    "\n",
    "- Link: [METADATA_MODEL](https://docs.google.com/spreadsheets/d/13gpRy93l7POWGe-rKjytt7KWOcD1oSLACngTEpuqCTg/edit#gid=0)"
   ]
  },
  {
   "cell_type": "code",
   "execution_count": null,
   "metadata": {},
   "outputs": [],
   "source": [
    "#!pip install --upgrade git+git://github.com/thomaspernet/GoogleDrive-python"
   ]
  },
  {
   "cell_type": "code",
   "execution_count": 5,
   "metadata": {},
   "outputs": [],
   "source": [
    "from GoogleDrivePy.google_drive import connect_drive\n",
    "from GoogleDrivePy.google_platform import connect_cloud_platform\n",
    "from GoogleDrivePy.google_authorization import authorization_service"
   ]
  },
  {
   "cell_type": "code",
   "execution_count": null,
   "metadata": {},
   "outputs": [],
   "source": [
    "try:\n",
    "    os.mkdir(\"creds\")\n",
    "except:\n",
    "    pass"
   ]
  },
  {
   "cell_type": "code",
   "execution_count": null,
   "metadata": {},
   "outputs": [],
   "source": [
    "s3.download_file(key = \"CREDS/Financial_dependency_pollution/creds/token.pickle\", path_local = \"creds\")\n",
    "s3.download_file(key = \"CREDS/Financial_dependency_pollution/creds/service.json\", path_local = \"creds\")"
   ]
  },
  {
   "cell_type": "code",
   "execution_count": 6,
   "metadata": {},
   "outputs": [],
   "source": [
    "auth = authorization_service.get_authorization(\n",
    "    path_credential_gcp=os.path.join(path, \"creds\", \"service.json\"),\n",
    "    path_credential_drive=os.path.join(path, \"creds\"),\n",
    "    verbose=False,\n",
    "    scope=['https://www.googleapis.com/auth/spreadsheets.readonly',\n",
    "           \"https://www.googleapis.com/auth/drive\"]\n",
    ")\n",
    "gd_auth = auth.authorization_drive(path_secret=os.path.join(\n",
    "    path, \"creds\", \"credentials.json\"))\n",
    "service_account = auth.authorization_gcp()\n",
    "drive = connect_drive.drive_operations(gd_auth)"
   ]
  },
  {
   "cell_type": "code",
   "execution_count": null,
   "metadata": {},
   "outputs": [],
   "source": [
    "import shutil\n",
    "shutil.rmtree(os.path.join(path,\"creds\"))"
   ]
  },
  {
   "cell_type": "code",
   "execution_count": null,
   "metadata": {},
   "outputs": [],
   "source": [
    "FILENAME_SPREADSHEET = \"METADATA_MODEL\"\n",
    "spreadsheet_id = drive.find_file_id(FILENAME_SPREADSHEET, to_print=False)"
   ]
  },
  {
   "cell_type": "code",
   "execution_count": null,
   "metadata": {},
   "outputs": [],
   "source": [
    "drive.add_data_to_spreadsheet(\n",
    "    data =output.fillna(\"\"),\n",
    "    sheetID =spreadsheet_id,\n",
    "    sheetName = \"MODEL_DATA\",\n",
    "    detectRange = True,\n",
    "    rangeData = None)"
   ]
  },
  {
   "cell_type": "markdown",
   "metadata": {},
   "source": [
    "# Download authors and paper information\n",
    "\n",
    "## Semantic scholar\n",
    "\n",
    "Extract paper name from METADATA_TABLES_COLLECTION\n",
    "Get doi from Semantic scholar\n",
    "\n",
    "## Google scholar\n",
    "\n",
    "Google Scholar <- Use this API: https://serpapi.com/ \n",
    "\n",
    "- Input table: [METADATA_TABLES_COLLECTION](https://docs.google.com/spreadsheets/d/1d66_CVtWni7wmKlIMcpaoanvT2ghmjbXARiHgnLWvUw/edit?usp=sharing)"
   ]
  },
  {
   "cell_type": "code",
   "execution_count": 4,
   "metadata": {},
   "outputs": [],
   "source": [
    "from serpapi import GoogleSearch\n",
    "from tqdm import tqdm\n",
    "import time\n",
    "import pickle"
   ]
  },
  {
   "cell_type": "code",
   "execution_count": null,
   "metadata": {},
   "outputs": [],
   "source": [
    "#!pip install google-search-results"
   ]
  },
  {
   "cell_type": "code",
   "execution_count": null,
   "metadata": {},
   "outputs": [],
   "source": [
    "FILENAME_SPREADSHEET = \"CSR Excel File Meta-Analysis - Version 4 -  01.02.2021\"\n",
    "spreadsheet_id = drive.find_file_id(FILENAME_SPREADSHEET, to_print=False)"
   ]
  },
  {
   "cell_type": "code",
   "execution_count": null,
   "metadata": {},
   "outputs": [],
   "source": [
    "doi = drive.download_data_from_spreadsheet(\n",
    "    sheetID = spreadsheet_id,\n",
    "    sheetName = \"Feuil1\",\n",
    "    to_dataframe = True)"
   ]
  },
  {
   "cell_type": "markdown",
   "metadata": {},
   "source": [
    "Get paper name"
   ]
  },
  {
   "cell_type": "code",
   "execution_count": null,
   "metadata": {},
   "outputs": [],
   "source": [
    "import requests\n",
    "\n",
    "headers = {\n",
    "    'User-Agent': 'Mozilla/5.0 (Macintosh; Intel Mac OS X 10_11_5) AppleWebKit/537.36 (KHTML, like Gecko) Chrome/50.0.2661.102 Safari/537.36'\n",
    "}\n"
   ]
  },
  {
   "cell_type": "code",
   "execution_count": null,
   "metadata": {},
   "outputs": [],
   "source": [
    "field = [\n",
    "    \"url\",\n",
    "    \"title\",\n",
    "    \"abstract\",\n",
    "    \"venue\",\n",
    "    \"year\",\n",
    "    \"referenceCount\",\n",
    "    \"citationCount\",\n",
    "    \"influentialCitationCount\",\n",
    "    \"isOpenAccess\",\n",
    "    \"fieldsOfStudy\",\n",
    "    \"authors\"]\n",
    "field_paper = [\n",
    "    \"externalIds\",\n",
    "    \"url\",\n",
    "    \"title\",\n",
    "    \"abstract\",\n",
    "    \"venue\",\n",
    "    \"year\",\n",
    "    \"referenceCount\",\n",
    "    \"citationCount\",\n",
    "    \"influentialCitationCount\",\n",
    "    \"isOpenAccess\",\n",
    "    \"fieldsOfStudy\",\n",
    "    \"authors\"\n",
    "]"
   ]
  },
  {
   "cell_type": "code",
   "execution_count": null,
   "metadata": {},
   "outputs": [],
   "source": [
    "def find_doi(paper_name):\n",
    "    \"\"\"\n",
    "    to keep thing simple, assume first results in the best option\n",
    "    \"\"\"\n",
    "    paper_name_clean = (\n",
    "         paper_name\n",
    "        .lower()\n",
    "        .replace(\"  \", \"+\")\n",
    "        .replace(\" \", \"+\")\n",
    "        .replace(\"\\n\", \"+\")\n",
    "        .replace(\",\", \"+\")\n",
    "        .replace(\"–\", \"\")\n",
    "        .replace(\"++\", \"+\")\n",
    "        .replace(\":\", \"\")\n",
    "    )\n",
    "    url_paper = 'https://api.semanticscholar.org/graph/v1/paper/search?query={}&fields={}'.format(\n",
    "        paper_name_clean, \",\".join(field))\n",
    "    response_1 = requests.get(url_paper, headers=headers)\n",
    "    if response_1.status_code == 200:\n",
    "        response_1 = response_1.json()\n",
    "        if len(response_1['data']) > 0:\n",
    "            url_paper = \"https://api.semanticscholar.org/graph/v1/paper/{}?fields={}\".format(\n",
    "                response_1['data'][0]['paperId'], \",\".join(field_paper))\n",
    "            response_2 = requests.get(url_paper, headers=headers)\n",
    "            if response_2.status_code == 200:\n",
    "                response_2 = response_2.json()\n",
    "                response_2['paper_name_source'] = paper_name\n",
    "                response_2['status'] = 'found'\n",
    "                return response_2\n",
    "            else:\n",
    "                return {'paper_name': paper_name, 'status': 'not found'}\n",
    "        else:\n",
    "            return {'paper_name': paper_name, 'status': 'not found'}\n",
    "    else:\n",
    "        return {'paper_name': paper_name, 'status': 'not found', 'status_code':response_1.status_code}"
   ]
  },
  {
   "cell_type": "code",
   "execution_count": null,
   "metadata": {},
   "outputs": [],
   "source": [
    "list_paper_semantic = []\n",
    "list_failure = []"
   ]
  },
  {
   "cell_type": "code",
   "execution_count": null,
   "metadata": {},
   "outputs": [],
   "source": [
    "for i, p in tqdm(enumerate(list(doi['Title'].unique()))):\n",
    "    time.sleep(8)\n",
    "    response = find_doi(paper_name = p)  \n",
    "    if response['status'] == 'found':\n",
    "        list_paper_semantic.append(response)\n",
    "    else:\n",
    "        list_failure.append(p)"
   ]
  },
  {
   "cell_type": "code",
   "execution_count": null,
   "metadata": {},
   "outputs": [],
   "source": [
    "list_failure"
   ]
  },
  {
   "cell_type": "markdown",
   "metadata": {},
   "source": [
    "Failure: \n",
    "\n",
    "- 'The Effect of Corporate Social Responsibility on Financial Performance: Evidence from the Banking Industry in Emerging Economies',\n",
    "- 'An examination of corporate social responsibility and financial performance: A study of the top 50 Indonesian listed corporations',\n",
    "- 'Does it pay to be different? An analysis of the relationship between corporate social and financial performance (',\n",
    "- 'Corporate Social and Environmental Performance and Their Relation to Financial Performance and Institutional Ownership: Empirical Evidence on Canadian Firms',\n",
    "-  'The Corporate Social-Financial Performance Relationship: A Typology and Analysis'"
   ]
  },
  {
   "cell_type": "code",
   "execution_count": null,
   "metadata": {},
   "outputs": [],
   "source": [
    "list_failure = ['The Effect of Corporate Social Responsibility on Financial Performance: Evidence from the Banking Industry in Emerging Economies',\n",
    " 'An examination of corporate social responsibility and financial performance: A study of the top 50 Indonesian listed corporations',\n",
    " 'Does it pay to be different? An analysis of the relationship between corporate social and financial performance (',\n",
    " 'Corporate Social and Environmental Performance and Their Relation to Financial Performance and Institutional Ownership: Empirical Evidence on Canadian Firms',\n",
    " 'The Corporate Social-Financial Performance Relationship: A Typology and Analysis']"
   ]
  },
  {
   "cell_type": "markdown",
   "metadata": {},
   "source": [
    "## Validate results levenstheinlev"
   ]
  },
  {
   "cell_type": "code",
   "execution_count": 218,
   "metadata": {},
   "outputs": [],
   "source": [
    "def levenshtein_distance(token1, token2):\n",
    "    \"\"\"\n",
    "    \"\"\"\n",
    "    distances = np.zeros((len(token1) + 1, len(token2) + 1))\n",
    "\n",
    "    for t1 in range(len(token1) + 1):\n",
    "        distances[t1][0] = t1\n",
    "\n",
    "    for t2 in range(len(token2) + 1):\n",
    "        distances[0][t2] = t2\n",
    "\n",
    "    a = 0\n",
    "    b = 0\n",
    "    c = 0\n",
    "\n",
    "    for t1 in range(1, len(token1) + 1):\n",
    "        for t2 in range(1, len(token2) + 1):\n",
    "            if (token1[t1 - 1] == token2[t2 - 1]):\n",
    "                distances[t1][t2] = distances[t1 - 1][t2 - 1]\n",
    "            else:\n",
    "                a = distances[t1][t2 - 1]\n",
    "                b = distances[t1 - 1][t2]\n",
    "                c = distances[t1 - 1][t2 - 1]\n",
    "\n",
    "                if (a <= b and a <= c):\n",
    "                    distances[t1][t2] = a + 1\n",
    "                elif (b <= a and b <= c):\n",
    "                    distances[t1][t2] = b + 1\n",
    "                else:\n",
    "                    distances[t1][t2] = c + 1\n",
    "    return distances[len(token1)][len(token2)]"
   ]
  },
  {
   "cell_type": "code",
   "execution_count": null,
   "metadata": {},
   "outputs": [],
   "source": [
    "for ind, paper in enumerate(list_paper_semantic):\n",
    "    lev = levenshtein_distance(\n",
    "    paper['title'].lower(),\n",
    "        paper['paper_name_source'].lower().replace('\\n', ' ')\n",
    "    )\n",
    "    paper['Levenshtein_score'] = lev\n",
    "    #list_leven.append({'score': lev, 'match_author': aut_in_table, 'index': ind})"
   ]
  },
  {
   "cell_type": "code",
   "execution_count": null,
   "metadata": {},
   "outputs": [],
   "source": [
    "pd.DataFrame(list_paper_semantic)['Levenshtein_score'].describe()"
   ]
  },
  {
   "cell_type": "markdown",
   "metadata": {},
   "source": [
    "No mistake, all of the 106 papers are found"
   ]
  },
  {
   "cell_type": "code",
   "execution_count": null,
   "metadata": {},
   "outputs": [],
   "source": [
    "(\n",
    "    pd.DataFrame(list_paper_semantic).loc[lambda x: x['Levenshtein_score'] > 2]\n",
    "    .reindex(columns = ['title', 'paper_name_source', 'Levenshtein_score'])\n",
    ")"
   ]
  },
  {
   "cell_type": "markdown",
   "metadata": {},
   "source": [
    "Save S3"
   ]
  },
  {
   "cell_type": "code",
   "execution_count": null,
   "metadata": {},
   "outputs": [],
   "source": [
    "for ind, paper in enumerate(list_paper_semantic):\n",
    "    with open(\"paper_id_{}\".format(paper[\"paperId\"]), \"w\") as outfile:\n",
    "        json.dump(response, outfile)\n",
    "    s3.upload_file(\n",
    "        file_to_upload=\"paper_id_{}\".format(paper[\"paperId\"]),\n",
    "        destination_in_s3=\"DATA/JOURNALS/SEMANTIC_SCHOLAR/PAPERS\",\n",
    "    )\n",
    "    os.remove(\"paper_id_{}\".format(paper[\"paperId\"]))"
   ]
  },
  {
   "cell_type": "code",
   "execution_count": null,
   "metadata": {},
   "outputs": [],
   "source": [
    "# Store data (serialize)\n",
    "with open('MODELS_AND_DATA/list_paper_semantic.pickle', 'wb') as handle:\n",
    "    pickle.dump(list_paper_semantic, handle)"
   ]
  },
  {
   "cell_type": "markdown",
   "metadata": {},
   "source": [
    "## Google scholar "
   ]
  },
  {
   "cell_type": "code",
   "execution_count": null,
   "metadata": {},
   "outputs": [],
   "source": [
    "api_key = \"5240a76403945e46c3f7870cb36a76eef235f64526554bbf92f41364ebbad2c0\"\n",
    "\n",
    "def collect_doi_information(doi):\n",
    "    \"\"\"\n",
    "    \"\"\"\n",
    "\n",
    "    params = {\n",
    "        \"engine\": \"google_scholar\",\n",
    "        \"q\": doi,\n",
    "        \"api_key\": api_key\n",
    "    }\n",
    "\n",
    "    search = GoogleSearch(params)\n",
    "    results = search.get_dict()\n",
    "    list_authors = []\n",
    "    dic_title = {\"search_parameters\": results['search_parameters']}\n",
    "    if 'organic_results' in results:\n",
    "        dic_title['status'] = \"FOUND\"\n",
    "        # SEARCH TITLE\n",
    "        if \"link\" in results['organic_results'][0] or len(results['organic_results']) == 1:\n",
    "            i = 0\n",
    "        else:\n",
    "            i = 1\n",
    "\n",
    "        for key in [\n",
    "            \"title\",\n",
    "            \"result_id\",\n",
    "            \"link\",\n",
    "            \"snippet\",\n",
    "            \"publication_info\",\n",
    "            \"cited_by\",\n",
    "        ]:\n",
    "            if key in results['organic_results'][i]:\n",
    "                dic_title[key] = results['organic_results'][i][key]\n",
    "            elif key in results['organic_results'][i]['inline_links']:\n",
    "                dic_title[key] = results['organic_results'][i]['inline_links'][key]\n",
    "            elif key in results['organic_results'][i]['publication_info']:\n",
    "                dic_title[key] = results['organic_results'][i]['publication_info'][key]\n",
    "\n",
    "        # SEARCH AUTHORS\n",
    "        if 'authors' in dic_title['publication_info']:\n",
    "            dic_title['authors_details'] = []\n",
    "            for i, author in enumerate(dic_title['publication_info']['authors']):\n",
    "                params = {\n",
    "                        \"engine\": \"google_scholar_author\",\n",
    "                        \"author_id\": author['author_id'],\n",
    "                        \"api_key\": api_key\n",
    "                    }\n",
    "\n",
    "                search = GoogleSearch(params)\n",
    "                results_auth = search.get_dict()\n",
    "                dic_authors = {\n",
    "                        'search_parameters': results_auth['search_parameters'],\n",
    "                    }\n",
    "                if \"author\" in results_auth:\n",
    "                    dic_authors['status'] = 'FOUND'\n",
    "                    dic_authors['author'] = results_auth['author']\n",
    "                else:\n",
    "                    dic_authors['status'] = 'NOT_FOUND'\n",
    "                    dic_authors['author'] = {'name':author['authors']}\n",
    "                dic_title['authors_details'].append(dic_authors)\n",
    "                list_authors.append(dic_authors)\n",
    "                \n",
    "    else:\n",
    "        dic_title['status'] = \"NOT_FOUND\"\n",
    "    return dic_title, list_authors"
   ]
  },
  {
   "cell_type": "code",
   "execution_count": null,
   "metadata": {},
   "outputs": [],
   "source": [
    "list_papers_google = []\n",
    "list_authors_google = []"
   ]
  },
  {
   "cell_type": "code",
   "execution_count": 161,
   "metadata": {},
   "outputs": [],
   "source": [
    "list_paper_semantic = pickle.load( open( \"MODELS_AND_DATA/list_paper_semantic.pickle\", \"rb\" ) )"
   ]
  },
  {
   "cell_type": "code",
   "execution_count": null,
   "metadata": {},
   "outputs": [],
   "source": [
    "### \n",
    "for i, d in tqdm(enumerate(list_paper_semantic)):\n",
    "    if \"DOI\" in d['externalIds']:\n",
    "        filename = d['paperId']\n",
    "        #### EXTRACT INFORMATION \n",
    "        dic_title, authors = collect_doi_information(d['externalIds']['DOI'])\n",
    "        list_papers_google.append(dic_title)\n",
    "        list_authors_google.extend(authors)\n",
    "\n",
    "        ### PAPER\n",
    "        with open('paper_{}'.format(filename), 'w') as outfile:\n",
    "            json.dump(dic_title, outfile)\n",
    "        s3.upload_file(file_to_upload = 'paper_{}'.format(filename),\n",
    "                    destination_in_s3 = \"DATA/JOURNALS/GOOGLE_SCHOLAR/PAPERS\")\n",
    "        os.remove('paper_{}'.format(filename))\n",
    "\n",
    "        ### AUTHORS\n",
    "        for a in authors:\n",
    "            id_ = a['search_parameters']['author_id']\n",
    "            with open('authors_{}'.format(id_), 'w') as outfile:\n",
    "                json.dump(a, outfile)\n",
    "            s3.upload_file(file_to_upload = 'authors_{}'.format(id_),\n",
    "                        destination_in_s3 = \"DATA/JOURNALS/GOOGLE_SCHOLAR/AUTHORS\")\n",
    "            os.remove('authors_{}'.format(id_))"
   ]
  },
  {
   "cell_type": "code",
   "execution_count": null,
   "metadata": {},
   "outputs": [],
   "source": [
    "len(list_paper_semantic)"
   ]
  },
  {
   "cell_type": "code",
   "execution_count": null,
   "metadata": {},
   "outputs": [],
   "source": [
    "len(list_papers_google)"
   ]
  },
  {
   "cell_type": "code",
   "execution_count": null,
   "metadata": {},
   "outputs": [],
   "source": [
    "len(list_authors_google)"
   ]
  },
  {
   "cell_type": "code",
   "execution_count": null,
   "metadata": {},
   "outputs": [],
   "source": [
    "with open('MODELS_AND_DATA/list_papers_google.pickle', 'wb') as handle:\n",
    "    pickle.dump(list_papers_google, handle)\n",
    "with open('MODELS_AND_DATA/list_authors_google.pickle', 'wb') as handle:\n",
    "    pickle.dump(list_authors_google, handle)"
   ]
  },
  {
   "cell_type": "markdown",
   "metadata": {},
   "source": [
    "## Train deep learning model gender detection"
   ]
  },
  {
   "cell_type": "markdown",
   "metadata": {},
   "source": [
    "### Download data"
   ]
  },
  {
   "cell_type": "code",
   "execution_count": 8,
   "metadata": {},
   "outputs": [],
   "source": [
    "project = 'valid-pagoda-132423'\n",
    "gcp = connect_cloud_platform.connect_console(project = project,\n",
    "                                             service_account = service_account,\n",
    "                                             colab = False)"
   ]
  },
  {
   "cell_type": "code",
   "execution_count": 72,
   "metadata": {},
   "outputs": [
    {
     "name": "stderr",
     "output_type": "stream",
     "text": [
      "/home/ec2-user/anaconda3/lib/python3.8/site-packages/google/cloud/bigquery/client.py:440: UserWarning: Cannot create BigQuery Storage client, the dependency google-cloud-bigquery-storage is not installed.\n",
      "  warnings.warn(\n"
     ]
    }
   ],
   "source": [
    "sql = \"\"\"\n",
    "SELECT\n",
    "  name,\n",
    "  gender,\n",
    "  COUNT(name) AS num_names\n",
    "FROM\n",
    "  `bigquery-public-data.usa_names.usa_1910_current`\n",
    "GROUP BY\n",
    "  name,\n",
    "  gender\n",
    "\"\"\"\n",
    "\n",
    "#names_df = client.query(sql).to_dataframe()\n",
    "names_df = gcp.upload_data_from_bigquery(query = sql,location = \"US\")"
   ]
  },
  {
   "cell_type": "code",
   "execution_count": 52,
   "metadata": {},
   "outputs": [
    {
     "data": {
      "text/plain": [
       "(35236, 3)"
      ]
     },
     "execution_count": 52,
     "metadata": {},
     "output_type": "execute_result"
    }
   ],
   "source": [
    "names_df.shape"
   ]
  },
  {
   "cell_type": "code",
   "execution_count": 73,
   "metadata": {},
   "outputs": [
    {
     "data": {
      "text/html": [
       "<div>\n",
       "<style scoped>\n",
       "    .dataframe tbody tr th:only-of-type {\n",
       "        vertical-align: middle;\n",
       "    }\n",
       "\n",
       "    .dataframe tbody tr th {\n",
       "        vertical-align: top;\n",
       "    }\n",
       "\n",
       "    .dataframe thead th {\n",
       "        text-align: right;\n",
       "    }\n",
       "</style>\n",
       "<table border=\"1\" class=\"dataframe\">\n",
       "  <thead>\n",
       "    <tr style=\"text-align: right;\">\n",
       "      <th></th>\n",
       "      <th>name</th>\n",
       "      <th>gender</th>\n",
       "      <th>num_names</th>\n",
       "    </tr>\n",
       "  </thead>\n",
       "  <tbody>\n",
       "    <tr>\n",
       "      <th>0</th>\n",
       "      <td>Mary</td>\n",
       "      <td>F</td>\n",
       "      <td>5597</td>\n",
       "    </tr>\n",
       "    <tr>\n",
       "      <th>1</th>\n",
       "      <td>Annie</td>\n",
       "      <td>F</td>\n",
       "      <td>3994</td>\n",
       "    </tr>\n",
       "    <tr>\n",
       "      <th>2</th>\n",
       "      <td>Anna</td>\n",
       "      <td>F</td>\n",
       "      <td>5566</td>\n",
       "    </tr>\n",
       "    <tr>\n",
       "      <th>3</th>\n",
       "      <td>Margaret</td>\n",
       "      <td>F</td>\n",
       "      <td>5509</td>\n",
       "    </tr>\n",
       "    <tr>\n",
       "      <th>4</th>\n",
       "      <td>Helen</td>\n",
       "      <td>F</td>\n",
       "      <td>4879</td>\n",
       "    </tr>\n",
       "  </tbody>\n",
       "</table>\n",
       "</div>"
      ],
      "text/plain": [
       "       name gender  num_names\n",
       "0      Mary      F       5597\n",
       "1     Annie      F       3994\n",
       "2      Anna      F       5566\n",
       "3  Margaret      F       5509\n",
       "4     Helen      F       4879"
      ]
     },
     "execution_count": 73,
     "metadata": {},
     "output_type": "execute_result"
    }
   ],
   "source": [
    "names_df.head()"
   ]
  },
  {
   "cell_type": "markdown",
   "metadata": {},
   "source": [
    "### Clean up and pre-process\n",
    "\n",
    "1. Lowercase the name since each character’s case doesn’t convey any information about a person’s gender.\n",
    "2. Split each character: The basic idea of the ML model we’re building is to read characters in a name to identify patterns that could indicate masculinity or femininity. Thus we split the name into each character.\n",
    "3. Pad names with empty spaces until a max of 50 characters ensures the ML model sees the same length for all the names.\n",
    "4. Encode each character to a unique number since ML models can only work with numbers. In this case, we encode ‘ ’ (space) to 0, ‘a’ to 1, ‘b’ to 2, and so on.\n",
    "5. Encode each gender to a unique number since ML models can only work with numbers. In this case, we encode ‘F’ to 0 and ‘M’ to 1."
   ]
  },
  {
   "cell_type": "code",
   "execution_count": 450,
   "metadata": {},
   "outputs": [],
   "source": [
    "def preprocess(names_df,column, train=True, to_lower = True):\n",
    "    # Step 1: Lowercase\n",
    "    if to_lower:\n",
    "        names_df['name'] = names_df[column].str.lower()\n",
    "    else:\n",
    "        names_df['name'] = names_df[column]\n",
    "    # Step 2: Split individual characters\n",
    "    names_df['name'] = [list(name) for name in names_df['name']]\n",
    "\n",
    "    # Step 3: Pad names with spaces to make all names same length\n",
    "    name_length = 50\n",
    "    names_df['name'] = [\n",
    "        (name + [' ']*name_length)[:name_length] \n",
    "        for name in names_df['name']\n",
    "    ]\n",
    "\n",
    "    # Step 4: Encode Characters to Numbers\n",
    "    names_df['name'] = [\n",
    "        [\n",
    "            max(0.0, ord(char)-96.0) \n",
    "            for char in name\n",
    "        ]\n",
    "        for name in names_df['name']\n",
    "    ]\n",
    "    \n",
    "    if train:\n",
    "        # Step 5: Encode Gender to Numbers\n",
    "        names_df['gender'] = [\n",
    "            0.0 if gender=='F' else 1.0 \n",
    "            for gender in names_df['gender']\n",
    "        ]\n",
    "        return names_df\n",
    "    else:\n",
    "        return names_df['name']\n",
    "    \n",
    "    "
   ]
  },
  {
   "cell_type": "code",
   "execution_count": 75,
   "metadata": {},
   "outputs": [
    {
     "data": {
      "text/html": [
       "<div>\n",
       "<style scoped>\n",
       "    .dataframe tbody tr th:only-of-type {\n",
       "        vertical-align: middle;\n",
       "    }\n",
       "\n",
       "    .dataframe tbody tr th {\n",
       "        vertical-align: top;\n",
       "    }\n",
       "\n",
       "    .dataframe thead th {\n",
       "        text-align: right;\n",
       "    }\n",
       "</style>\n",
       "<table border=\"1\" class=\"dataframe\">\n",
       "  <thead>\n",
       "    <tr style=\"text-align: right;\">\n",
       "      <th></th>\n",
       "      <th>name</th>\n",
       "      <th>gender</th>\n",
       "      <th>num_names</th>\n",
       "    </tr>\n",
       "  </thead>\n",
       "  <tbody>\n",
       "    <tr>\n",
       "      <th>0</th>\n",
       "      <td>[13.0, 1.0, 18.0, 25.0, 0.0, 0.0, 0.0, 0.0, 0.0, 0.0, 0.0, 0.0, 0.0, 0.0, 0.0, 0.0, 0.0, 0.0, 0.0, 0.0, 0.0, 0.0, 0.0, 0.0, 0.0, 0.0, 0.0, 0.0, 0.0, 0.0, 0.0, 0.0, 0.0, 0.0, 0.0, 0.0, 0.0, 0.0, 0.0, 0.0, 0.0, 0.0, 0.0, 0.0, 0.0, 0.0, 0.0, 0.0, 0.0, 0.0]</td>\n",
       "      <td>0.0</td>\n",
       "      <td>5597</td>\n",
       "    </tr>\n",
       "    <tr>\n",
       "      <th>1</th>\n",
       "      <td>[1.0, 14.0, 14.0, 9.0, 5.0, 0.0, 0.0, 0.0, 0.0, 0.0, 0.0, 0.0, 0.0, 0.0, 0.0, 0.0, 0.0, 0.0, 0.0, 0.0, 0.0, 0.0, 0.0, 0.0, 0.0, 0.0, 0.0, 0.0, 0.0, 0.0, 0.0, 0.0, 0.0, 0.0, 0.0, 0.0, 0.0, 0.0, 0.0, 0.0, 0.0, 0.0, 0.0, 0.0, 0.0, 0.0, 0.0, 0.0, 0.0, 0.0]</td>\n",
       "      <td>0.0</td>\n",
       "      <td>3994</td>\n",
       "    </tr>\n",
       "    <tr>\n",
       "      <th>2</th>\n",
       "      <td>[1.0, 14.0, 14.0, 1.0, 0.0, 0.0, 0.0, 0.0, 0.0, 0.0, 0.0, 0.0, 0.0, 0.0, 0.0, 0.0, 0.0, 0.0, 0.0, 0.0, 0.0, 0.0, 0.0, 0.0, 0.0, 0.0, 0.0, 0.0, 0.0, 0.0, 0.0, 0.0, 0.0, 0.0, 0.0, 0.0, 0.0, 0.0, 0.0, 0.0, 0.0, 0.0, 0.0, 0.0, 0.0, 0.0, 0.0, 0.0, 0.0, 0.0]</td>\n",
       "      <td>0.0</td>\n",
       "      <td>5566</td>\n",
       "    </tr>\n",
       "    <tr>\n",
       "      <th>3</th>\n",
       "      <td>[13.0, 1.0, 18.0, 7.0, 1.0, 18.0, 5.0, 20.0, 0.0, 0.0, 0.0, 0.0, 0.0, 0.0, 0.0, 0.0, 0.0, 0.0, 0.0, 0.0, 0.0, 0.0, 0.0, 0.0, 0.0, 0.0, 0.0, 0.0, 0.0, 0.0, 0.0, 0.0, 0.0, 0.0, 0.0, 0.0, 0.0, 0.0, 0.0, 0.0, 0.0, 0.0, 0.0, 0.0, 0.0, 0.0, 0.0, 0.0, 0.0, 0.0]</td>\n",
       "      <td>0.0</td>\n",
       "      <td>5509</td>\n",
       "    </tr>\n",
       "    <tr>\n",
       "      <th>4</th>\n",
       "      <td>[8.0, 5.0, 12.0, 5.0, 14.0, 0.0, 0.0, 0.0, 0.0, 0.0, 0.0, 0.0, 0.0, 0.0, 0.0, 0.0, 0.0, 0.0, 0.0, 0.0, 0.0, 0.0, 0.0, 0.0, 0.0, 0.0, 0.0, 0.0, 0.0, 0.0, 0.0, 0.0, 0.0, 0.0, 0.0, 0.0, 0.0, 0.0, 0.0, 0.0, 0.0, 0.0, 0.0, 0.0, 0.0, 0.0, 0.0, 0.0, 0.0, 0.0]</td>\n",
       "      <td>0.0</td>\n",
       "      <td>4879</td>\n",
       "    </tr>\n",
       "  </tbody>\n",
       "</table>\n",
       "</div>"
      ],
      "text/plain": [
       "                                                                                                                                                                                                                                                             name  \\\n",
       "0   [13.0, 1.0, 18.0, 25.0, 0.0, 0.0, 0.0, 0.0, 0.0, 0.0, 0.0, 0.0, 0.0, 0.0, 0.0, 0.0, 0.0, 0.0, 0.0, 0.0, 0.0, 0.0, 0.0, 0.0, 0.0, 0.0, 0.0, 0.0, 0.0, 0.0, 0.0, 0.0, 0.0, 0.0, 0.0, 0.0, 0.0, 0.0, 0.0, 0.0, 0.0, 0.0, 0.0, 0.0, 0.0, 0.0, 0.0, 0.0, 0.0, 0.0]   \n",
       "1    [1.0, 14.0, 14.0, 9.0, 5.0, 0.0, 0.0, 0.0, 0.0, 0.0, 0.0, 0.0, 0.0, 0.0, 0.0, 0.0, 0.0, 0.0, 0.0, 0.0, 0.0, 0.0, 0.0, 0.0, 0.0, 0.0, 0.0, 0.0, 0.0, 0.0, 0.0, 0.0, 0.0, 0.0, 0.0, 0.0, 0.0, 0.0, 0.0, 0.0, 0.0, 0.0, 0.0, 0.0, 0.0, 0.0, 0.0, 0.0, 0.0, 0.0]   \n",
       "2    [1.0, 14.0, 14.0, 1.0, 0.0, 0.0, 0.0, 0.0, 0.0, 0.0, 0.0, 0.0, 0.0, 0.0, 0.0, 0.0, 0.0, 0.0, 0.0, 0.0, 0.0, 0.0, 0.0, 0.0, 0.0, 0.0, 0.0, 0.0, 0.0, 0.0, 0.0, 0.0, 0.0, 0.0, 0.0, 0.0, 0.0, 0.0, 0.0, 0.0, 0.0, 0.0, 0.0, 0.0, 0.0, 0.0, 0.0, 0.0, 0.0, 0.0]   \n",
       "3  [13.0, 1.0, 18.0, 7.0, 1.0, 18.0, 5.0, 20.0, 0.0, 0.0, 0.0, 0.0, 0.0, 0.0, 0.0, 0.0, 0.0, 0.0, 0.0, 0.0, 0.0, 0.0, 0.0, 0.0, 0.0, 0.0, 0.0, 0.0, 0.0, 0.0, 0.0, 0.0, 0.0, 0.0, 0.0, 0.0, 0.0, 0.0, 0.0, 0.0, 0.0, 0.0, 0.0, 0.0, 0.0, 0.0, 0.0, 0.0, 0.0, 0.0]   \n",
       "4    [8.0, 5.0, 12.0, 5.0, 14.0, 0.0, 0.0, 0.0, 0.0, 0.0, 0.0, 0.0, 0.0, 0.0, 0.0, 0.0, 0.0, 0.0, 0.0, 0.0, 0.0, 0.0, 0.0, 0.0, 0.0, 0.0, 0.0, 0.0, 0.0, 0.0, 0.0, 0.0, 0.0, 0.0, 0.0, 0.0, 0.0, 0.0, 0.0, 0.0, 0.0, 0.0, 0.0, 0.0, 0.0, 0.0, 0.0, 0.0, 0.0, 0.0]   \n",
       "\n",
       "   gender  num_names  \n",
       "0     0.0       5597  \n",
       "1     0.0       3994  \n",
       "2     0.0       5566  \n",
       "3     0.0       5509  \n",
       "4     0.0       4879  "
      ]
     },
     "execution_count": 75,
     "metadata": {},
     "output_type": "execute_result"
    }
   ],
   "source": [
    "names_df = preprocess(names_df, column = 'name')\n",
    "names_df.head()"
   ]
  },
  {
   "cell_type": "markdown",
   "metadata": {},
   "source": [
    "### Model Architecture\n",
    "\n",
    "1. Embedding layer: to “embed” each input character’s encoded number into a dense 256 dimension vector. The choice of embedding_dim is a hyperparameter that can be tuned to get the desired accuracy.\n",
    "2. Bidirectional LSTM layer: read the sequence of character embeddings from the previous step and output a single vector representing that sequence. The values for units and dropouts are hyperparameters as well.\n",
    "3. Final Dense layer: to output a single value close to 0 for ‘F’ or close to 1 for ‘M’ since this is the encoding we used in the preprocessing step."
   ]
  },
  {
   "cell_type": "code",
   "execution_count": 17,
   "metadata": {},
   "outputs": [],
   "source": [
    "#!pip install --upgrade tensorflow"
   ]
  },
  {
   "cell_type": "code",
   "execution_count": 18,
   "metadata": {},
   "outputs": [],
   "source": [
    "from tensorflow.keras import Sequential\n",
    "from tensorflow.keras.layers import Embedding, Bidirectional, LSTM, Dense\n",
    "from tensorflow.keras.optimizers import Adam\n",
    "\n",
    "def lstm_model(num_alphabets=27, name_length=50, embedding_dim=256):\n",
    "    model = Sequential([\n",
    "        Embedding(num_alphabets, embedding_dim, input_length=name_length),\n",
    "        Bidirectional(LSTM(units=128, recurrent_dropout=0.2, dropout=0.2)),\n",
    "        Dense(1, activation=\"sigmoid\")\n",
    "    ])\n",
    "\n",
    "    model.compile(loss='binary_crossentropy',\n",
    "                  optimizer=Adam(learning_rate=0.001),\n",
    "                  metrics=['accuracy'])\n",
    "\n",
    "    return model"
   ]
  },
  {
   "cell_type": "markdown",
   "metadata": {},
   "source": [
    "### Training the Model\n",
    "\n",
    "We’ll use the standard tensorflow.keras training pipeline as below\n",
    "\n",
    "1. Instantiate the model using the function we wrote in the model architecture step.\n",
    "2. Split the data into 80% training and 20% validation.\n",
    "3. Call model.fit with EarlyStopping callback to stop training once the model starts to overfit.\n",
    "4. Save the trained model\n",
    "5. Plot the training and validation accuracies to visually check the model performance."
   ]
  },
  {
   "cell_type": "code",
   "execution_count": null,
   "metadata": {},
   "outputs": [],
   "source": [
    "import numpy as np\n",
    "from matplotlib import pyplot as plt\n",
    "from sklearn.model_selection import train_test_split\n",
    "from tensorflow.keras.callbacks import EarlyStopping"
   ]
  },
  {
   "cell_type": "code",
   "execution_count": 19,
   "metadata": {},
   "outputs": [
    {
     "name": "stdout",
     "output_type": "stream",
     "text": [
      "Epoch 1/50\n",
      "441/441 [==============================] - 239s 532ms/step - loss: 0.5439 - accuracy: 0.7225 - val_loss: 0.4966 - val_accuracy: 0.7667\n",
      "Epoch 2/50\n",
      "441/441 [==============================] - 235s 532ms/step - loss: 0.4779 - accuracy: 0.7760 - val_loss: 0.4827 - val_accuracy: 0.7777\n",
      "Epoch 3/50\n",
      "441/441 [==============================] - 237s 536ms/step - loss: 0.4647 - accuracy: 0.7830 - val_loss: 0.4708 - val_accuracy: 0.7836\n",
      "Epoch 4/50\n",
      "441/441 [==============================] - 236s 535ms/step - loss: 0.4547 - accuracy: 0.7891 - val_loss: 0.4590 - val_accuracy: 0.7909\n",
      "Epoch 5/50\n",
      "441/441 [==============================] - 236s 535ms/step - loss: 0.4472 - accuracy: 0.7933 - val_loss: 0.4527 - val_accuracy: 0.7924\n",
      "Epoch 6/50\n",
      "441/441 [==============================] - 236s 536ms/step - loss: 0.4357 - accuracy: 0.8011 - val_loss: 0.4424 - val_accuracy: 0.7988\n",
      "Epoch 7/50\n",
      "441/441 [==============================] - 238s 540ms/step - loss: 0.4266 - accuracy: 0.8049 - val_loss: 0.4369 - val_accuracy: 0.8035\n",
      "Epoch 8/50\n",
      "441/441 [==============================] - 237s 536ms/step - loss: 0.4175 - accuracy: 0.8111 - val_loss: 0.4327 - val_accuracy: 0.8070\n",
      "Epoch 9/50\n",
      "441/441 [==============================] - 236s 536ms/step - loss: 0.4093 - accuracy: 0.8170 - val_loss: 0.4257 - val_accuracy: 0.8137\n",
      "Epoch 10/50\n",
      "441/441 [==============================] - 236s 535ms/step - loss: 0.4010 - accuracy: 0.8214 - val_loss: 0.4220 - val_accuracy: 0.8130\n",
      "Epoch 11/50\n",
      "441/441 [==============================] - 234s 531ms/step - loss: 0.3901 - accuracy: 0.8256 - val_loss: 0.4181 - val_accuracy: 0.8146\n",
      "Epoch 12/50\n",
      "441/441 [==============================] - 234s 531ms/step - loss: 0.3834 - accuracy: 0.8300 - val_loss: 0.4212 - val_accuracy: 0.8127\n",
      "Epoch 13/50\n",
      "441/441 [==============================] - 235s 533ms/step - loss: 0.3753 - accuracy: 0.8316 - val_loss: 0.4194 - val_accuracy: 0.8153\n",
      "Epoch 14/50\n",
      "441/441 [==============================] - 234s 532ms/step - loss: 0.3682 - accuracy: 0.8375 - val_loss: 0.4185 - val_accuracy: 0.8102\n",
      "Epoch 15/50\n",
      "441/441 [==============================] - 236s 536ms/step - loss: 0.3597 - accuracy: 0.8417 - val_loss: 0.4207 - val_accuracy: 0.8136\n",
      "Epoch 16/50\n",
      "441/441 [==============================] - 236s 534ms/step - loss: 0.3538 - accuracy: 0.8447 - val_loss: 0.4235 - val_accuracy: 0.8112\n",
      "Epoch 17/50\n",
      "441/441 [==============================] - 235s 534ms/step - loss: 0.3469 - accuracy: 0.8465 - val_loss: 0.4248 - val_accuracy: 0.8080\n",
      "Epoch 18/50\n",
      "441/441 [==============================] - 235s 533ms/step - loss: 0.3403 - accuracy: 0.8510 - val_loss: 0.4345 - val_accuracy: 0.8058\n",
      "Restoring model weights from the end of the best epoch.\n",
      "Epoch 00018: early stopping\n"
     ]
    }
   ],
   "source": [
    "%time\n",
    "\n",
    "# Step 1: Instantiate the model\n",
    "model = lstm_model(num_alphabets=27, name_length=50, embedding_dim=256)\n",
    "\n",
    "# Step 2: Split Training and Test Data\n",
    "X = np.asarray(names_df['name'].values.tolist())\n",
    "y = np.asarray(names_df['gender'].values.tolist())\n",
    "\n",
    "X_train, X_test, y_train, y_test = train_test_split(X,\n",
    "                                                    y,\n",
    "                                                    test_size=0.2,\n",
    "                                                    random_state=0)\n",
    "\n",
    "# Step 3: Train the model\n",
    "callbacks = [\n",
    "    EarlyStopping(monitor='val_accuracy',\n",
    "                  min_delta=1e-3,\n",
    "                  patience=5,\n",
    "                  mode='max',\n",
    "                  restore_best_weights=True,\n",
    "                  verbose=1),\n",
    "]\n",
    "\n",
    "history = model.fit(x=X_train,\n",
    "                    y=y_train,\n",
    "                    batch_size=64,\n",
    "                    epochs=50,\n",
    "                    validation_data=(X_test, y_test),\n",
    "                    callbacks=callbacks)\n",
    "\n",
    "# Step 4: Save the model\n",
    "model.save('MODELS_AND_DATA/boyorgirl.h5')"
   ]
  },
  {
   "cell_type": "code",
   "execution_count": 20,
   "metadata": {},
   "outputs": [
    {
     "data": {
      "text/plain": [
       "<matplotlib.legend.Legend at 0x7f48b4048610>"
      ]
     },
     "execution_count": 20,
     "metadata": {},
     "output_type": "execute_result"
    },
    {
     "data": {
      "image/png": "[encoded data removed]",
      "text/plain": [
       "<Figure size 432x288 with 1 Axes>"
      ]
     },
     "metadata": {
      "needs_background": "light"
     },
     "output_type": "display_data"
    }
   ],
   "source": [
    "# Step 5: Plot accuracies\n",
    "plt.plot(history.history['accuracy'], label='train')\n",
    "plt.plot(history.history['val_accuracy'], label='val')\n",
    "plt.xlabel('Epochs')\n",
    "plt.ylabel('Accuracy')\n",
    "plt.legend()"
   ]
  },
  {
   "cell_type": "markdown",
   "metadata": {},
   "source": [
    "### Reconstruct paper-authors tables\n",
    "\n",
    "- Need to add the gender"
   ]
  },
  {
   "cell_type": "code",
   "execution_count": 96,
   "metadata": {},
   "outputs": [],
   "source": [
    "from tensorflow.keras.models import load_model\n",
    "import unicodedata"
   ]
  },
  {
   "cell_type": "code",
   "execution_count": 24,
   "metadata": {},
   "outputs": [],
   "source": [
    "pred_model = load_model('MODELS_AND_DATA/boyorgirl.h5')"
   ]
  },
  {
   "cell_type": "code",
   "execution_count": 491,
   "metadata": {},
   "outputs": [
    {
     "data": {
      "text/html": [
       "<div>\n",
       "<style scoped>\n",
       "    .dataframe tbody tr th:only-of-type {\n",
       "        vertical-align: middle;\n",
       "    }\n",
       "\n",
       "    .dataframe tbody tr th {\n",
       "        vertical-align: top;\n",
       "    }\n",
       "\n",
       "    .dataframe thead th {\n",
       "        text-align: right;\n",
       "    }\n",
       "</style>\n",
       "<table border=\"1\" class=\"dataframe\">\n",
       "  <thead>\n",
       "    <tr style=\"text-align: right;\">\n",
       "      <th></th>\n",
       "      <th>status</th>\n",
       "      <th>search_parameters.engine</th>\n",
       "      <th>search_parameters.author_id</th>\n",
       "      <th>search_parameters.hl</th>\n",
       "      <th>author.name</th>\n",
       "      <th>author.affiliations</th>\n",
       "      <th>author.email</th>\n",
       "      <th>author.website</th>\n",
       "      <th>author.interests</th>\n",
       "      <th>author.thumbnail</th>\n",
       "      <th>interest</th>\n",
       "      <th>email_extensition</th>\n",
       "      <th>first_name</th>\n",
       "    </tr>\n",
       "  </thead>\n",
       "  <tbody>\n",
       "    <tr>\n",
       "      <th>0</th>\n",
       "      <td>FOUND</td>\n",
       "      <td>google_scholar_author</td>\n",
       "      <td>qQZvGvIAAAAJ</td>\n",
       "      <td>en</td>\n",
       "      <td>Brahim Gaies</td>\n",
       "      <td>Associate Professor in Economics &amp; Finance, IPAG Lab, IPAG Business School, Paris</td>\n",
       "      <td>Verified email at ipag.fr</td>\n",
       "      <td>https://www.ipag.edu/brahim-gaies?tab=onglet1</td>\n",
       "      <td>[{'title': 'Financial globalization', 'link': 'https://scholar.google.com/citations?view_op=search_authors&amp;hl=en&amp;mauthors=label:financial_globalization', 'serpapi_link': 'https://serpapi.com/search.json?engine=google_scholar_profiles&amp;hl=en&amp;mauthors=label%3Afinancial_globalization'}, {'title': 'Financial instability', 'link': 'https://scholar.google.com/citations?view_op=search_authors&amp;hl=en&amp;mauthors=label:financial_instability', 'serpapi_link': 'https://serpapi.com/search.json?engine=google_scholar_profiles&amp;hl=en&amp;mauthors=label%3Afinancial_instability'}, {'title': 'Development economics', 'link': 'https://scholar.google.com/citations?view_op=search_authors&amp;hl=en&amp;mauthors=label:development_economics', 'serpapi_link': 'https://serpapi.com/search.json?engine=google_scholar_profiles&amp;hl=en&amp;mauthors=label%3Adevelopment_economics'}, {'title': 'Global entrepreneurship', 'link': 'https://scholar.google.com/citations?view_op=search_authors&amp;hl=en&amp;mauthors=label:global_entrepreneurship', 'serpapi_link': 'https://serpapi.com/search.json?engine=google_scholar_profiles&amp;hl=en&amp;mauthors=label%3Aglobal_entrepreneurship'}, {'title': 'International business', 'link': 'https://scholar.google.com/citations?view_op=search_authors&amp;hl=en&amp;mauthors=label:international_business', 'serpapi_link': 'https://serpapi.com/search.json?engine=google_scholar_profiles&amp;hl=en&amp;mauthors=label%3Ainternational_business'}]</td>\n",
       "      <td>https://scholar.googleusercontent.com/citations?view_op=view_photo&amp;user=qQZvGvIAAAAJ&amp;citpid=1</td>\n",
       "      <td>[Financial globalization, Financial instability, Development economics, Global entrepreneurship, International business]</td>\n",
       "      <td>ipag.fr</td>\n",
       "      <td>NaN</td>\n",
       "    </tr>\n",
       "  </tbody>\n",
       "</table>\n",
       "</div>"
      ],
      "text/plain": [
       "  status search_parameters.engine search_parameters.author_id  \\\n",
       "0  FOUND    google_scholar_author                qQZvGvIAAAAJ   \n",
       "\n",
       "  search_parameters.hl   author.name  \\\n",
       "0                   en  Brahim Gaies   \n",
       "\n",
       "                                                                 author.affiliations  \\\n",
       "0  Associate Professor in Economics & Finance, IPAG Lab, IPAG Business School, Paris   \n",
       "\n",
       "                author.email                                 author.website  \\\n",
       "0  Verified email at ipag.fr  https://www.ipag.edu/brahim-gaies?tab=onglet1   \n",
       "\n",
       "                                                                                                                                                                                                                                                                                                                                                                                                                                                                                                                                                                                                                                                                                                                                                                                                                                                                                                                                                                                                                                                                                                                                                                                                                                                                                                                                                                                                                                           author.interests  \\\n",
       "0  [{'title': 'Financial globalization', 'link': 'https://scholar.google.com/citations?view_op=search_authors&hl=en&mauthors=label:financial_globalization', 'serpapi_link': 'https://serpapi.com/search.json?engine=google_scholar_profiles&hl=en&mauthors=label%3Afinancial_globalization'}, {'title': 'Financial instability', 'link': 'https://scholar.google.com/citations?view_op=search_authors&hl=en&mauthors=label:financial_instability', 'serpapi_link': 'https://serpapi.com/search.json?engine=google_scholar_profiles&hl=en&mauthors=label%3Afinancial_instability'}, {'title': 'Development economics', 'link': 'https://scholar.google.com/citations?view_op=search_authors&hl=en&mauthors=label:development_economics', 'serpapi_link': 'https://serpapi.com/search.json?engine=google_scholar_profiles&hl=en&mauthors=label%3Adevelopment_economics'}, {'title': 'Global entrepreneurship', 'link': 'https://scholar.google.com/citations?view_op=search_authors&hl=en&mauthors=label:global_entrepreneurship', 'serpapi_link': 'https://serpapi.com/search.json?engine=google_scholar_profiles&hl=en&mauthors=label%3Aglobal_entrepreneurship'}, {'title': 'International business', 'link': 'https://scholar.google.com/citations?view_op=search_authors&hl=en&mauthors=label:international_business', 'serpapi_link': 'https://serpapi.com/search.json?engine=google_scholar_profiles&hl=en&mauthors=label%3Ainternational_business'}]   \n",
       "\n",
       "                                                                                author.thumbnail  \\\n",
       "0  https://scholar.googleusercontent.com/citations?view_op=view_photo&user=qQZvGvIAAAAJ&citpid=1   \n",
       "\n",
       "                                                                                                                   interest  \\\n",
       "0  [Financial globalization, Financial instability, Development economics, Global entrepreneurship, International business]   \n",
       "\n",
       "  email_extensition  first_name  \n",
       "0           ipag.fr         NaN  "
      ]
     },
     "execution_count": 491,
     "metadata": {},
     "output_type": "execute_result"
    }
   ],
   "source": [
    "df_authors = (\n",
    "    pd.concat(\n",
    "        [\n",
    "            (\n",
    "                pd.json_normalize(list_authors_google).assign(\n",
    "                    interest=lambda x: x.apply(\n",
    "                        lambda x: [\n",
    "                            i[\"title\"]\n",
    "                            for i in x[\"author.interests\"]\n",
    "                            if x[\"author.interests\"] != np.nan\n",
    "                        ]\n",
    "                        if isinstance(x[\"author.interests\"], list)\n",
    "                        else np.nan,\n",
    "                        axis=1,\n",
    "                    ),\n",
    "                    email_extensition=lambda x: x[\"author.email\"].str.replace(\n",
    "                        \"Verified email at \", \"\", regex=False\n",
    "                    ),\n",
    "                )\n",
    "            ),\n",
    "            pd.json_normalize(list_authors_google)\n",
    "            .assign(\n",
    "                author_clean=lambda x: x.apply(\n",
    "                    lambda x: \"\".join(\n",
    "                        (\n",
    "                            c\n",
    "                            for c in unicodedata.normalize(\"NFD\", x[\"author.name\"])\n",
    "                            if unicodedata.category(c) != \"Mn\"\n",
    "                        )\n",
    "                    ),\n",
    "                    axis=1,\n",
    "                )\n",
    "            )[\"author_clean\"]\n",
    "            .str.split(\" \", expand=True),\n",
    "        ],\n",
    "        axis=1,\n",
    "    )\n",
    "    .reindex(\n",
    "        columns=[\n",
    "            \"status\",\n",
    "            \"search_parameters.engine\",\n",
    "            \"search_parameters.author_id\",\n",
    "            \"search_parameters.hl\",\n",
    "            \"author.name\",\n",
    "            \"author.affiliations\",\n",
    "            \"author.email\",\n",
    "            \"author.website\",\n",
    "            \"author.interests\",\n",
    "            \"author.thumbnail\",\n",
    "            \"interest\",\n",
    "            \"email_extensition\",\n",
    "            #\"first_name\"\n",
    "        ]\n",
    "    )\n",
    ")\n",
    "df_authors.head(1)"
   ]
  },
  {
   "cell_type": "code",
   "execution_count": 163,
   "metadata": {},
   "outputs": [],
   "source": [
    "list_papers_google = pickle.load( open( \"MODELS_AND_DATA/list_papers_google.pickle\", \"rb\" ))"
   ]
  },
  {
   "cell_type": "code",
   "execution_count": 492,
   "metadata": {},
   "outputs": [],
   "source": [
    "df_google_scholar = (\n",
    "    pd.json_normalize(list_papers_google)\n",
    "    .assign(\n",
    "        nb_authors_google=lambda x: x['publication_info.authors'].str.len()\n",
    "    )\n",
    ")"
   ]
  },
  {
   "cell_type": "code",
   "execution_count": 493,
   "metadata": {},
   "outputs": [
    {
     "data": {
      "text/html": [
       "<div>\n",
       "<style scoped>\n",
       "    .dataframe tbody tr th:only-of-type {\n",
       "        vertical-align: middle;\n",
       "    }\n",
       "\n",
       "    .dataframe tbody tr th {\n",
       "        vertical-align: top;\n",
       "    }\n",
       "\n",
       "    .dataframe thead th {\n",
       "        text-align: right;\n",
       "    }\n",
       "</style>\n",
       "<table border=\"1\" class=\"dataframe\">\n",
       "  <thead>\n",
       "    <tr style=\"text-align: right;\">\n",
       "      <th></th>\n",
       "      <th>paperId</th>\n",
       "      <th>url</th>\n",
       "      <th>title</th>\n",
       "      <th>abstract</th>\n",
       "      <th>venue</th>\n",
       "      <th>year</th>\n",
       "      <th>nb_authors</th>\n",
       "      <th>nb_authors_google</th>\n",
       "      <th>missing_authors_info</th>\n",
       "      <th>authors</th>\n",
       "      <th>authors_details</th>\n",
       "      <th>referenceCount</th>\n",
       "      <th>citationCount</th>\n",
       "      <th>cited_by.total</th>\n",
       "      <th>cited_by.link</th>\n",
       "      <th>cited_by.cites_id</th>\n",
       "      <th>cited_by.serpapi_scholar_link</th>\n",
       "      <th>influentialCitationCount</th>\n",
       "      <th>isOpenAccess</th>\n",
       "      <th>fieldsOfStudy</th>\n",
       "      <th>status</th>\n",
       "      <th>Levenshtein_score</th>\n",
       "      <th>externalIds.MAG</th>\n",
       "      <th>externalIds.DOI</th>\n",
       "      <th>externalIds.DBLP</th>\n",
       "      <th>result_id</th>\n",
       "      <th>link</th>\n",
       "      <th>snippet</th>\n",
       "      <th>search_parameters.engine</th>\n",
       "      <th>search_parameters.q</th>\n",
       "      <th>search_parameters.hl</th>\n",
       "      <th>publication_info.summary</th>\n",
       "      <th>publication_info.authors</th>\n",
       "    </tr>\n",
       "  </thead>\n",
       "  <tbody>\n",
       "    <tr>\n",
       "      <th>0</th>\n",
       "      <td>57bf8e616da8230ca7a961be19affeb8b8ae619d</td>\n",
       "      <td>https://www.semanticscholar.org/paper/57bf8e616da8230ca7a961be19affeb8b8ae619d</td>\n",
       "      <td>Corporate social responsibility, financial instability and corporate financial performance: Linear, non-linear and spillover effects – The case of the CAC 40 companies</td>\n",
       "      <td>Abstract This article examines the influence of corporate social responsibility (CSR) on the financial performance (CFP) for CAC 40 companies from 2002 to 2017, considering the effect of financial instability at the macro level. We based our approach on a dynamic modeling of the CFP-CSR relationship, as well as on the generalized method of moments (GMM) to overcome the problem of endogeneity. Our results show that CSR positively affects the CFP in two ways: directly, through an overall positive non-linear effect, and indirectly by mitigating the negative effect of banking crises on the CFP, which is a positive spillover effect.</td>\n",
       "      <td></td>\n",
       "      <td>2020</td>\n",
       "      <td>2</td>\n",
       "      <td>1.0</td>\n",
       "      <td>True</td>\n",
       "      <td>[{'authorId': '122677227', 'name': 'Abderrahmane Jahmane'}, {'authorId': '114931694', 'name': 'Brahim Gaies'}]</td>\n",
       "      <td>[{'search_parameters': {'engine': 'google_scholar_author', 'author_id': 'qQZvGvIAAAAJ', 'hl': 'en'}, 'status': 'FOUND', 'author': {'name': 'Brahim Gaies', 'affiliations': 'Associate Professor in Economics &amp; Finance, IPAG Lab, IPAG Business School, Paris', 'email': 'Verified email at ipag.fr', 'website': 'https://www.ipag.edu/brahim-gaies?tab=onglet1', 'interests': [{'title': 'Financial globalization', 'link': 'https://scholar.google.com/citations?view_op=search_authors&amp;hl=en&amp;mauthors=label:financial_globalization', 'serpapi_link': 'https://serpapi.com/search.json?engine=google_scholar_profiles&amp;hl=en&amp;mauthors=label%3Afinancial_globalization'}, {'title': 'Financial instability', 'link': 'https://scholar.google.com/citations?view_op=search_authors&amp;hl=en&amp;mauthors=label:financial_instability', 'serpapi_link': 'https://serpapi.com/search.json?engine=google_scholar_profiles&amp;hl=en&amp;mauthors=label%3Afinancial_instability'}, {'title': 'Development economics', 'link': 'https://scholar.google.com/citations?view_op=search_authors&amp;hl=en&amp;mauthors=label:development_economics', 'serpapi_link': 'https://serpapi.com/search.json?engine=google_scholar_profiles&amp;hl=en&amp;mauthors=label%3Adevelopment_economics'}, {'title': 'Global entrepreneurship', 'link': 'https://scholar.google.com/citations?view_op=search_authors&amp;hl=en&amp;mauthors=label:global_entrepreneurship', 'serpapi_link': 'https://serpapi.com/search.json?engine=google_scholar_profiles&amp;hl=en&amp;mauthors=label%3Aglobal_entrepreneurship'}, {'title': 'International business', 'link': 'https://scholar.google.com/citations?view_op=search_authors&amp;hl=en&amp;mauthors=label:international_business', 'serpapi_link': 'https://serpapi.com/search.json?engine=google_scholar_profiles&amp;hl=en&amp;mauthors=label%3Ainternational_business'}], 'thumbnail': 'https://scholar.googleusercontent.com/citations?view_op=view_photo&amp;user=qQZvGvIAAAAJ&amp;citpid=1'}}]</td>\n",
       "      <td>47</td>\n",
       "      <td>14</td>\n",
       "      <td>20.0</td>\n",
       "      <td>https://scholar.google.com/scholar?cites=15354319606549177218&amp;as_sdt=5,39&amp;sciodt=0,39&amp;hl=en</td>\n",
       "      <td>15354319606549177218</td>\n",
       "      <td>https://serpapi.com/search.json?as_sdt=5%2C39&amp;cites=15354319606549177218&amp;engine=google_scholar&amp;hl=en</td>\n",
       "      <td>0</td>\n",
       "      <td>False</td>\n",
       "      <td>[Economics]</td>\n",
       "      <td>found</td>\n",
       "      <td>0.0</td>\n",
       "      <td>3009622282</td>\n",
       "      <td>10.1016/j.frl.2020.101483</td>\n",
       "      <td>NaN</td>\n",
       "      <td>guMt3FSAFdUJ</td>\n",
       "      <td>https://www.sciencedirect.com/science/article/pii/S1544612319314576</td>\n",
       "      <td>This article examines the influence of corporate social responsibility (CSR) on the financial performance (CFP) for CAC 40 companies from 2002 to 2017, considering the effect of financial instability at the macro level. We based our approach on a dynamic modeling of the CFP-CSR relationship, as well as on the generalized method of moments (GMM) to overcome the problem of endogeneity. Our results show that CSR positively affects the CFP in two ways: directly, through an overall positive non-linear effect, and indirectly by mitigating …</td>\n",
       "      <td>google_scholar</td>\n",
       "      <td>10.1016/j.frl.2020.101483</td>\n",
       "      <td>en</td>\n",
       "      <td>A Jahmane, B Gaies - Finance Research Letters, 2020 - Elsevier</td>\n",
       "      <td>[{'name': 'B Gaies', 'link': 'https://scholar.google.com/citations?user=qQZvGvIAAAAJ&amp;hl=en&amp;oi=sra', 'serpapi_scholar_link': 'https://serpapi.com/search.json?author_id=qQZvGvIAAAAJ&amp;engine=google_scholar_author&amp;hl=en', 'author_id': 'qQZvGvIAAAAJ'}]</td>\n",
       "    </tr>\n",
       "  </tbody>\n",
       "</table>\n",
       "</div>"
      ],
      "text/plain": [
       "                                    paperId  \\\n",
       "0  57bf8e616da8230ca7a961be19affeb8b8ae619d   \n",
       "\n",
       "                                                                              url  \\\n",
       "0  https://www.semanticscholar.org/paper/57bf8e616da8230ca7a961be19affeb8b8ae619d   \n",
       "\n",
       "                                                                                                                                                                     title  \\\n",
       "0  Corporate social responsibility, financial instability and corporate financial performance: Linear, non-linear and spillover effects – The case of the CAC 40 companies   \n",
       "\n",
       "                                                                                                                                                                                                                                                                                                                                                                                                                                                                                                                                                                                                                                                      abstract  \\\n",
       "0  Abstract This article examines the influence of corporate social responsibility (CSR) on the financial performance (CFP) for CAC 40 companies from 2002 to 2017, considering the effect of financial instability at the macro level. We based our approach on a dynamic modeling of the CFP-CSR relationship, as well as on the generalized method of moments (GMM) to overcome the problem of endogeneity. Our results show that CSR positively affects the CFP in two ways: directly, through an overall positive non-linear effect, and indirectly by mitigating the negative effect of banking crises on the CFP, which is a positive spillover effect.   \n",
       "\n",
       "  venue  year  nb_authors  nb_authors_google  missing_authors_info  \\\n",
       "0        2020           2                1.0                  True   \n",
       "\n",
       "                                                                                                          authors  \\\n",
       "0  [{'authorId': '122677227', 'name': 'Abderrahmane Jahmane'}, {'authorId': '114931694', 'name': 'Brahim Gaies'}]   \n",
       "\n",
       "                                                                                                                                                                                                                                                                                                                                                                                                                                                                                                                                                                                                                                                                                                                                                                                                                                                                                                                                                                                                                                                                                                                                                                                                                                                                                                                                                                                                                                                                                                                                                                                                                                                                                                                                                                                                                                                                                                                                            authors_details  \\\n",
       "0  [{'search_parameters': {'engine': 'google_scholar_author', 'author_id': 'qQZvGvIAAAAJ', 'hl': 'en'}, 'status': 'FOUND', 'author': {'name': 'Brahim Gaies', 'affiliations': 'Associate Professor in Economics & Finance, IPAG Lab, IPAG Business School, Paris', 'email': 'Verified email at ipag.fr', 'website': 'https://www.ipag.edu/brahim-gaies?tab=onglet1', 'interests': [{'title': 'Financial globalization', 'link': 'https://scholar.google.com/citations?view_op=search_authors&hl=en&mauthors=label:financial_globalization', 'serpapi_link': 'https://serpapi.com/search.json?engine=google_scholar_profiles&hl=en&mauthors=label%3Afinancial_globalization'}, {'title': 'Financial instability', 'link': 'https://scholar.google.com/citations?view_op=search_authors&hl=en&mauthors=label:financial_instability', 'serpapi_link': 'https://serpapi.com/search.json?engine=google_scholar_profiles&hl=en&mauthors=label%3Afinancial_instability'}, {'title': 'Development economics', 'link': 'https://scholar.google.com/citations?view_op=search_authors&hl=en&mauthors=label:development_economics', 'serpapi_link': 'https://serpapi.com/search.json?engine=google_scholar_profiles&hl=en&mauthors=label%3Adevelopment_economics'}, {'title': 'Global entrepreneurship', 'link': 'https://scholar.google.com/citations?view_op=search_authors&hl=en&mauthors=label:global_entrepreneurship', 'serpapi_link': 'https://serpapi.com/search.json?engine=google_scholar_profiles&hl=en&mauthors=label%3Aglobal_entrepreneurship'}, {'title': 'International business', 'link': 'https://scholar.google.com/citations?view_op=search_authors&hl=en&mauthors=label:international_business', 'serpapi_link': 'https://serpapi.com/search.json?engine=google_scholar_profiles&hl=en&mauthors=label%3Ainternational_business'}], 'thumbnail': 'https://scholar.googleusercontent.com/citations?view_op=view_photo&user=qQZvGvIAAAAJ&citpid=1'}}]   \n",
       "\n",
       "   referenceCount  citationCount  cited_by.total  \\\n",
       "0              47             14            20.0   \n",
       "\n",
       "                                                                                 cited_by.link  \\\n",
       "0  https://scholar.google.com/scholar?cites=15354319606549177218&as_sdt=5,39&sciodt=0,39&hl=en   \n",
       "\n",
       "      cited_by.cites_id  \\\n",
       "0  15354319606549177218   \n",
       "\n",
       "                                                                          cited_by.serpapi_scholar_link  \\\n",
       "0  https://serpapi.com/search.json?as_sdt=5%2C39&cites=15354319606549177218&engine=google_scholar&hl=en   \n",
       "\n",
       "   influentialCitationCount  isOpenAccess fieldsOfStudy status  \\\n",
       "0                         0         False   [Economics]  found   \n",
       "\n",
       "   Levenshtein_score externalIds.MAG            externalIds.DOI  \\\n",
       "0                0.0      3009622282  10.1016/j.frl.2020.101483   \n",
       "\n",
       "  externalIds.DBLP     result_id  \\\n",
       "0              NaN  guMt3FSAFdUJ   \n",
       "\n",
       "                                                                  link  \\\n",
       "0  https://www.sciencedirect.com/science/article/pii/S1544612319314576   \n",
       "\n",
       "                                                                                                                                                                                                                                                                                                                                                                                                                                                                                                                                                        snippet  \\\n",
       "0  This article examines the influence of corporate social responsibility (CSR) on the financial performance (CFP) for CAC 40 companies from 2002 to 2017, considering the effect of financial instability at the macro level. We based our approach on a dynamic modeling of the CFP-CSR relationship, as well as on the generalized method of moments (GMM) to overcome the problem of endogeneity. Our results show that CSR positively affects the CFP in two ways: directly, through an overall positive non-linear effect, and indirectly by mitigating …   \n",
       "\n",
       "  search_parameters.engine        search_parameters.q search_parameters.hl  \\\n",
       "0           google_scholar  10.1016/j.frl.2020.101483                   en   \n",
       "\n",
       "                                         publication_info.summary  \\\n",
       "0  A Jahmane, B Gaies - Finance Research Letters, 2020 - Elsevier   \n",
       "\n",
       "                                                                                                                                                                                                                                 publication_info.authors  \n",
       "0  [{'name': 'B Gaies', 'link': 'https://scholar.google.com/citations?user=qQZvGvIAAAAJ&hl=en&oi=sra', 'serpapi_scholar_link': 'https://serpapi.com/search.json?author_id=qQZvGvIAAAAJ&engine=google_scholar_author&hl=en', 'author_id': 'qQZvGvIAAAAJ'}]  "
      ]
     },
     "execution_count": 493,
     "metadata": {},
     "output_type": "execute_result"
    }
   ],
   "source": [
    "df_paper_info_full = (\n",
    "    pd.json_normalize(list_paper_semantic, meta=[\"externalIds\"])\n",
    "    .drop(columns=[\"paper_name_source\"])\n",
    "    .assign(nb_authors=lambda x: x[\"authors\"].str.len())\n",
    "    .merge(\n",
    "        df_google_scholar.drop(columns=[\"title\", \"status\"]),\n",
    "        how=\"left\",\n",
    "        left_on=[\"externalIds.DOI\"],\n",
    "        right_on=[\"search_parameters.q\"],\n",
    "    )\n",
    "    .assign(missing_authors_info=lambda x: x[\"nb_authors\"] != x[\"nb_authors_google\"])\n",
    "    .reindex(\n",
    "        columns=[\n",
    "            \"paperId\",\n",
    "            \"url\",\n",
    "            \"title\",\n",
    "            \"abstract\",\n",
    "            \"venue\",\n",
    "            \"year\",\n",
    "            \"nb_authors\",\n",
    "            \"nb_authors_google\",\n",
    "            \"missing_authors_info\",\n",
    "            \"authors\",\n",
    "            \"authors_details\",\n",
    "            \"referenceCount\",\n",
    "            \"citationCount\",\n",
    "            \"cited_by.total\",\n",
    "            \"cited_by.link\",\n",
    "            \"cited_by.cites_id\",\n",
    "            \"cited_by.serpapi_scholar_link\",\n",
    "            \"influentialCitationCount\",\n",
    "            \"isOpenAccess\",\n",
    "            \"fieldsOfStudy\",\n",
    "            \"status\",\n",
    "            \"Levenshtein_score\",\n",
    "            \"externalIds.MAG\",\n",
    "            \"externalIds.DOI\",\n",
    "            \"externalIds.DBLP\",   \n",
    "            \"result_id\",\n",
    "            \"link\",\n",
    "            \"snippet\",       \n",
    "            \"search_parameters.engine\",\n",
    "            \"search_parameters.q\",\n",
    "            \"search_parameters.hl\",\n",
    "            \"publication_info.summary\",\n",
    "            \"publication_info.authors\"\n",
    "        ]\n",
    "    )\n",
    ")\n",
    "df_paper_info_full.head(1)"
   ]
  },
  {
   "cell_type": "code",
   "execution_count": 184,
   "metadata": {},
   "outputs": [
    {
     "data": {
      "text/plain": [
       "True     76\n",
       "False    30\n",
       "Name: missing_authors_info, dtype: int64"
      ]
     },
     "execution_count": 184,
     "metadata": {},
     "output_type": "execute_result"
    }
   ],
   "source": [
    "df_paper_info_full['missing_authors_info'].value_counts()"
   ]
  },
  {
   "cell_type": "markdown",
   "metadata": {},
   "source": [
    "Save to spreadsheet for validation: [PAPER_SEMANTIC_GOOGLE](https://docs.google.com/spreadsheets/d/1aK8BMsUHUVaLePtlMoM-D9wM6E9nmnBE4kaenCgdm00/edit?usp=sharing)\n",
    "\n",
    "\n",
    "Need to manualy create spreadsheet, because the API does not process data with list"
   ]
  },
  {
   "cell_type": "code",
   "execution_count": 185,
   "metadata": {},
   "outputs": [],
   "source": [
    "FILENAME_SPREADSHEET = \"PAPER_SEMANTIC_GOOGLE\""
   ]
  },
  {
   "cell_type": "code",
   "execution_count": 192,
   "metadata": {},
   "outputs": [
    {
     "data": {
      "text/plain": [
       "'1e2aAliDFToqgXQXK97oGeVxmk8fkBxrN'"
      ]
     },
     "execution_count": 192,
     "metadata": {},
     "output_type": "execute_result"
    }
   ],
   "source": [
    "df_paper_info_full.to_csv('PAPER_SEMANTIC_GOOGLE.csv', index = False)\n",
    "drive.upload_file_root(mime_type = 'text/plain',\n",
    "                 file_name = 'PAPER_SEMANTIC_GOOGLE.csv',\n",
    "                 local_path = \"PAPER_SEMANTIC_GOOGLE.csv\"\n",
    "                ) \n",
    "drive.move_file(file_name = 'PAPER_SEMANTIC_GOOGLE.csv', folder_name = \"SPREADSHEETS_ESG_METADATA\")"
   ]
  },
  {
   "cell_type": "markdown",
   "metadata": {},
   "source": [
    "Create spreadsheet authors: [AUTHOR_SEMANTIC_GOOGLE](https://docs.google.com/spreadsheets/d/1GrrQBip4qNcDuT_MEG9KhNhfTC3yFsVZUtP8-SvXBL4/edit?usp=sharing)\n",
    "\n",
    "Once again, use levensthein to match them. No need to be fancy"
   ]
  },
  {
   "cell_type": "code",
   "execution_count": 229,
   "metadata": {},
   "outputs": [],
   "source": [
    "import jellyfish"
   ]
  },
  {
   "cell_type": "code",
   "execution_count": 303,
   "metadata": {},
   "outputs": [
    {
     "data": {
      "text/plain": [
       "266"
      ]
     },
     "execution_count": 303,
     "metadata": {},
     "output_type": "execute_result"
    }
   ],
   "source": [
    "pd.json_normalize(list_paper_semantic, \"authors\")[\"name\"].nunique()"
   ]
  },
  {
   "cell_type": "code",
   "execution_count": 302,
   "metadata": {},
   "outputs": [
    {
     "data": {
      "text/plain": [
       "147"
      ]
     },
     "execution_count": 302,
     "metadata": {},
     "output_type": "execute_result"
    }
   ],
   "source": [
    "df_authors[\"author.name\"].nunique()"
   ]
  },
  {
   "cell_type": "code",
   "execution_count": 494,
   "metadata": {},
   "outputs": [],
   "source": [
    "match_author = (\n",
    "    pd.DataFrame(\n",
    "        index=pd.MultiIndex.from_product(\n",
    "            [\n",
    "                pd.json_normalize(list_paper_semantic, \"authors\")[\"name\"].unique(),\n",
    "                df_authors[\"author.name\"].unique(),\n",
    "            ],\n",
    "            names=[\"semantic\", \"google\"],\n",
    "        )\n",
    "    )\n",
    "    .reset_index()\n",
    "    .apply(lambda x: x.str.lower())\n",
    "    .assign(\n",
    "        semantic=lambda x: x.apply(\n",
    "            lambda x: \"\".join(\n",
    "                (\n",
    "                    c\n",
    "                    for c in unicodedata.normalize(\"NFD\", x[\"semantic\"])\n",
    "                    if unicodedata.category(c) != \"Mn\"\n",
    "                )\n",
    "            ),\n",
    "            axis=1,\n",
    "        ),\n",
    "        google=lambda x: x.apply(\n",
    "            lambda x: \"\".join(\n",
    "                (\n",
    "                    c\n",
    "                    for c in unicodedata.normalize(\"NFD\", x[\"google\"])\n",
    "                    if unicodedata.category(c) != \"Mn\"\n",
    "                )\n",
    "            ),\n",
    "            axis=1,\n",
    "        ),\n",
    "        score_lev = lambda x: x.apply(lambda x: jellyfish.levenshtein_distance(x['semantic'], x['google']),axis =1),\n",
    "        min_score_lev = lambda x: x.groupby('google')['score_lev'].transform(min),\n",
    "        score_jaro= lambda x: x.apply(lambda x: jellyfish.jaro_distance(x['semantic'], x['google']),axis =1),\n",
    "        max_score_jaro = lambda x: x.groupby('google')['score_jaro'].transform(max),\n",
    "        score_d_lev= lambda x: x.apply(lambda x: jellyfish.damerau_levenshtein_distance(x['semantic'], x['google']),axis =1),\n",
    "        min_score_d_lev = lambda x: x.groupby('google')['score_d_lev'].transform(min),\n",
    "        score_hamming= lambda x: x.apply(lambda x: jellyfish.hamming_distance(x['semantic'], x['google']),axis =1),\n",
    "        min_score_hamming = lambda x: x.groupby('google')['score_hamming'].transform(min)\n",
    "    )\n",
    ")"
   ]
  },
  {
   "cell_type": "code",
   "execution_count": 496,
   "metadata": {},
   "outputs": [],
   "source": [
    "import requests\n",
    "def twinword(token1, token2):\n",
    "    \"\"\"\n",
    "    \"\"\"\n",
    "    url = \"https://api.twinword.com/api/text/similarity/latest/\"\n",
    "    headers = {\n",
    "        'Host': \"api.twinword.com\",\n",
    "        \"X-Twaip-Key\": \"T2pS4kaW7BQBP0eoXJU5HHhvYtYYJfGTWorsyviz3Kc+7eFxyboqdJYc4xAEyptg1eURGJdeURGCjlE3sjffFw==\"\n",
    "    }\n",
    "    querystring = {\n",
    "        \"text1\": token1,\n",
    "        \"text2\": token2\n",
    "    }\n",
    "    response = requests.get(url, headers=headers,params=querystring)\n",
    "    return response.json()['similarity']\n",
    "    "
   ]
  },
  {
   "cell_type": "code",
   "execution_count": 497,
   "metadata": {},
   "outputs": [],
   "source": [
    "test = (\n",
    "    match_author\n",
    "    .loc[lambda x: x['score_lev'] == x['min_score_lev']]\n",
    "    .sort_values(by = ['min_score_lev', \"semantic\",'google'])\n",
    "    .assign( \n",
    "        similarity = lambda x: x.apply(lambda x: twinword(x['semantic'], x['google']), axis= 1),\n",
    "        max_similarity = lambda x: x.groupby('semantic')['similarity'].transform(max)\n",
    "    )\n",
    "    .loc[lambda x: x['score_lev'] == x['min_score_lev']]\n",
    ")"
   ]
  },
  {
   "cell_type": "code",
   "execution_count": 498,
   "metadata": {},
   "outputs": [
    {
     "data": {
      "text/plain": [
       "147"
      ]
     },
     "execution_count": 498,
     "metadata": {},
     "output_type": "execute_result"
    }
   ],
   "source": [
    "test['google'].nunique()"
   ]
  },
  {
   "cell_type": "markdown",
   "metadata": {},
   "source": [
    "Test 1: 125 exact match\n",
    "\n",
    "- authors with large similarity score and only one observation by author"
   ]
  },
  {
   "cell_type": "code",
   "execution_count": 499,
   "metadata": {},
   "outputs": [
    {
     "data": {
      "text/plain": [
       "125"
      ]
     },
     "execution_count": 499,
     "metadata": {},
     "output_type": "execute_result"
    }
   ],
   "source": [
    "test_1 = (\n",
    "    test\n",
    "    .assign( \n",
    "        size = lambda x: x.groupby('google')['google'].transform(\"size\"),\n",
    "    )\n",
    "    .loc[lambda x: (x['size'] ==1) & (x['max_similarity'] >0.1)]\n",
    "    .loc[lambda x: (x['similarity'] ==x['max_similarity'])]\n",
    "    .sort_values(by = ['max_similarity', \"semantic\",'google'])\n",
    ")\n",
    "test_1['google'].nunique()"
   ]
  },
  {
   "cell_type": "markdown",
   "metadata": {},
   "source": [
    "Test 2: 7 exact match\n",
    "\n",
    "- authors with large similarity score and if duplicates lowest hammer"
   ]
  },
  {
   "cell_type": "code",
   "execution_count": 500,
   "metadata": {},
   "outputs": [
    {
     "data": {
      "text/plain": [
       "7"
      ]
     },
     "execution_count": 500,
     "metadata": {},
     "output_type": "execute_result"
    }
   ],
   "source": [
    "test_2 = (\n",
    "    test\n",
    "    .loc[lambda x: ~x['google'].isin(test_1['google'].unique())]\n",
    "    .loc[lambda x:(x['similarity'] >0)]\n",
    "    .assign( \n",
    "        size = lambda x: x.groupby('google')['google'].transform(\"size\"),\n",
    "        min_score_hamming = lambda x: x.groupby('google')['score_hamming'].transform(min)\n",
    "    )\n",
    "    .loc[lambda x:(x['min_score_hamming'] == x['score_hamming'])]\n",
    ")\n",
    "test_2['google'].nunique()"
   ]
  },
  {
   "cell_type": "markdown",
   "metadata": {},
   "source": [
    "We found 136 authors among the 266:\n",
    "\n",
    "- We now need to match Google's authors information, and then match with semantic authors' list to see the authors not match\n",
    "- We remove the duplicate by keeping the highest complexity value within authors"
   ]
  },
  {
   "cell_type": "code",
   "execution_count": 527,
   "metadata": {},
   "outputs": [],
   "source": [
    "df_authors_full = (\n",
    "    pd.concat(\n",
    "        [\n",
    "            (\n",
    "                pd.concat([test_2, test_1])\n",
    "                .reindex(columns=[\"google\", \"semantic\", \"similarity\"])\n",
    "                .merge(\n",
    "                    (\n",
    "                        df_authors.drop_duplicates(subset=\"author.name\").assign(\n",
    "                            google=lambda x: x.apply(\n",
    "                                lambda x: \"\".join(\n",
    "                                    (\n",
    "                                        c\n",
    "                                        for c in unicodedata.normalize(\"NFD\", x[\"author.name\"])\n",
    "                                        if unicodedata.category(c) != \"Mn\"\n",
    "                                    )\n",
    "                                ),\n",
    "                                axis=1,\n",
    "                            ).str.lower()\n",
    "                        )\n",
    "                    ),\n",
    "                    how=\"left\",\n",
    "                    on=[\"google\"],\n",
    "                )\n",
    "                .assign(\n",
    "                    size=lambda x: x.groupby(\"semantic\")[\n",
    "                        \"semantic\"].transform(\"size\"),\n",
    "                    max_similarity=lambda x: x.groupby(\n",
    "                        \"semantic\")[\"similarity\"].transform(max),\n",
    "                )\n",
    "                .loc[lambda x: x[\"max_similarity\"] == x[\"similarity\"]]\n",
    "                .assign(\n",
    "                    google_0=lambda x: x['google'].str.split(\" \", expand=True)[\n",
    "                        0],\n",
    "                    semantic_0=lambda x: x['semantic'].str.split(\" \", expand=True)[\n",
    "                        0],\n",
    "                    preprocessed_0=lambda x: preprocess(\n",
    "                        x.reindex(columns=[\"google_0\"]), column=\"google_0\", train=False\n",
    "                    ),\n",
    "                    preprocessed_1=lambda x: preprocess(\n",
    "                        x.reindex(columns=[\"semantic_0\"]), column=\"semantic_0\", train=False\n",
    "                    ),\n",
    "                    preds_0=lambda x:\n",
    "                    pred_model.predict(\n",
    "                        np.asarray(x[\"preprocessed_0\"].values.tolist())\n",
    "                    ),\n",
    "                    preds_1=lambda x:\n",
    "                    pred_model.predict(\n",
    "                        np.asarray(x[\"preprocessed_1\"].values.tolist())\n",
    "                    )\n",
    "                )\n",
    "                .assign(\n",
    "                    preds_1=lambda x: np.where(x[\"semantic_0\"].str.len() <3, np.nan, x['preds_1'])\n",
    "                )\n",
    "            ),\n",
    "            (\n",
    "                pd.json_normalize(list_paper_semantic, \"authors\")\n",
    "                .apply(lambda x: x.str.lower())\n",
    "                .assign(\n",
    "                    semantic=lambda x: x.apply(\n",
    "                        lambda x: \"\".join(\n",
    "                            (\n",
    "                                c\n",
    "                                for c in unicodedata.normalize(\"NFD\", x[\"name\"])\n",
    "                                if unicodedata.category(c) != \"Mn\"\n",
    "                            )\n",
    "                        ),\n",
    "                        axis=1,\n",
    "                    )\n",
    "                )\n",
    "                .drop_duplicates()\n",
    "                .loc[\n",
    "                    lambda x: ~x[\"semantic\"].isin(\n",
    "                        list(pd.concat([test_2, test_1])[\"semantic\"])\n",
    "                    )\n",
    "                ]\n",
    "                .drop(columns=[\"name\"])\n",
    "                .assign(\n",
    "                    semantic_0=lambda x: x['semantic'].str.split(\" \", expand=True)[\n",
    "                        0],\n",
    "                    preprocessed_1=lambda x: preprocess(\n",
    "                        x.reindex(columns=[\"semantic_0\"]), column=\"semantic_0\", train=False\n",
    "                    ),\n",
    "                    preds_1=lambda x:\n",
    "                    pred_model.predict(\n",
    "                        np.asarray(x[\"preprocessed_1\"].values.tolist())\n",
    "                    ),\n",
    "                )\n",
    "                .assign(\n",
    "                    preds_1=lambda x: np.where(x[\"semantic_0\"].str.len() <3, np.nan, x['preds_1']),\n",
    "                )\n",
    "            ),\n",
    "        ],\n",
    "        axis=0,\n",
    "    )\n",
    "    .assign(\n",
    "        missing=lambda x: x['google'].isin([np.nan]),\n",
    "        max_prob = lambda x: x[['preds_0' ,'preds_1']].max(axis=1),\n",
    "        gender=lambda x: np.where(x[\"max_prob\"] > 0.5, \"MALE\", \"FEMALE\"),\n",
    "    )\n",
    "    .sort_values(by=['missing', 'semantic'])\n",
    ")"
   ]
  },
  {
   "cell_type": "code",
   "execution_count": 530,
   "metadata": {},
   "outputs": [
    {
     "data": {
      "text/plain": [
       "MALE      139\n",
       "FEMALE    127\n",
       "Name: gender, dtype: int64"
      ]
     },
     "execution_count": 530,
     "metadata": {},
     "output_type": "execute_result"
    }
   ],
   "source": [
    "df_authors_full['gender'].value_counts()"
   ]
  },
  {
   "cell_type": "code",
   "execution_count": 529,
   "metadata": {},
   "outputs": [
    {
     "data": {
      "text/plain": [
       "(266, 28)"
      ]
     },
     "execution_count": 529,
     "metadata": {},
     "output_type": "execute_result"
    }
   ],
   "source": [
    "df_authors_full.shape"
   ]
  },
  {
   "cell_type": "markdown",
   "metadata": {},
   "source": [
    "Add journals to update the information in Google spreadsheet"
   ]
  },
  {
   "cell_type": "code",
   "execution_count": 539,
   "metadata": {},
   "outputs": [],
   "source": [
    "df_authors_journal_full = (\n",
    "    df_paper_info_full.assign(\n",
    "        authors_list=lambda x: x.apply(\n",
    "            lambda x: [i[\"name\"]\n",
    "                       for i in x[\"authors\"] if x[\"authors\"] != np.nan]\n",
    "            if isinstance(x[\"authors\"], list)\n",
    "            else np.nan,\n",
    "            axis=1,\n",
    "        )\n",
    "    )\n",
    "    .explode(\"authors_list\")\n",
    "    .assign(\n",
    "        authors_list=lambda x: x[\"authors_list\"].str.lower(),\n",
    "        semantic=lambda x: x.apply(\n",
    "            lambda x: \"\".join(\n",
    "                (\n",
    "                    c\n",
    "                    for c in unicodedata.normalize(\"NFD\", x[\"authors_list\"])\n",
    "                    if unicodedata.category(c) != \"Mn\"\n",
    "                )\n",
    "            ),\n",
    "            axis=1,\n",
    "        ),\n",
    "    )\n",
    "    .merge(df_authors_full, how=\"left\", on=[\"semantic\"])\n",
    "    .reindex(columns=['paperId',\n",
    "                      'url',\n",
    "                      'title',\n",
    "                      'abstract',\n",
    "                      'venue',\n",
    "                      'year',\n",
    "                      'nb_authors',\n",
    "                      'nb_authors_google',\n",
    "                      'missing_authors_info',\n",
    "                      'authors',\n",
    "                      'authors_details',\n",
    "                      'referenceCount',\n",
    "                      'citationCount',\n",
    "                      'cited_by.total',\n",
    "                      'cited_by.link',\n",
    "                      'cited_by.cites_id',\n",
    "                      'cited_by.serpapi_scholar_link',\n",
    "                      'influentialCitationCount',\n",
    "                      'isOpenAccess',\n",
    "                      'fieldsOfStudy',\n",
    "                      'Levenshtein_score',\n",
    "                      'externalIds.MAG',\n",
    "                      'externalIds.DOI',\n",
    "                      'externalIds.DBLP',\n",
    "                      'result_id',\n",
    "                      'link',\n",
    "                      'snippet',\n",
    "                      'search_parameters.engine_x',\n",
    "                      'search_parameters.q',\n",
    "                      'search_parameters.hl_x',\n",
    "                      'publication_info.summary',\n",
    "                      'publication_info.authors',\n",
    "                      'authors_list',\n",
    "                      'semantic',\n",
    "                      'google',\n",
    "                      'gender',\n",
    "                      'preds_0',\n",
    "                      'preds_1',\n",
    "                      'authorId',\n",
    "                      'missing',\n",
    "                      'max_prob',\n",
    "                      'similarity',\n",
    "                      'status_y',\n",
    "                      'search_parameters.engine_y',\n",
    "                      'search_parameters.author_id',\n",
    "                      'search_parameters.hl_y',\n",
    "                      'author.name',\n",
    "                      'author.affiliations',\n",
    "                      'author.email',\n",
    "                      'author.website',\n",
    "                      'author.interests',\n",
    "                      'author.thumbnail',\n",
    "                      'interest',\n",
    "                      'email_extensition',\n",
    "                      'max_similarity',\n",
    "                      'google_0',\n",
    "                      'semantic_0'\n",
    "                      ])\n",
    ")"
   ]
  },
  {
   "cell_type": "code",
   "execution_count": 540,
   "metadata": {},
   "outputs": [
    {
     "name": "stdout",
     "output_type": "stream",
     "text": [
      "Found file: SPREADSHEETS_ESG_METADATA (1GxZg6aF5H1JMfGulEoNCbLZVnJqSpSMh)\n",
      "Found file: AUTHOR_SEMANTIC_GOOGLE.csv (1Icx_0cwwc4G0qnVyAXLHlaiauB9yKAp1)\n",
      "File AUTHOR_SEMANTIC_GOOGLE.csv moved to SPREADSHEETS_ESG_METADATA\n"
     ]
    },
    {
     "data": {
      "text/plain": [
       "{'file_name': 'AUTHOR_SEMANTIC_GOOGLE.csv',\n",
       " 'folder_name': 'SPREADSHEETS_ESG_METADATA'}"
      ]
     },
     "execution_count": 540,
     "metadata": {},
     "output_type": "execute_result"
    }
   ],
   "source": [
    "FILENAME_SPREADSHEET = \"AUTHOR_SEMANTIC_GOOGLE\"\n",
    "df_authors_journal_full.to_csv('AUTHOR_SEMANTIC_GOOGLE.csv', index = False)\n",
    "drive.upload_file_root(mime_type = 'text/plain',\n",
    "                 file_name = 'AUTHOR_SEMANTIC_GOOGLE.csv',\n",
    "                 local_path = \"AUTHOR_SEMANTIC_GOOGLE.csv\"\n",
    "                ) \n",
    "drive.move_file(file_name = 'AUTHOR_SEMANTIC_GOOGLE.csv', folder_name = \"SPREADSHEETS_ESG_METADATA\")"
   ]
  },
  {
   "cell_type": "markdown",
   "metadata": {},
   "source": [
    "# Table `meta_analysis_esg_cfp`\n",
    "\n",
    "Since the table to create has missing value, please use the following at the top of the query\n",
    "\n",
    "```\n",
    "CREATE TABLE database.table_name WITH (format = 'PARQUET') AS\n",
    "```"
   ]
  },
  {
   "cell_type": "markdown",
   "metadata": {},
   "source": [
    "Choose a location in S3 to save the CSV. It is recommended to save in it the `datalake-datascience` bucket. Locate an appropriate folder in the bucket, and make sure all output have the same format"
   ]
  },
  {
   "cell_type": "code",
   "execution_count": null,
   "metadata": {},
   "outputs": [],
   "source": [
    "s3_output = 'DATA/FINANCE/ESG/ESG_CFP'\n",
    "table_name = 'meta_analysis_esg_cfp'"
   ]
  },
  {
   "cell_type": "markdown",
   "metadata": {},
   "source": [
    "First, we need to delete the table (if exist)"
   ]
  },
  {
   "cell_type": "code",
   "execution_count": null,
   "metadata": {},
   "outputs": [],
   "source": [
    "try:\n",
    "    response = glue.delete_table(\n",
    "        database=DatabaseName,\n",
    "        table=table_name\n",
    "    )\n",
    "    print(response)\n",
    "except Exception as e:\n",
    "    print(e)"
   ]
  },
  {
   "cell_type": "markdown",
   "metadata": {},
   "source": [
    "Clean up the folder with the previous csv file. Be careful, it will erase all files inside the folder"
   ]
  },
  {
   "cell_type": "code",
   "execution_count": null,
   "metadata": {},
   "outputs": [],
   "source": [
    "s3.remove_all_bucket(path_remove = s3_output)"
   ]
  },
  {
   "cell_type": "code",
   "execution_count": null,
   "metadata": {},
   "outputs": [],
   "source": [
    "%%time\n",
    "query = \"\"\"\n",
    "CREATE TABLE {0}.{1} WITH (format = 'PARQUET') AS\n",
    "WITH merge AS (\n",
    "  SELECT \n",
    "    id, \n",
    "    image,\n",
    "    row_id_excel,\n",
    "    table_refer,\n",
    "    row_id_google_spreadsheet,\n",
    "    incremental_id,\n",
    "    paper_name, \n",
    "    publication_year, \n",
    "    publication_type, \n",
    "    regexp_replace(\n",
    "      regexp_replace(\n",
    "        lower(publication_name), \n",
    "        '\\&', \n",
    "        'and'\n",
    "      ), \n",
    "      '\\-', \n",
    "      ' '\n",
    "    ) as publication_name, \n",
    "    cnrs_ranking, \n",
    "    UPPER(peer_reviewed) as peer_reviewed, \n",
    "    UPPER(study_focused_on_social_environmental_behaviour) as study_focused_on_social_environmental_behaviour, \n",
    "    type_of_data, \n",
    "    CASE WHEN regions = 'ARAB WORLD' THEN 'WORLDWIDE' ELSE regions END AS regions,\n",
    "    CASE WHEN study_focusing_on_developing_or_developed_countries = 'Europe' THEN 'WORLDWIDE' ELSE UPPER(study_focusing_on_developing_or_developed_countries) END AS study_focusing_on_developing_or_developed_countries,\n",
    "    first_date_of_observations,\n",
    "    last_date_of_observations,\n",
    "    CASE WHEN first_date_of_observations >= 1997 THEN 'YES' ELSE 'NO' END AS kyoto,\n",
    "    CASE WHEN first_date_of_observations >= 2009 THEN 'YES' ELSE 'NO' END AS financial_crisis,\n",
    "    last_date_of_observations - first_date_of_observations as windows,\n",
    "    adjusted_model_name,\n",
    "    adjusted_model,\n",
    "    dependent, \n",
    "    adjusted_dependent,\n",
    "    independent,\n",
    "    adjusted_independent, \n",
    "    social,\n",
    "    environmental,\n",
    "    governance,\n",
    "    sign_of_effect,\n",
    "    target,\n",
    "    p_value_significant,\n",
    "    sign_positive,\n",
    "    sign_negative,\n",
    "    lag, \n",
    "    interaction_term, \n",
    "    quadratic_term, \n",
    "    n, \n",
    "    r2, \n",
    "    beta, \n",
    "    to_remove,\n",
    "    test_standard_error,\n",
    "    test_p_value,\n",
    "    test_t_value,\n",
    "    adjusted_standard_error,\n",
    "    adjusted_t_value\n",
    "  FROM \n",
    "    esg.papers_meta_analysis_new \n",
    "    LEFT JOIN (\n",
    "      SELECT \n",
    "        DISTINCT(title),\n",
    "        nr, \n",
    "        publication_year, \n",
    "        publication_type, \n",
    "        publication_name, \n",
    "        cnrs_ranking, \n",
    "        peer_reviewed, \n",
    "        study_focused_on_social_environmental_behaviour, \n",
    "        type_of_data, \n",
    "        study_focusing_on_developing_or_developed_countries\n",
    "      FROM \n",
    "        esg.papers_meta_analysis\n",
    "    ) as old on papers_meta_analysis_new.id = old.nr\n",
    "    -- WHERE to_remove = 'TO_KEEP'\n",
    "LEFT JOIN (\n",
    "SELECT \n",
    "        nr,\n",
    "        CAST(MIN(first_date_of_observations) as int) as first_date_of_observations,\n",
    "        CAST(MAX(last_date_of_observations)as int) as last_date_of_observations,\n",
    "        min(row_id_excel) as row_id_excel\n",
    "      FROM \n",
    "        esg.papers_meta_analysis\n",
    "        GROUP BY nr\n",
    ") as date_pub on papers_meta_analysis_new.id = date_pub.nr\n",
    "LEFT JOIN (\n",
    "SELECT \n",
    "  nr, \n",
    "  MIN(regions) as regions \n",
    "FROM \n",
    "  (\n",
    "    SELECT \n",
    "      nr, \n",
    "      CASE WHEN regions_of_selected_firms in (\n",
    "        'Cameroon', 'Egypt', 'Libya', 'Morocco', \n",
    "        'Nigeria'\n",
    "      ) THEN 'AFRICA' WHEN regions_of_selected_firms in ('GCC countries') THEN 'ARAB WORLD' WHEN regions_of_selected_firms in (\n",
    "        'India', 'Indonesia', 'Taiwan', 'Vietnam', \n",
    "        'Australia', 'China', 'Iran', 'Malaysia', \n",
    "        'Pakistan', 'South Korea', 'Bangladesh'\n",
    "      ) THEN 'ASIA AND PACIFIC' WHEN regions_of_selected_firms in (\n",
    "        'Spain', '20 European countries', \n",
    "        'United Kingdom', 'France', 'Germany, Italy, the Netherlands and United Kingdom', \n",
    "        'Turkey', 'UK'\n",
    "      ) THEN 'EUROPE' WHEN regions_of_selected_firms in ('Latin America', 'Brazil') THEN 'LATIN AMERICA' WHEN regions_of_selected_firms in ('USA', 'US', 'U.S.', 'Canada') THEN 'NORTH AMERICA' ELSE 'WORLDWIDE' END AS regions \n",
    "    FROM \n",
    "      papers_meta_analysis\n",
    "  ) \n",
    "GROUP BY \n",
    "  nr\n",
    ") as reg on papers_meta_analysis_new.id = reg.nr\n",
    ") \n",
    "SELECT \n",
    "    to_remove, \n",
    "    id, \n",
    "    image,\n",
    "    row_id_excel,\n",
    "    row_id_google_spreadsheet,\n",
    "    table_refer,\n",
    "    incremental_id,\n",
    "    paper_name,\n",
    "    publication_name,\n",
    "    rank,\n",
    "    sjr, \n",
    "    sjr_best_quartile, \n",
    "    h_index, \n",
    "    total_docs_2020, \n",
    "    total_docs_3years, \n",
    "    total_refs, \n",
    "    total_cites_3years, \n",
    "    citable_docs_3years, \n",
    "    cites_doc_2years, \n",
    "    country ,\n",
    "    publication_year, \n",
    "    publication_type, \n",
    "    cnrs_ranking, \n",
    "    peer_reviewed, \n",
    "    study_focused_on_social_environmental_behaviour, \n",
    "    type_of_data, \n",
    "    regions,\n",
    "    study_focusing_on_developing_or_developed_countries,\n",
    "    first_date_of_observations,\n",
    "    last_date_of_observations - (windows/2) as mid_year,\n",
    "    last_date_of_observations,\n",
    "    kyoto,\n",
    "    financial_crisis,\n",
    "    windows,\n",
    "    adjusted_model_name,\n",
    "    adjusted_model,\n",
    "    dependent, \n",
    "    adjusted_dependent,\n",
    "    independent,\n",
    "    adjusted_independent, \n",
    "    social,\n",
    "    environmental,\n",
    "    governance,\n",
    "    sign_of_effect,\n",
    "    target,\n",
    "    p_value_significant,\n",
    "    sign_positive,\n",
    "    sign_negative,\n",
    "    lag, \n",
    "    interaction_term, \n",
    "    quadratic_term, \n",
    "    n, \n",
    "    r2, \n",
    "    beta, \n",
    "    test_standard_error,\n",
    "    test_p_value,\n",
    "    test_t_value,\n",
    "    adjusted_standard_error,\n",
    "    adjusted_t_value \n",
    "FROM \n",
    "  merge \n",
    "  LEFT JOIN (\n",
    "    SELECT \n",
    "      rank, \n",
    "      regexp_replace(\n",
    "        regexp_replace(\n",
    "          lower(title), \n",
    "          '\\&', \n",
    "          'and'\n",
    "        ), \n",
    "        '\\-', \n",
    "        ' '\n",
    "      ) as title, \n",
    "      sjr, \n",
    "      sjr_best_quartile, \n",
    "      h_index, \n",
    "      total_docs_2020, \n",
    "      total_docs_3years, \n",
    "      total_refs, \n",
    "      total_cites_3years, \n",
    "      citable_docs_3years, \n",
    "      cites_doc_2years, \n",
    "      country \n",
    "    FROM \n",
    "      \"scimago\".\"journals_scimago\"\n",
    "    WHERE sourceid not in (16400154787)\n",
    "  ) as journal on merge.publication_name = journal.title\n",
    "\"\"\".format(DatabaseName, table_name)\n",
    "output = s3.run_query(\n",
    "                    query=query,\n",
    "                    database=DatabaseName,\n",
    "                    s3_output=s3_output,\n",
    "                )\n",
    "output"
   ]
  },
  {
   "cell_type": "code",
   "execution_count": null,
   "metadata": {},
   "outputs": [],
   "source": [
    "query_count = \"\"\"\n",
    "SELECT COUNT(*) AS CNT\n",
    "FROM {}.{} \n",
    "\"\"\".format(DatabaseName, table_name)\n",
    "output = s3.run_query(\n",
    "                    query=query_count,\n",
    "                    database=DatabaseName,\n",
    "                    s3_output=s3_output_example,\n",
    "    filename = 'count_{}'.format(table_name)\n",
    "                )\n",
    "output"
   ]
  },
  {
   "cell_type": "markdown",
   "metadata": {},
   "source": [
    "# Update Glue catalogue and Github\n",
    "\n",
    "This step is mandatory to validate the query in the ETL."
   ]
  },
  {
   "cell_type": "markdown",
   "metadata": {},
   "source": [
    "## Create or update the data catalog\n",
    "\n",
    "The query is saved in the S3 (bucket `datalake-london`), but the comments are not available. Use the functions below to update the catalogue and Github\n"
   ]
  },
  {
   "cell_type": "markdown",
   "metadata": {},
   "source": [
    "Update the dictionary\n",
    "\n",
    "- DatabaseName:\n",
    "- TableName:\n",
    "- ~TablePrefix:~\n",
    "- input: \n",
    "- filename: Name of the notebook or Python script: to indicate\n",
    "- Task ID: from Coda\n",
    "- index_final_table: a list to indicate if the current table is used to prepare the final table(s). If more than one, pass the index. Start at 0\n",
    "- if_final: A boolean. Indicates if the current table is the final table -> the one the model will be used to be trained\n",
    "- schema: glue schema with comment\n",
    "- description: details query objective\n",
    "\n",
    "**Update schema**\n",
    "\n",
    "If `automatic = False` in `automatic_update`, then the function returns only the variables to update the comments. Manually add the comment, **then**, pass the new schema (only the missing comment) to the argument `new_schema`. \n",
    "\n",
    "To update the schema, please use the following structure\n",
    "\n",
    "```\n",
    "schema = [\n",
    "    {\n",
    "        \"Name\": \"VAR1\",\n",
    "        \"Type\": \"\",\n",
    "        \"Comment\": \"\"\n",
    "    },\n",
    "    {\n",
    "        \"Name\": \"VAR2\",\n",
    "        \"Type\": \"\",\n",
    "        \"Comment\": \"\"\n",
    "    }\n",
    "]\n",
    "```"
   ]
  },
  {
   "cell_type": "code",
   "execution_count": null,
   "metadata": {},
   "outputs": [],
   "source": [
    "%load_ext autoreload\n",
    "%autoreload 2\n",
    "import sys\n",
    "sys.path.append(os.path.join(parent_path, 'utils'))\n",
    "import make_toc\n",
    "import create_schema\n",
    "import create_report\n",
    "import update_glue_github"
   ]
  },
  {
   "cell_type": "markdown",
   "metadata": {},
   "source": [
    "The function below manages everything automatically. If the final table comes from more than one query, then pass a list of table in `list_tables` instead of `automatic`"
   ]
  },
  {
   "cell_type": "code",
   "execution_count": null,
   "metadata": {},
   "outputs": [],
   "source": [
    "list_input,  schema = update_glue_github.automatic_update(\n",
    "    list_tables = 'automatic',\n",
    "    automatic= True,\n",
    "    new_schema = None, ### override schema\n",
    "    client = client,\n",
    "    TableName = table_name,\n",
    "    query = query)"
   ]
  },
  {
   "cell_type": "code",
   "execution_count": null,
   "metadata": {},
   "outputs": [],
   "source": [
    "description = \"\"\"\n",
    "Create table with journal information, papers and coefficients for the meta analysis\n",
    "\"\"\"\n",
    "name_json = 'parameters_ETL_esg_metadata.json'\n",
    "partition_keys = [\"id\", 'incremental_id']\n",
    "notebookname = \"00_meta_analysis.ipynb\"\n",
    "dic_information = {\n",
    "    \"client\":client,\n",
    "    'bucket':bucket,\n",
    "    's3_output':s3_output,\n",
    "    'DatabaseName':DatabaseName,\n",
    "    'TableName':table_name,\n",
    "    'name_json':name_json,\n",
    "    'partition_keys':partition_keys,\n",
    "    'notebookname':notebookname,\n",
    "    'index_final_table':[0],\n",
    "    'if_final': 'True',\n",
    "    'schema':schema,\n",
    "    'description':description,\n",
    "    'query':query,\n",
    "    \"list_input\":list_input,\n",
    "    'list_input_automatic':True\n",
    "}"
   ]
  },
  {
   "cell_type": "code",
   "execution_count": null,
   "metadata": {},
   "outputs": [],
   "source": [
    "update_glue_github.update_glue_github(client = client,dic_information = dic_information)"
   ]
  },
  {
   "cell_type": "markdown",
   "metadata": {},
   "source": [
    "## Check Duplicates\n",
    "\n",
    "One of the most important step when creating a table is to check if the table contains duplicates. The cell below checks if the table generated before is empty of duplicates. The code uses the JSON file to create the query parsed in Athena. \n",
    "\n",
    "You are required to define the group(s) that Athena will use to compute the duplicate. For instance, your table can be grouped by COL1 and COL2 (need to be string or varchar), then pass the list ['COL1', 'COL2'] "
   ]
  },
  {
   "cell_type": "code",
   "execution_count": null,
   "metadata": {},
   "outputs": [],
   "source": [
    "update_glue_github.find_duplicates(\n",
    "    client = client,\n",
    "    bucket = bucket,\n",
    "    name_json = name_json,\n",
    "    partition_keys = partition_keys,\n",
    "    TableName= table_name\n",
    ")"
   ]
  },
  {
   "cell_type": "markdown",
   "metadata": {},
   "source": [
    "## Count missing values"
   ]
  },
  {
   "cell_type": "code",
   "execution_count": null,
   "metadata": {},
   "outputs": [],
   "source": [
    "update_glue_github.count_missing(client = client, name_json = name_json, bucket = bucket,TableName = table_name)"
   ]
  },
  {
   "cell_type": "markdown",
   "metadata": {},
   "source": [
    "# Update Github Data catalog\n",
    "\n",
    "The data catalog is available in Glue. Although, we might want to get a quick access to the tables in Github. In this part, we are generating a `README.md` in the folder `00_data_catalogue`. All tables used in the project will be added to the catalog. We use the ETL parameter file and the schema in Glue to create the README. \n",
    "\n",
    "Bear in mind the code will erase the previous README. "
   ]
  },
  {
   "cell_type": "code",
   "execution_count": null,
   "metadata": {},
   "outputs": [],
   "source": [
    "create_schema.make_data_schema_github(name_json = name_json)"
   ]
  },
  {
   "cell_type": "markdown",
   "metadata": {},
   "source": [
    "# Analytics\n",
    "\n",
    "In this part, we are providing basic summary statistic. Since we have created the tables, we can parse the schema in Glue and use our json file to automatically generates the analysis.\n",
    "\n",
    "The cells below execute the job in the key `ANALYSIS`. You need to change the `primary_key` and `secondary_key` "
   ]
  },
  {
   "cell_type": "markdown",
   "metadata": {},
   "source": [
    "For a full analysis of the table, please use the following Lambda function. Be patient, it can takes between 5 to 30 minutes. Times varies according to the number of columns in your dataset.\n",
    "\n",
    "Use the function as follow:\n",
    "\n",
    "- `output_prefix`:  s3://datalake-datascience/ANALYTICS/OUTPUT/TABLE_NAME/\n",
    "- `region`: region where the table is stored\n",
    "- `bucket`: Name of the bucket\n",
    "- `DatabaseName`: Name of the database\n",
    "- `table_name`: Name of the table\n",
    "- `group`: variables name to group to count the duplicates\n",
    "- `primary_key`: Variable name to perform the grouping -> Only one variable for now\n",
    "- `secondary_key`: Variable name to perform the secondary grouping -> Only one variable for now\n",
    "- `proba`: Chi-square analysis probabilitity\n",
    "- `y_var`: Continuous target variables\n",
    "\n",
    "Check the job processing in Sagemaker: https://eu-west-3.console.aws.amazon.com/sagemaker/home?region=eu-west-3#/processing-jobs\n",
    "\n",
    "The notebook is available: https://s3.console.aws.amazon.com/s3/buckets/datalake-datascience?region=eu-west-3&prefix=ANALYTICS/OUTPUT/&showversions=false\n",
    "\n",
    "Please, download the notebook on your local machine, and convert it to HTML:\n",
    "\n",
    "```\n",
    "cd \"/Users/thomas/Downloads/Notebook\"\n",
    "aws s3 cp s3://datalake-datascience/ANALYTICS/OUTPUT/asif_unzip_data_csv/Template_analysis_from_lambda-2020-11-22-08-12-20.ipynb .\n",
    "\n",
    "## convert HTML no code\n",
    "jupyter nbconvert --no-input --to html Template_analysis_from_lambda-2020-11-21-14-30-45.ipynb\n",
    "jupyter nbconvert --to html Template_analysis_from_lambda-2020-11-22-08-12-20.ipynb\n",
    "```\n",
    "\n",
    "Then upload the HTML to: https://s3.console.aws.amazon.com/s3/buckets/datalake-datascience?region=eu-west-3&prefix=ANALYTICS/HTML_OUTPUT/\n",
    "\n",
    "Add a new folder with the table name in upper case"
   ]
  },
  {
   "cell_type": "code",
   "execution_count": null,
   "metadata": {},
   "outputs": [],
   "source": [
    "import boto3\n",
    "\n",
    "key, secret_ = con.load_credential()\n",
    "client_lambda = boto3.client(\n",
    "    'lambda',\n",
    "    aws_access_key_id=key,\n",
    "    aws_secret_access_key=secret_,\n",
    "    region_name = region)"
   ]
  },
  {
   "cell_type": "code",
   "execution_count": null,
   "metadata": {},
   "outputs": [],
   "source": [
    "primary_key = ''\n",
    "secondary_key = ''\n",
    "y_var = ''"
   ]
  },
  {
   "cell_type": "code",
   "execution_count": null,
   "metadata": {},
   "outputs": [],
   "source": [
    "payload = {\n",
    "    \"input_path\": \"s3://datalake-datascience/ANALYTICS/TEMPLATE_NOTEBOOKS/template_analysis_from_lambda.ipynb\",\n",
    "    \"output_prefix\": \"s3://datalake-datascience/ANALYTICS/OUTPUT/{}/\".format(table_name.upper()),\n",
    "    \"parameters\": {\n",
    "        \"region\": \"{}\".format(region),\n",
    "        \"bucket\": \"{}\".format(bucket),\n",
    "        \"DatabaseName\": \"{}\".format(DatabaseName),\n",
    "        \"table_name\": \"{}\".format(table_name),\n",
    "        \"group\": \"{}\".format(','.join(partition_keys)),\n",
    "        \"keys\": \"{},{}\".format(primary_key,secondary_key),\n",
    "        \"y_var\": \"{}\".format(y_var),\n",
    "        \"threshold\":0\n",
    "    },\n",
    "}\n",
    "payload"
   ]
  },
  {
   "cell_type": "code",
   "execution_count": null,
   "metadata": {},
   "outputs": [],
   "source": [
    "#response = client_lambda.invoke(\n",
    "#    FunctionName='RunNotebook',\n",
    "#    InvocationType='RequestResponse',\n",
    "#    LogType='Tail',\n",
    "#    Payload=json.dumps(payload),\n",
    "#)\n",
    "#response"
   ]
  },
  {
   "cell_type": "markdown",
   "metadata": {},
   "source": [
    "# Generation report"
   ]
  },
  {
   "cell_type": "code",
   "execution_count": null,
   "metadata": {},
   "outputs": [],
   "source": [
    "import os, time, shutil, urllib, ipykernel, json\n",
    "from pathlib import Path\n",
    "from notebook import notebookapp"
   ]
  },
  {
   "cell_type": "code",
   "execution_count": null,
   "metadata": {},
   "outputs": [],
   "source": [
    "create_report.create_report(extension = \"html\", keep_code = True, notebookname =  notebookname)"
   ]
  },
  {
   "cell_type": "code",
   "execution_count": null,
   "metadata": {},
   "outputs": [],
   "source": [
    "create_schema.create_schema(name_json, path_save_image = os.path.join(parent_path, 'utils'))"
   ]
  },
  {
   "cell_type": "code",
   "execution_count": null,
   "metadata": {},
   "outputs": [],
   "source": [
    "### Update TOC in Github\n",
    "for p in [parent_path,\n",
    "          str(Path(path).parent),\n",
    "          os.path.join(str(Path(path).parent), \"00_download_data\"),\n",
    "          #os.path.join(str(Path(path).parent.parent), \"02_data_analysis\"),\n",
    "          #os.path.join(str(Path(path).parent.parent), \"02_data_analysis\", \"00_statistical_exploration\"),\n",
    "          #os.path.join(str(Path(path).parent.parent), \"02_data_analysis\", \"01_model_estimation\"),\n",
    "         ]:\n",
    "    try:\n",
    "        os.remove(os.path.join(p, 'README.md'))\n",
    "    except:\n",
    "        pass\n",
    "    path_parameter = os.path.join(parent_path,'utils', name_json)\n",
    "    md_lines =  make_toc.create_index(cwd = p, path_parameter = path_parameter)\n",
    "    md_out_fn = os.path.join(p,'README.md')\n",
    "    \n",
    "    if p == parent_path:\n",
    "    \n",
    "        make_toc.replace_index(md_out_fn, md_lines, Header = os.path.basename(p).replace('_', ' '), add_description = True, path_parameter = path_parameter)\n",
    "    else:\n",
    "        make_toc.replace_index(md_out_fn, md_lines, Header = os.path.basename(p).replace('_', ' '), add_description = False)"
   ]
  }
 ],
 "metadata": {
  "jupytext": {
   "formats": "ipynb,md"
  },
  "kernel_info": {
   "name": "python3"
  },
  "kernelspec": {
   "display_name": "Python 3",
   "language": "python",
   "name": "python3"
  },
  "language_info": {
   "codemirror_mode": {
    "name": "ipython",
    "version": 3
   },
   "file_extension": ".py",
   "mimetype": "text/x-python",
   "name": "python",
   "nbconvert_exporter": "python",
   "pygments_lexer": "ipython3",
   "version": "3.8.5"
  },
  "nteract": {
   "version": "0.22.0"
  },
  "toc": {
   "base_numbering": 1,
   "nav_menu": {},
   "number_sections": true,
   "sideBar": true,
   "skip_h1_title": false,
   "title_cell": "Table of Contents",
   "title_sidebar": "Contents",
   "toc_cell": false,
   "toc_position": {},
   "toc_section_display": true,
   "toc_window_display": false
  }
 },
 "nbformat": 4,
 "nbformat_minor": 4
}
